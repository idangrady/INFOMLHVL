{
 "cells": [
  {
   "cell_type": "markdown",
   "metadata": {},
   "source": [
    "# 🔥 Torch Intro 🔥\n",
    "\n",
    "## What is PyTorch?\n",
    "PyTorch (or just torch) is a python deep learning library, by now getting widely adopted both in research and industry. Like most deep learning libraries it employs GPU accelaration; unlike most deep learning libraries, it supports dynamic computational graphs and deep python integration, enabling easy experimentation and code inspection. It provides high-level abstractions but also allows for low-level access to its primitives. You can read more about PyTorch at the official [site](https://pytorch.org/).\n",
    "\n",
    "## Installing PyTorch on your machine\n",
    "Install PyTorch by following the guidelines here [here](https://pytorch.org/get-started/locally/).\n",
    "\n",
    "<div class=\"alert alert-block alert-info\">\n",
    "<b>Note:</b> If you have an nVidia GPU, installing a CUDA version of PyTorch will allow you to utilize it, significantly speeding up computation.\n",
    "</div>\n",
    "\n",
    "# This Tutorial\n",
    "This tutorial will take you through PyTorch's main functionalities. It only aims to give you some insight on how to use PyTorch and is by no means a full tutorial on neural networks. Prior knowledge of neural netowrks and their inner workings (i.e. linear algebra, gradient-based optimization, back-propagation, etc.) will certainly prove useful. You are assumed to be largely fluent in python.\n",
    "\n",
    "# Table of Contents\n",
    "1. [Tensors](#1)\n",
    "    1. [Tensor Types](#1a)\n",
    "    2. [Instantiating Tensors](#1b)\n",
    "    3. [Basic Tensor Operations](#1c)\n",
    "    4. [Exercises](#1d)\n",
    "2. [Automatic Differentation](#2)\n",
    "    1. [Autograd](#2a)\n",
    "    2. [Exercises](#2b)\n",
    "3. [Neural Networks](#3)\n",
    "    1. [Custom Neural Networks](#3a)\n",
    "    2. [Loss Functions](#3b)\n",
    "    3. [Optimizers](#3c)\n",
    "    4. [Exercises](#3d)\n",
    "4. [Putting Everything Together](#4)\n",
    "\n",
    "\n",
    "For a more in-depth overview of PyTorch's capabilities, refer to the [official documentation](https://pytorch.org/docs/stable/index.html) (this link will prove handy for your assignments-- keep it close and use it often).\n",
    "\n",
    "---"
   ]
  },
  {
   "cell_type": "markdown",
   "metadata": {},
   "source": [
    "#### Getting started\n",
    "Let's verify your torch installation is working by trying to import it."
   ]
  },
  {
   "cell_type": "code",
   "execution_count": 2,
   "metadata": {},
   "outputs": [],
   "source": [
    "import torch"
   ]
  },
  {
   "cell_type": "markdown",
   "metadata": {},
   "source": [
    "<a id='1'></a>\n",
    "## 1. Tensors\n",
    "\n",
    "A [Tensor](https://pytorch.org/docs/stable/tensors.html) is the building block of any PyTorch program; it is the abstraction that stores n-ary arrays of numbers (i.e. tensors) and provides various functionalities for processing them. \n",
    "\n",
    "<a id='1a'></a>\n",
    "### A. Tensor Types\n",
    "\n",
    "There are 16 types of Tensors, distinguished by their `dtypes` (the sort of numbers stored within them) and the `device` they can be accessed by (either GPU or CPU).\n",
    "\n",
    "The different Tensor types and their corresponding classes are shown below:\n",
    "\n",
    "| Description | dtype | CPU Tensor Class | GPU Tensor Class |\n",
    "| --- | --- | --- | --- |\n",
    "| Full precision float | `torch.float32` | `torch.FloatTensor` | `torch.cuda.FloatTensor`| \n",
    "| Half precision float | `torch.float16` | `torch.HalfTensor` | `torch.cuda.HalfTensor` |\n",
    "| Double precision float | `torch.float64` | `torch.DoubleTensor` | `torch.cuda.DoubleTensor` |\n",
    "| 8-bit unsigned integer | `torch.uint8` | `torch.ByteTensor` | `torch.cuda.ByteTensor` |\n",
    "| 8-bit signed integer | `torch.int8` | `torch.CharTensor` | `torch.CharTensor` |\n",
    "| 16-bit signed integer | `torch.int16` | `torch.ShortTensor` | `torch.cuda.ShortTensor` |\n",
    "| 32-bit signed integer | `torch.int32` | `torch.IntTensor` | `torch.cuda.IntTensor` |\n",
    "| 64-bit signed integer | `torch.int64` | `torch.LongTensor` | `torch.cuda.LongTensor` |\n",
    "\n",
    "<div class=\"alert alert-block alert-warning\">\n",
    "<b>Warning:</b>\n",
    "Interaction between Tensors of different devices or dtypes is not permitted (so make sure you are consistent). \n",
    "</div>\n",
    "\n",
    "We are mostly interested in full precision floats and long integers (on either device), so we can forget about the rest of them for now."
   ]
  },
  {
   "cell_type": "markdown",
   "metadata": {},
   "source": [
    "For the sake of convenience, we will now specify the device used by the rest of the tutorial. If you have the cuda version installed but would rather not use it, change the snippet below."
   ]
  },
  {
   "cell_type": "code",
   "execution_count": 4,
   "metadata": {},
   "outputs": [
    {
     "name": "stdout",
     "output_type": "stream",
     "text": [
      "Using cpu\n"
     ]
    }
   ],
   "source": [
    "if torch.cuda.is_available():\n",
    "    device = \"cuda\"\n",
    "else:\n",
    "    device = \"cpu\"\n",
    "\n",
    "print(\"Using {}\".format(device))"
   ]
  },
  {
   "cell_type": "markdown",
   "metadata": {},
   "source": [
    "<a id='1b'></a>\n",
    "### B. Instantiating Tensors\n",
    "Tensors can be instantiated in a number of ways. When we want to construct a tensor of fixed dimensionality (shape) with random values, we may simply call the appropriate class constructor with the desired dimensionality as the argument."
   ]
  },
  {
   "cell_type": "code",
   "execution_count": 3,
   "metadata": {},
   "outputs": [
    {
     "name": "stdout",
     "output_type": "stream",
     "text": [
      "torch.Size([5])\n",
      "torch.int64\n",
      "tensor([                  0,                   0,                   0,\n",
      "        8319683848551211643, 3180222411935070754])\n"
     ]
    }
   ],
   "source": [
    "my_first_long_tensor = torch.LongTensor(5)  # a vector of 5 longs\n",
    "print(my_first_long_tensor.shape)\n",
    "print(my_first_long_tensor.dtype)\n",
    "print(my_first_long_tensor)"
   ]
  },
  {
   "cell_type": "code",
   "execution_count": 4,
   "metadata": {},
   "outputs": [
    {
     "name": "stdout",
     "output_type": "stream",
     "text": [
      "torch.Size([5, 5])\n",
      "torch.float32\n",
      "tensor([[1.0838e-08, 2.6260e-06, 1.6504e-07, 1.2399e+16, 2.1707e-18],\n",
      "        [7.0952e+22, 1.7748e+28, 1.8176e+31, 7.2708e+31, 5.0778e+31],\n",
      "        [3.2608e-12, 1.7728e+28, 7.0367e+22, 2.1715e-18, 4.1946e+21],\n",
      "        [1.0675e-08, 2.1084e-07, 1.0488e-08, 1.6536e-04, 1.0471e-11],\n",
      "        [2.6705e+23, 1.7662e-04, 8.4944e+20, 2.1707e-18, 7.1450e+31]])\n"
     ]
    }
   ],
   "source": [
    "my_first_float_tensor = torch.FloatTensor(5, 5)  # a 5 by 5 matrix of floats\n",
    "print(my_first_float_tensor.shape)\n",
    "print(my_first_float_tensor.dtype)\n",
    "print(my_first_float_tensor)"
   ]
  },
  {
   "cell_type": "markdown",
   "metadata": {},
   "source": [
    "There are some useful shorthands for constructing tensors with commonly used values. Let's use some of them."
   ]
  },
  {
   "cell_type": "code",
   "execution_count": 5,
   "metadata": {},
   "outputs": [
    {
     "data": {
      "text/plain": [
       "tensor([[2, 9, 6],\n",
       "        [4, 7, 8],\n",
       "        [5, 0, 2]])"
      ]
     },
     "execution_count": 5,
     "metadata": {},
     "output_type": "execute_result"
    }
   ],
   "source": [
    "a = torch.zeros((2, 3, 4))  # a 2 by 3 by 4 tensor of zeros\n",
    "b = torch.ones(42)  # a vector of 42 ones\n",
    "c = torch.eye(3)  # a 3 by 3 identity matrix\n",
    "d = torch.rand((32, 10, 300))  # a 32 by 10 by 300 tensor of randoms\n",
    "e = torch.randint(low=0, high=10, size=(3, 3))  # a 3 by 3 matrix of random integers between 0 (incl.) and 10 (excl.)\n",
    "f = torch.arange(10)  # a vector containing the numbers 0 to 9 in ascending order\n",
    "\n",
    "e"
   ]
  },
  {
   "cell_type": "markdown",
   "metadata": {},
   "source": [
    "We can explicitly set the `dtype` and `device` arguments to specify the tensor's type and device (most often these default to torch.float and cpu)."
   ]
  },
  {
   "cell_type": "code",
   "execution_count": 6,
   "metadata": {},
   "outputs": [],
   "source": [
    "a_long = torch.zeros((2, 3, 4), dtype=torch.long, device=device)\n",
    "f_float = torch.arange(10, dtype=torch.float, device=device)"
   ]
  },
  {
   "cell_type": "markdown",
   "metadata": {},
   "source": [
    "We can always query a tensor's contents, shape, dtype and device."
   ]
  },
  {
   "cell_type": "code",
   "execution_count": 7,
   "metadata": {},
   "outputs": [
    {
     "name": "stdout",
     "output_type": "stream",
     "text": [
      "torch.Size([2, 3, 4])\n",
      "torch.float32\n",
      "cpu\n",
      "check: tensor([[[0., 0., 0., 0.],\n",
      "         [0., 0., 0., 0.],\n",
      "         [0., 0., 0., 0.]],\n",
      "\n",
      "        [[0., 0., 0., 0.],\n",
      "         [0., 0., 0., 0.],\n",
      "         [0., 0., 0., 0.]]])\n",
      "\n",
      "torch.Size([2, 3, 4])\n",
      "torch.int64\n",
      "cpu\n",
      "check: tensor([[[0, 0, 0, 0],\n",
      "         [0, 0, 0, 0],\n",
      "         [0, 0, 0, 0]],\n",
      "\n",
      "        [[0, 0, 0, 0],\n",
      "         [0, 0, 0, 0],\n",
      "         [0, 0, 0, 0]]])\n",
      "\n",
      "torch.Size([42])\n",
      "torch.float32\n",
      "cpu\n",
      "check: tensor([1., 1., 1., 1., 1., 1., 1., 1., 1., 1., 1., 1., 1., 1., 1., 1., 1., 1.,\n",
      "        1., 1., 1., 1., 1., 1., 1., 1., 1., 1., 1., 1., 1., 1., 1., 1., 1., 1.,\n",
      "        1., 1., 1., 1., 1., 1.])\n",
      "\n",
      "torch.Size([3, 3])\n",
      "torch.float32\n",
      "cpu\n",
      "check: tensor([[1., 0., 0.],\n",
      "        [0., 1., 0.],\n",
      "        [0., 0., 1.]])\n",
      "\n",
      "torch.Size([32, 10, 300])\n",
      "torch.float32\n",
      "cpu\n",
      "check: tensor([[[0.5889, 0.7656, 0.3175,  ..., 0.3641, 0.8456, 0.7773],\n",
      "         [0.0042, 0.2048, 0.4194,  ..., 0.1706, 0.4415, 0.6417],\n",
      "         [0.0917, 0.5632, 0.6337,  ..., 0.2769, 0.2299, 0.3481],\n",
      "         ...,\n",
      "         [0.4440, 0.2607, 0.8657,  ..., 0.4164, 0.0209, 0.1492],\n",
      "         [0.2178, 0.8387, 0.7183,  ..., 0.1654, 0.3210, 0.3410],\n",
      "         [0.3388, 0.9529, 0.3892,  ..., 0.1865, 0.9520, 0.8572]],\n",
      "\n",
      "        [[0.0979, 0.6409, 0.2344,  ..., 0.6775, 0.7612, 0.6690],\n",
      "         [0.8322, 0.9561, 0.0607,  ..., 0.6839, 0.9388, 0.1097],\n",
      "         [0.6535, 0.5643, 0.8846,  ..., 0.0921, 0.1769, 0.6548],\n",
      "         ...,\n",
      "         [0.3284, 0.1790, 0.0459,  ..., 0.8578, 0.4824, 0.4679],\n",
      "         [0.4078, 0.6344, 0.3769,  ..., 0.1653, 0.3445, 0.4980],\n",
      "         [0.3963, 0.6004, 0.0046,  ..., 0.7770, 0.3778, 0.0066]],\n",
      "\n",
      "        [[0.2729, 0.6257, 0.0223,  ..., 0.0603, 0.1023, 0.7237],\n",
      "         [0.1291, 0.8546, 0.3131,  ..., 0.4938, 0.9429, 0.9390],\n",
      "         [0.4332, 0.9424, 0.8387,  ..., 0.1863, 0.4220, 0.0758],\n",
      "         ...,\n",
      "         [0.4742, 0.5941, 0.9462,  ..., 0.6782, 0.4543, 0.7852],\n",
      "         [0.0725, 0.3563, 0.9060,  ..., 0.4442, 0.3604, 0.2545],\n",
      "         [0.3618, 0.2249, 0.8760,  ..., 0.9394, 0.0012, 0.2682]],\n",
      "\n",
      "        ...,\n",
      "\n",
      "        [[0.5944, 0.1824, 0.2796,  ..., 0.5910, 0.6500, 0.6744],\n",
      "         [0.3229, 0.1053, 0.6609,  ..., 0.8812, 0.6416, 0.7406],\n",
      "         [0.8787, 0.4804, 0.3744,  ..., 0.4559, 0.3525, 0.8513],\n",
      "         ...,\n",
      "         [0.4937, 0.0735, 0.4268,  ..., 0.3479, 0.7535, 0.5111],\n",
      "         [0.8671, 0.6931, 0.6568,  ..., 0.3004, 0.9029, 0.1546],\n",
      "         [0.0751, 0.5842, 0.5631,  ..., 0.3231, 0.2016, 0.2804]],\n",
      "\n",
      "        [[0.1454, 0.3538, 0.6962,  ..., 0.0376, 0.3238, 0.6752],\n",
      "         [0.1800, 0.3055, 0.4912,  ..., 0.1551, 0.9575, 0.7671],\n",
      "         [0.3453, 0.5972, 0.9664,  ..., 0.4571, 0.2482, 0.1914],\n",
      "         ...,\n",
      "         [0.1875, 0.6992, 0.6629,  ..., 0.7946, 0.8539, 0.3406],\n",
      "         [0.9434, 0.6149, 0.0847,  ..., 0.3128, 0.8102, 0.6846],\n",
      "         [0.3087, 0.9860, 0.0132,  ..., 0.4570, 0.3769, 0.5332]],\n",
      "\n",
      "        [[0.8304, 0.5297, 0.4294,  ..., 0.1242, 0.9550, 0.5686],\n",
      "         [0.1033, 0.7178, 0.1023,  ..., 0.0995, 0.0844, 0.8098],\n",
      "         [0.6690, 0.0240, 0.8615,  ..., 0.5738, 0.6468, 0.1001],\n",
      "         ...,\n",
      "         [0.5914, 0.9237, 0.8895,  ..., 0.3452, 0.6484, 0.6764],\n",
      "         [0.1280, 0.2927, 0.6139,  ..., 0.1138, 0.9858, 0.3988],\n",
      "         [0.9306, 0.2644, 0.5120,  ..., 0.9040, 0.2395, 0.8183]]])\n",
      "\n",
      "torch.Size([3, 3])\n",
      "torch.int64\n",
      "cpu\n",
      "check: tensor([[2, 9, 6],\n",
      "        [4, 7, 8],\n",
      "        [5, 0, 2]])\n",
      "\n",
      "torch.Size([10])\n",
      "torch.int64\n",
      "cpu\n",
      "check: tensor([0, 1, 2, 3, 4, 5, 6, 7, 8, 9])\n",
      "\n",
      "torch.Size([10])\n",
      "torch.float32\n",
      "cpu\n",
      "check: tensor([0., 1., 2., 3., 4., 5., 6., 7., 8., 9.])\n",
      "\n"
     ]
    }
   ],
   "source": [
    "for te in [a, a_long, b, c, d, e, f, f_float]:\n",
    "    print(te.shape)\n",
    "    print(te.dtype)\n",
    "    print(te.device)\n",
    "    print(f\"check: {te}\")\n",
    "    print()"
   ]
  },
  {
   "cell_type": "markdown",
   "metadata": {},
   "source": [
    "We can create a tensor with the same size as an already existing one."
   ]
  },
  {
   "cell_type": "code",
   "execution_count": 8,
   "metadata": {},
   "outputs": [
    {
     "name": "stdout",
     "output_type": "stream",
     "text": [
      "torch.Size([32, 10, 300])\n",
      "torch.Size([32, 10, 300])\n",
      "torch.Size([32, 10, 300])\n"
     ]
    }
   ],
   "source": [
    "d = torch.rand((32, 10, 300))\n",
    "\n",
    "like_d_rand = torch.rand_like(d) # a 32 by 10 by 300 tensor of random values\n",
    "print(like_d_rand.shape)\n",
    "\n",
    "like_d_ones = torch.ones_like(d) # a 32 by 10 by 300 tensor of ones \n",
    "print(like_d_ones.shape)\n",
    "\n",
    "like_d_zeros = torch.zeros_like(d) # a 32 by 10 by 300 tensor of zeros\n",
    "print(like_d_zeros.shape)"
   ]
  },
  {
   "cell_type": "code",
   "execution_count": null,
   "metadata": {},
   "outputs": [],
   "source": []
  },
  {
   "cell_type": "markdown",
   "metadata": {},
   "source": [
    "We can also specify the values of a tensor by passing a list (of lists*) of values during its construction."
   ]
  },
  {
   "cell_type": "code",
   "execution_count": 9,
   "metadata": {},
   "outputs": [
    {
     "name": "stdout",
     "output_type": "stream",
     "text": [
      "tensor([[1, 2, 3],\n",
      "        [4, 5, 6],\n",
      "        [7, 8, 9]])\n",
      "torch.Size([3, 3])\n",
      "torch.int64\n"
     ]
    }
   ],
   "source": [
    "a = torch.tensor([[1,2,3], [4,5,6], [7,8,9]], device=device)\n",
    "print(a)\n",
    "print(a.shape)\n",
    "print(a.dtype)"
   ]
  },
  {
   "cell_type": "markdown",
   "metadata": {},
   "source": [
    "Notice that PyTorch automatically assumed that the tensor we specified should be of type long (because we only provided integers as the tensor's contents). We could of course avoid this by manually specifying the dtype. Alternatively, we can alter the dtype and/or device post-construction."
   ]
  },
  {
   "cell_type": "code",
   "execution_count": 10,
   "metadata": {},
   "outputs": [
    {
     "name": "stdout",
     "output_type": "stream",
     "text": [
      "torch.int64\n",
      "torch.float32\n",
      "cpu\n"
     ]
    }
   ],
   "source": [
    "print(a.dtype)\n",
    "a = a.to(torch.float)\n",
    "print(a.dtype)\n",
    "a = a.to(\"cpu\")  # or alternatively, a = a.cpu()\n",
    "print(a.device)"
   ]
  },
  {
   "cell_type": "markdown",
   "metadata": {},
   "source": [
    "Finally, a torch tensor can also be directy constructed by (or converted to) a numpy array. Converting to a numpy array only works for cpu tensors."
   ]
  },
  {
   "cell_type": "code",
   "execution_count": 11,
   "metadata": {},
   "outputs": [
    {
     "name": "stdout",
     "output_type": "stream",
     "text": [
      "[[0.16289442 0.90387473]\n",
      " [0.60027065 0.15380306]]\n",
      "\n",
      "tensor([[0.1629, 0.9039],\n",
      "        [0.6003, 0.1538]], dtype=torch.float64)\n",
      "\n",
      "[[0.16289442 0.90387473]\n",
      " [0.60027065 0.15380306]]\n"
     ]
    }
   ],
   "source": [
    "import numpy as np\n",
    "a_np = np.random.random((2, 2))\n",
    "a_torch = torch.tensor(a_np, device=device)\n",
    "print(a_np)\n",
    "print()\n",
    "print(a_torch)\n",
    "print()\n",
    "a_np_2 = a_torch.cpu().numpy() # to ask why do we do this operation if the tenser is already on the cpu? Or did not i underdstand that correctly!\n",
    "print(a_np_2)"
   ]
  },
  {
   "cell_type": "code",
   "execution_count": 12,
   "metadata": {},
   "outputs": [],
   "source": [
    "del (\n",
    "    my_first_long_tensor, my_first_float_tensor, a, b, c, d, e, f, a_long, \n",
    "    f_float, like_d_rand, like_d_ones, like_d_zeros, a_np, a_torch, a_np_2\n",
    ")"
   ]
  },
  {
   "cell_type": "markdown",
   "metadata": {},
   "source": [
    "<a id='1c'></a>\n",
    "### C. Basic Tensor Operations\n",
    "Tensors and their contents are not hidden by the framework -- they are immediatelly accessible to us and we can interact with them in many ways, while being able to inspect the results of our actions. Let's walk through some of the most common usecases."
   ]
  },
  {
   "cell_type": "markdown",
   "metadata": {},
   "source": [
    "#### Indexing and Slicing\n",
    "Standard python indexing and slicing applies to torch tensors. Let's remember how that works -- first we will need a random matrix to experiment with."
   ]
  },
  {
   "cell_type": "code",
   "execution_count": 13,
   "metadata": {},
   "outputs": [
    {
     "name": "stdout",
     "output_type": "stream",
     "text": [
      "tensor([[0.7891, 0.0090, 0.5989],\n",
      "        [0.6931, 0.5501, 0.8272],\n",
      "        [0.8719, 0.9228, 0.1525],\n",
      "        [0.5907, 0.8594, 0.4941],\n",
      "        [0.8607, 0.9456, 0.5137]])\n"
     ]
    }
   ],
   "source": [
    "a = torch.rand((5, 3), device=device)  \n",
    "print(a)"
   ]
  },
  {
   "cell_type": "markdown",
   "metadata": {},
   "source": [
    "<div class=\"alert alert-block alert-warning\">\n",
    "<b>Remember!</b>\n",
    "Indexing starts from zero\n",
    "</div>\n",
    "\n",
    "Now let's try retrieving the 3rd item of the 1st row."
   ]
  },
  {
   "cell_type": "code",
   "execution_count": 14,
   "metadata": {},
   "outputs": [
    {
     "name": "stdout",
     "output_type": "stream",
     "text": [
      "tensor(0.5989)\n"
     ]
    }
   ],
   "source": [
    "b = a[0][2]\n",
    "print(b)"
   ]
  },
  {
   "cell_type": "markdown",
   "metadata": {},
   "source": [
    "Note that even though it's just one element, it's still a tensor and not a float value. In order to get the value itself, we can call `item()`."
   ]
  },
  {
   "cell_type": "code",
   "execution_count": 15,
   "metadata": {},
   "outputs": [
    {
     "name": "stdout",
     "output_type": "stream",
     "text": [
      "False\n",
      "True\n"
     ]
    },
    {
     "data": {
      "text/plain": [
       "0.598875880241394"
      ]
     },
     "execution_count": 15,
     "metadata": {},
     "output_type": "execute_result"
    }
   ],
   "source": [
    "print(type(b) is float)\n",
    "print(type(b.item()) is float)\n",
    "b.item()"
   ]
  },
  {
   "cell_type": "markdown",
   "metadata": {},
   "source": [
    "What if we wanted the first three rows of the matrix instead?"
   ]
  },
  {
   "cell_type": "code",
   "execution_count": 16,
   "metadata": {},
   "outputs": [
    {
     "name": "stdout",
     "output_type": "stream",
     "text": [
      "tensor([[0.7891, 0.0090, 0.5989],\n",
      "        [0.6931, 0.5501, 0.8272],\n",
      "        [0.8719, 0.9228, 0.1525]])\n"
     ]
    }
   ],
   "source": [
    "c = a[:3]\n",
    "print(c)"
   ]
  },
  {
   "cell_type": "markdown",
   "metadata": {},
   "source": [
    "Or its third column?"
   ]
  },
  {
   "cell_type": "code",
   "execution_count": 17,
   "metadata": {},
   "outputs": [
    {
     "name": "stdout",
     "output_type": "stream",
     "text": [
      "tensor([0.5989, 0.8272, 0.1525, 0.4941, 0.5137])\n"
     ]
    }
   ],
   "source": [
    "c = a[:, 2]\n",
    "print(c)"
   ]
  },
  {
   "cell_type": "markdown",
   "metadata": {},
   "source": [
    "Or every second element of the first column, starting from the second?"
   ]
  },
  {
   "cell_type": "code",
   "execution_count": 18,
   "metadata": {},
   "outputs": [
    {
     "name": "stdout",
     "output_type": "stream",
     "text": [
      "tensor([0.6931, 0.8607])\n"
     ]
    }
   ],
   "source": [
    "c = a[1::3, 0]\n",
    "print(c)"
   ]
  },
  {
   "cell_type": "markdown",
   "metadata": {},
   "source": [
    "But now in reverse, starting from the last?!"
   ]
  },
  {
   "cell_type": "code",
   "execution_count": 19,
   "metadata": {},
   "outputs": [
    {
     "ename": "ValueError",
     "evalue": "negative step not yet supported",
     "output_type": "error",
     "traceback": [
      "\u001b[1;31m---------------------------------------------------------------------------\u001b[0m",
      "\u001b[1;31mValueError\u001b[0m                                Traceback (most recent call last)",
      "\u001b[1;32m<ipython-input-19-750cb89b0dfc>\u001b[0m in \u001b[0;36m<module>\u001b[1;34m\u001b[0m\n\u001b[1;32m----> 1\u001b[1;33m \u001b[0mc\u001b[0m \u001b[1;33m=\u001b[0m \u001b[0ma\u001b[0m\u001b[1;33m[\u001b[0m\u001b[1;33m-\u001b[0m\u001b[1;36m1\u001b[0m\u001b[1;33m:\u001b[0m\u001b[1;33m:\u001b[0m\u001b[1;33m-\u001b[0m\u001b[1;36m2\u001b[0m\u001b[1;33m,\u001b[0m \u001b[1;36m0\u001b[0m\u001b[1;33m]\u001b[0m\u001b[1;33m\u001b[0m\u001b[1;33m\u001b[0m\u001b[0m\n\u001b[0m\u001b[0;32m      2\u001b[0m \u001b[0mprint\u001b[0m\u001b[1;33m(\u001b[0m\u001b[0mc\u001b[0m\u001b[1;33m)\u001b[0m\u001b[1;33m\u001b[0m\u001b[1;33m\u001b[0m\u001b[0m\n",
      "\u001b[1;31mValueError\u001b[0m: negative step not yet supported"
     ]
    }
   ],
   "source": [
    "c = a[-1::-2, 0]\n",
    "print(c)"
   ]
  },
  {
   "cell_type": "markdown",
   "metadata": {},
   "source": [
    "Well, perhaps not..."
   ]
  },
  {
   "cell_type": "markdown",
   "metadata": {},
   "source": [
    "We can also select the maximum element from the tensor with `argmax` or the top K elements with `topk`."
   ]
  },
  {
   "cell_type": "code",
   "execution_count": 20,
   "metadata": {},
   "outputs": [
    {
     "name": "stdout",
     "output_type": "stream",
     "text": [
      "tensor([[0.7891, 0.0090, 0.5989],\n",
      "        [0.6931, 0.5501, 0.8272],\n",
      "        [0.8719, 0.9228, 0.1525],\n",
      "        [0.5907, 0.8594, 0.4941],\n",
      "        [0.8607, 0.9456, 0.5137]])\n",
      "tensor([0, 2, 1, 1, 1])\n",
      "\n",
      "torch.return_types.topk(\n",
      "values=tensor([[0.7891, 0.5989, 0.0090],\n",
      "        [0.8272, 0.6931, 0.5501],\n",
      "        [0.9228, 0.8719, 0.1525],\n",
      "        [0.8594, 0.5907, 0.4941],\n",
      "        [0.9456, 0.8607, 0.5137]]),\n",
      "indices=tensor([[0, 2, 1],\n",
      "        [2, 0, 1],\n",
      "        [1, 0, 2],\n",
      "        [1, 0, 2],\n",
      "        [1, 0, 2]]))\n"
     ]
    },
    {
     "data": {
      "text/plain": [
       "tensor([1, 2, 2, 2])"
      ]
     },
     "execution_count": 20,
     "metadata": {},
     "output_type": "execute_result"
    }
   ],
   "source": [
    "print(a)\n",
    "print(a.argmax(dim=1)) # returns the indices of the maximum values across the specified dimension\n",
    "print()\n",
    "print(a.topk(dim=1, k=3))# returns both the indices and the values of the top K elements\n",
    "\n",
    "lll = (a.topk(dim=1, k=3)[1])\n",
    "lll[1:,2]\n"
   ]
  },
  {
   "cell_type": "markdown",
   "metadata": {},
   "source": [
    "#### Value Assignment\n",
    "We can use the exact same scheme to assign values to tensors."
   ]
  },
  {
   "cell_type": "code",
   "execution_count": 21,
   "metadata": {},
   "outputs": [
    {
     "name": "stdout",
     "output_type": "stream",
     "text": [
      "tensor([[0.0000, 0.0090, 0.5989],\n",
      "        [0.6931, 0.5501, 0.8272],\n",
      "        [0.8719, 0.9228, 0.1525],\n",
      "        [0.5907, 0.8594, 0.4941],\n",
      "        [0.8607, 0.9456, 0.5137]])\n",
      "\n",
      "tensor([[0.6817, 0.2824, 0.6594],\n",
      "        [0.6588, 0.0807, 0.3460],\n",
      "        [0.8400, 0.3421, 0.7408],\n",
      "        [0.7074, 0.1815, 0.0544],\n",
      "        [0.2658, 0.8933, 0.5040]])\n",
      "\n",
      "tensor([[0.0000, 0.0090, 0.5989],\n",
      "        [0.8400, 0.3421, 0.7408],\n",
      "        [0.8719, 0.9228, 0.1525],\n",
      "        [0.5907, 0.8594, 0.4941],\n",
      "        [0.8607, 0.9456, 0.5137]])\n"
     ]
    }
   ],
   "source": [
    "# Set the top left item of the matrix to zero.\n",
    "a[0,0] = 0\n",
    "print(a)\n",
    "print()\n",
    "# Construct another random matrix of the same shape.\n",
    "b = torch.rand_like(a, device=device)\n",
    "print(b)\n",
    "print()\n",
    "# Set the second row of matrix a to be the third row of matrix b.\n",
    "a[1] = b[2]\n",
    "print(a)"
   ]
  },
  {
   "cell_type": "markdown",
   "metadata": {},
   "source": [
    "#### Elementwise Arithmetic\n",
    "Elementwise operations (most importantly comparison, addition, subtraction, multiplication and division) can be applied on tensors of compatible shapes (i.e. shapes that can be [broadcasted](https://pytorch.org/docs/stable/notes/broadcasting.html)). \n",
    "\n",
    "Two tensors are compatible if any of the two below conditions hold:\n",
    "* their shapes are the same \n",
    "* their trailing (i.e. last) N dimensions are the same (excluding missing dimensions and dimensions of size 1)\n",
    "\n",
    "Scalars (single values) are compatible with tensors of any shape. Let's see some examples."
   ]
  },
  {
   "cell_type": "markdown",
   "metadata": {},
   "source": [
    "First, some fresh tensors."
   ]
  },
  {
   "cell_type": "code",
   "execution_count": 22,
   "metadata": {},
   "outputs": [],
   "source": [
    "a = torch.zeros((2, 3, 4), device=device)  \n",
    "b = torch.ones((2, 3, 4), device=device)  \n",
    "c = torch.ones((3, 4), device=device)  \n",
    "d = torch.ones((2, 3, 1), device=device)\n",
    "e = torch.rand((4, 3, 2), device=device)"
   ]
  },
  {
   "cell_type": "markdown",
   "metadata": {},
   "source": [
    "We can add a scalar to tensor $a$ "
   ]
  },
  {
   "cell_type": "code",
   "execution_count": 23,
   "metadata": {},
   "outputs": [
    {
     "name": "stdout",
     "output_type": "stream",
     "text": [
      "tensor([[[0., 0., 0., 0.],\n",
      "         [0., 0., 0., 0.],\n",
      "         [0., 0., 0., 0.]],\n",
      "\n",
      "        [[0., 0., 0., 0.],\n",
      "         [0., 0., 0., 0.],\n",
      "         [0., 0., 0., 0.]]])\n",
      "torch.Size([2, 3, 4])\n",
      "tensor([[[0.3000, 0.3000, 0.3000, 0.3000],\n",
      "         [0.3000, 0.3000, 0.3000, 0.3000],\n",
      "         [0.3000, 0.3000, 0.3000, 0.3000]],\n",
      "\n",
      "        [[0.3000, 0.3000, 0.3000, 0.3000],\n",
      "         [0.3000, 0.3000, 0.3000, 0.3000],\n",
      "         [0.3000, 0.3000, 0.3000, 0.3000]]])\n"
     ]
    }
   ],
   "source": [
    "print(a)\n",
    "a = a + 0.3\n",
    "print(a.shape)\n",
    "print(a)\n"
   ]
  },
  {
   "cell_type": "markdown",
   "metadata": {},
   "source": [
    "We can subtract $b$ from $a$ (matching shapes)"
   ]
  },
  {
   "cell_type": "code",
   "execution_count": 24,
   "metadata": {},
   "outputs": [
    {
     "name": "stdout",
     "output_type": "stream",
     "text": [
      "torch.Size([2, 3, 4])\n",
      "tensor([[[-0.7000, -0.7000, -0.7000, -0.7000],\n",
      "         [-0.7000, -0.7000, -0.7000, -0.7000],\n",
      "         [-0.7000, -0.7000, -0.7000, -0.7000]],\n",
      "\n",
      "        [[-0.7000, -0.7000, -0.7000, -0.7000],\n",
      "         [-0.7000, -0.7000, -0.7000, -0.7000],\n",
      "         [-0.7000, -0.7000, -0.7000, -0.7000]]])\n"
     ]
    }
   ],
   "source": [
    "\n",
    "f = a - b\n",
    "print(f.shape)\n",
    "print(f)"
   ]
  },
  {
   "cell_type": "markdown",
   "metadata": {},
   "source": [
    "We can elementwise multiply $a$ with $c$ (dimensions of $c$ are the same as the last dimensions of $a$)"
   ]
  },
  {
   "cell_type": "code",
   "execution_count": 25,
   "metadata": {},
   "outputs": [
    {
     "name": "stdout",
     "output_type": "stream",
     "text": [
      "tensor([[1., 1., 1., 1.],\n",
      "        [1., 1., 1., 1.],\n",
      "        [1., 1., 1., 1.]])\n"
     ]
    },
    {
     "ename": "NameError",
     "evalue": "name 'g' is not defined",
     "output_type": "error",
     "traceback": [
      "\u001b[1;31m---------------------------------------------------------------------------\u001b[0m",
      "\u001b[1;31mNameError\u001b[0m                                 Traceback (most recent call last)",
      "\u001b[1;32m<ipython-input-25-b23483bcdc73>\u001b[0m in \u001b[0;36m<module>\u001b[1;34m\u001b[0m\n\u001b[0;32m      1\u001b[0m \u001b[0mprint\u001b[0m\u001b[1;33m(\u001b[0m\u001b[0mc\u001b[0m\u001b[1;33m)\u001b[0m\u001b[1;33m\u001b[0m\u001b[1;33m\u001b[0m\u001b[0m\n\u001b[1;32m----> 2\u001b[1;33m \u001b[0mprint\u001b[0m\u001b[1;33m(\u001b[0m\u001b[0mg\u001b[0m\u001b[1;33m)\u001b[0m\u001b[1;33m\u001b[0m\u001b[1;33m\u001b[0m\u001b[0m\n\u001b[0m\u001b[0;32m      3\u001b[0m \u001b[0mg\u001b[0m \u001b[1;33m=\u001b[0m  \u001b[0ma\u001b[0m \u001b[1;33m*\u001b[0m \u001b[0mc\u001b[0m\u001b[1;33m\u001b[0m\u001b[1;33m\u001b[0m\u001b[0m\n\u001b[0;32m      4\u001b[0m \u001b[0mprint\u001b[0m\u001b[1;33m(\u001b[0m\u001b[0mg\u001b[0m\u001b[1;33m.\u001b[0m\u001b[0mshape\u001b[0m\u001b[1;33m)\u001b[0m\u001b[1;33m\u001b[0m\u001b[1;33m\u001b[0m\u001b[0m\n",
      "\u001b[1;31mNameError\u001b[0m: name 'g' is not defined"
     ]
    }
   ],
   "source": [
    "print(c)\n",
    "print(g)\n",
    "g =  a * c\n",
    "print(g.shape)"
   ]
  },
  {
   "cell_type": "markdown",
   "metadata": {},
   "source": [
    "We can elementwise divide $a$ by $d$ (the last dimension of $d$ is 1, the rest of the dimensions match)"
   ]
  },
  {
   "cell_type": "code",
   "execution_count": 26,
   "metadata": {},
   "outputs": [
    {
     "name": "stdout",
     "output_type": "stream",
     "text": [
      "torch.Size([2, 3, 4])\n"
     ]
    }
   ],
   "source": [
    "h = a / d\n",
    "print(h.shape)"
   ]
  },
  {
   "cell_type": "markdown",
   "metadata": {},
   "source": [
    "We can elementwise raise $a$ to $d$ (the last dimension of $d$ is 1, the rest of the dimensions match)"
   ]
  },
  {
   "cell_type": "code",
   "execution_count": 27,
   "metadata": {},
   "outputs": [
    {
     "name": "stdout",
     "output_type": "stream",
     "text": [
      "torch.Size([2, 3, 4])\n"
     ]
    }
   ],
   "source": [
    "i = a**d\n",
    "print(i.shape)"
   ]
  },
  {
   "cell_type": "markdown",
   "metadata": {},
   "source": [
    "And we can compare $a$ with any of $f$, $g$, $h$"
   ]
  },
  {
   "cell_type": "code",
   "execution_count": 28,
   "metadata": {},
   "outputs": [
    {
     "name": "stdout",
     "output_type": "stream",
     "text": [
      "torch.Size([2, 3, 4])\n"
     ]
    }
   ],
   "source": [
    "j = a == f\n",
    "print(j.shape)"
   ]
  },
  {
   "cell_type": "markdown",
   "metadata": {},
   "source": [
    ".. but torch complains when we try to do that with $e$ (the shapes are incompatible)"
   ]
  },
  {
   "cell_type": "code",
   "execution_count": 29,
   "metadata": {},
   "outputs": [
    {
     "ename": "RuntimeError",
     "evalue": "The size of tensor a (2) must match the size of tensor b (4) at non-singleton dimension 2",
     "output_type": "error",
     "traceback": [
      "\u001b[1;31m---------------------------------------------------------------------------\u001b[0m",
      "\u001b[1;31mRuntimeError\u001b[0m                              Traceback (most recent call last)",
      "\u001b[1;32m<ipython-input-29-a2c3e750b318>\u001b[0m in \u001b[0;36m<module>\u001b[1;34m\u001b[0m\n\u001b[1;32m----> 1\u001b[1;33m \u001b[0me\u001b[0m \u001b[1;33m==\u001b[0m \u001b[0ma\u001b[0m\u001b[1;33m\u001b[0m\u001b[1;33m\u001b[0m\u001b[0m\n\u001b[0m",
      "\u001b[1;31mRuntimeError\u001b[0m: The size of tensor a (2) must match the size of tensor b (4) at non-singleton dimension 2"
     ]
    }
   ],
   "source": [
    "e == a"
   ]
  },
  {
   "cell_type": "markdown",
   "metadata": {},
   "source": [
    "If in doubt for what any of the elementwise operators actually do, try them out below on some tensors of your own making."
   ]
  },
  {
   "cell_type": "code",
   "execution_count": null,
   "metadata": {},
   "outputs": [],
   "source": []
  },
  {
   "cell_type": "markdown",
   "metadata": {},
   "source": [
    "A convenient shortcut for a particular sequence of elementwise operations is `torch.where`. Given two tensors $x$ and $y$ and a boolean tensor $condition$, it compiles a new tensor selecting the elements from either $x$ or $y$, depending on $condition$."
   ]
  },
  {
   "cell_type": "code",
   "execution_count": 30,
   "metadata": {},
   "outputs": [
    {
     "name": "stdout",
     "output_type": "stream",
     "text": [
      "tensor([[0.3836, 0.3676],\n",
      "        [0.9923, 0.2702]])\n",
      "tensor([[0.7856, 0.7579],\n",
      "        [0.7896, 0.3233]])\n"
     ]
    },
    {
     "data": {
      "text/plain": [
       "tensor([[0.3836, 0.7579],\n",
       "        [0.7896, 0.2702]])"
      ]
     },
     "execution_count": 30,
     "metadata": {},
     "output_type": "execute_result"
    }
   ],
   "source": [
    "x = torch.rand(2, 2)\n",
    "y = torch.rand(2, 2)\n",
    "print(x)\n",
    "print(y)\n",
    "condition = torch.tensor([[True, False], [False, True]])\n",
    "z = torch.where(condition, x, y)\n",
    "z"
   ]
  },
  {
   "cell_type": "code",
   "execution_count": 31,
   "metadata": {},
   "outputs": [
    {
     "ename": "NameError",
     "evalue": "name 'g' is not defined",
     "output_type": "error",
     "traceback": [
      "\u001b[1;31m---------------------------------------------------------------------------\u001b[0m",
      "\u001b[1;31mNameError\u001b[0m                                 Traceback (most recent call last)",
      "\u001b[1;32m<ipython-input-31-bddf00305c62>\u001b[0m in \u001b[0;36m<module>\u001b[1;34m\u001b[0m\n\u001b[1;32m----> 1\u001b[1;33m \u001b[1;32mdel\u001b[0m \u001b[0ma\u001b[0m\u001b[1;33m,\u001b[0m \u001b[0mb\u001b[0m\u001b[1;33m,\u001b[0m \u001b[0mc\u001b[0m\u001b[1;33m,\u001b[0m \u001b[0md\u001b[0m\u001b[1;33m,\u001b[0m \u001b[0me\u001b[0m\u001b[1;33m,\u001b[0m \u001b[0mf\u001b[0m\u001b[1;33m,\u001b[0m \u001b[0mg\u001b[0m\u001b[1;33m,\u001b[0m \u001b[0mh\u001b[0m\u001b[1;33m,\u001b[0m \u001b[0mi\u001b[0m\u001b[1;33m,\u001b[0m \u001b[0mj\u001b[0m\u001b[1;33m,\u001b[0m \u001b[0mx\u001b[0m\u001b[1;33m,\u001b[0m \u001b[0my\u001b[0m\u001b[1;33m,\u001b[0m \u001b[0mz\u001b[0m\u001b[1;33m,\u001b[0m \u001b[0mcondition\u001b[0m\u001b[1;33m\u001b[0m\u001b[1;33m\u001b[0m\u001b[0m\n\u001b[0m",
      "\u001b[1;31mNameError\u001b[0m: name 'g' is not defined"
     ]
    }
   ],
   "source": [
    "del a, b, c, d, e, f, g, h, i, j, x, y, z, condition"
   ]
  },
  {
   "cell_type": "markdown",
   "metadata": {},
   "source": [
    "#### Linear Algebra\n",
    "Tensor algebra of course goes well beyond elementwise operations -- matrix multiplication is the bread and butter of machine learning, so we better get familiar with how torch does it."
   ]
  },
  {
   "cell_type": "markdown",
   "metadata": {},
   "source": [
    "As usual, we begin by instantiating our matrices. Matrix multiplication is defined between matrices A and B of shapes [M, N] and [N, O] respectively and yields a matrix C of shape [M, O]. The torch function that implements matrix multiplication is `torch.mm`."
   ]
  },
  {
   "cell_type": "code",
   "execution_count": 32,
   "metadata": {},
   "outputs": [
    {
     "name": "stdout",
     "output_type": "stream",
     "text": [
      "torch.Size([5, 8])\n"
     ]
    }
   ],
   "source": [
    "A = torch.rand([5, 3], device=device)\n",
    "B = torch.rand([3, 8], device=device)\n",
    "C = torch.mm(A, B)  # or alternatively, C = A @ B\n",
    "print(C.shape)"
   ]
  },
  {
   "cell_type": "markdown",
   "metadata": {},
   "source": [
    "What if we had several matrices (i.e. a batch of matrices) to each be multiplied with a matching B? We can use `torch.bmm` for efficient batch matrix multiplication.\n",
    "\n",
    "<div class=\"alert alert-block alert-info\">\n",
    "<b>Tip:</b> Rather than writing slow and ugly `for` loops, employ array programming to write your machine learning code. This will make it much more concise and dramatically more efficient.\n",
    "</div>"
   ]
  },
  {
   "cell_type": "code",
   "execution_count": 33,
   "metadata": {},
   "outputs": [
    {
     "name": "stdout",
     "output_type": "stream",
     "text": [
      "torch.Size([128, 4, 3]) torch.Size([128, 3, 8])\n",
      "torch.Size([128, 4, 8])\n"
     ]
    }
   ],
   "source": [
    "bA = torch.rand([128, 4, 3], device=device)\n",
    "bB = torch.rand([128, 3, 8], device=device)\n",
    "print(bA.shape,bB.shape)\n",
    "bC = torch.bmm( bA,bB )  # bC = bA @ bC also works here!      #ask\n",
    "print(bC.shape)"
   ]
  },
  {
   "cell_type": "markdown",
   "metadata": {},
   "source": [
    "<div class=\"alert alert-block alert-warning\">\n",
    "<b>Warning:</b>\n",
    "Be careful not to confuse matrix multiplication `A@B` with the <a href=\"https://en.wikipedia.org/wiki/Hadamard_product_%28matrices%29\">Hadamard product</a> `A*B`\n",
    "</div>"
   ]
  },
  {
   "cell_type": "markdown",
   "metadata": {},
   "source": [
    "#### Shape Manipulation\n",
    "As we have seen, what we can do with tensors is largely dictated by their shapes. Adjusting a tensor's shape to allow for broadcasting or batching is therefore often necessary. The following functions should suffice for the bulk of shape manipulation tasks you might encounter."
   ]
  },
  {
   "cell_type": "markdown",
   "metadata": {},
   "source": [
    "Tensor tansposition is the generalization of matrix transposition. Since there are now more than 2 dimensions, we additionally need to specify the transposed dimensions. Take for instance a tensor of shape [M, N, O]. Converting it to a tensor of shape [N, M, O] requires transposing the first and second dimensions."
   ]
  },
  {
   "cell_type": "code",
   "execution_count": 34,
   "metadata": {},
   "outputs": [
    {
     "name": "stdout",
     "output_type": "stream",
     "text": [
      "torch.Size([5, 128, 3])\n"
     ]
    }
   ],
   "source": [
    "A = torch.rand([128, 5, 3], device=device)\n",
    "A = A.transpose(0, 1)\n",
    "\n",
    "print(A.shape)"
   ]
  },
  {
   "cell_type": "markdown",
   "metadata": {},
   "source": [
    "A generalization of transposing is permutation of the tensor's dimensions. In calling `permute`, we must provide the new order of all the dimensions."
   ]
  },
  {
   "cell_type": "code",
   "execution_count": 35,
   "metadata": {},
   "outputs": [
    {
     "name": "stdout",
     "output_type": "stream",
     "text": [
      "torch.Size([3, 128, 5])\n",
      "torch.Size([5, 3, 128])\n"
     ]
    }
   ],
   "source": [
    "A = torch.rand([128, 5, 3], device=device)\n",
    "A = A.permute(2, 0, 1)\n",
    "print(A.shape)\n",
    "A = A.permute(2, 0, 1)\n",
    "print(A.shape)"
   ]
  },
  {
   "cell_type": "markdown",
   "metadata": {},
   "source": [
    "We may also choose to create a reshaped view of a tensor; for instance we may collapse two or more tensor dimensions into one..."
   ]
  },
  {
   "cell_type": "code",
   "execution_count": 116,
   "metadata": {},
   "outputs": [
    {
     "name": "stdout",
     "output_type": "stream",
     "text": [
      "torch.Size([128, 5, 3])\n",
      "torch.Size([640, 3])\n"
     ]
    }
   ],
   "source": [
    "A = torch.rand([128, 5, 3], device=device)\n",
    "print(A.shape)\n",
    "A_collapsed = A.view(A.shape[0]*A.shape[1], A.shape[-1])\n",
    "print(A_collapsed.shape)\n"
   ]
  },
  {
   "cell_type": "markdown",
   "metadata": {},
   "source": [
    "... or expand one dimension into two or more."
   ]
  },
  {
   "cell_type": "code",
   "execution_count": 117,
   "metadata": {},
   "outputs": [
    {
     "name": "stdout",
     "output_type": "stream",
     "text": [
      "torch.Size([128, 5, 3])\n"
     ]
    }
   ],
   "source": [
    "A_expanded = A_collapsed.view(128, 5, 3)\n",
    "print(A_expanded.shape)"
   ]
  },
  {
   "cell_type": "markdown",
   "metadata": {},
   "source": [
    "Let's convince ourselves that the back and forth between dimensions has left our tensor unaffected. First let's elementwise compare A with A_expanded."
   ]
  },
  {
   "cell_type": "code",
   "execution_count": 60,
   "metadata": {},
   "outputs": [
    {
     "ename": "NameError",
     "evalue": "name 'A_expanded' is not defined",
     "output_type": "error",
     "traceback": [
      "\u001b[1;31m---------------------------------------------------------------------------\u001b[0m",
      "\u001b[1;31mNameError\u001b[0m                                 Traceback (most recent call last)",
      "\u001b[1;32m<ipython-input-60-d4ec188865fb>\u001b[0m in \u001b[0;36m<module>\u001b[1;34m\u001b[0m\n\u001b[1;32m----> 1\u001b[1;33m \u001b[0mcomp\u001b[0m \u001b[1;33m=\u001b[0m \u001b[0mA\u001b[0m \u001b[1;33m==\u001b[0m \u001b[0mA_expanded\u001b[0m\u001b[1;33m\u001b[0m\u001b[1;33m\u001b[0m\u001b[0m\n\u001b[0m\u001b[0;32m      2\u001b[0m \u001b[0mprint\u001b[0m\u001b[1;33m(\u001b[0m\u001b[0mcomp\u001b[0m\u001b[1;33m)\u001b[0m\u001b[1;33m\u001b[0m\u001b[1;33m\u001b[0m\u001b[0m\n",
      "\u001b[1;31mNameError\u001b[0m: name 'A_expanded' is not defined"
     ]
    }
   ],
   "source": [
    "comp = A == A_expanded\n",
    "print(comp)"
   ]
  },
  {
   "cell_type": "markdown",
   "metadata": {},
   "source": [
    "It seems to be okay! But what if there is a False somewhere in there? Python's `all` and `any` may be used directly on torch bools to help us here."
   ]
  },
  {
   "cell_type": "code",
   "execution_count": 39,
   "metadata": {},
   "outputs": [
    {
     "data": {
      "text/plain": [
       "True"
      ]
     },
     "execution_count": 39,
     "metadata": {},
     "output_type": "execute_result"
    }
   ],
   "source": [
    "all([all(row) for matrix in comp for row in matrix])"
   ]
  },
  {
   "cell_type": "markdown",
   "metadata": {},
   "source": [
    "Views are useful, but as the name suggests they only change our view of a tensor. Different views of a tensor have the same number of elements; the view is just changing in what order these are read.\n",
    "\n",
    "For cases where we would like to repeat a tensor across one or more of its axes (actually creating a larger tensor), we can use the function of the same name. Let's consider a tensor of shape [M, N] which we would like to turn into a tensor that repeats itself K times across the first dimension (i.e. a tensor of shape [K $\\cdot$ M, N]."
   ]
  },
  {
   "cell_type": "code",
   "execution_count": 40,
   "metadata": {},
   "outputs": [
    {
     "name": "stdout",
     "output_type": "stream",
     "text": [
      "torch.Size([15, 12])\n",
      "tensor([[0.9250, 0.4962, 0.6216, 0.5063, 0.4031, 0.9193, 0.5902, 0.6714, 0.8323,\n",
      "         0.9468, 0.8555, 0.6757],\n",
      "        [0.8242, 0.5906, 0.6405, 0.3573, 0.7347, 0.8943, 0.7677, 0.2779, 0.1395,\n",
      "         0.0281, 0.6128, 0.7515],\n",
      "        [0.2172, 0.8653, 0.4168, 0.8704, 0.9251, 0.3468, 0.1333, 0.5982, 0.3694,\n",
      "         0.0907, 0.3362, 0.7730],\n",
      "        [0.0823, 0.9735, 0.9898, 0.3300, 0.6098, 0.7148, 0.7882, 0.8168, 0.1203,\n",
      "         0.8091, 0.5796, 0.7620],\n",
      "        [0.6016, 0.0725, 0.3296, 0.3030, 0.0517, 0.9092, 0.7275, 0.9383, 0.7954,\n",
      "         0.0647, 0.1742, 0.1641],\n",
      "        [0.9250, 0.4962, 0.6216, 0.5063, 0.4031, 0.9193, 0.5902, 0.6714, 0.8323,\n",
      "         0.9468, 0.8555, 0.6757],\n",
      "        [0.8242, 0.5906, 0.6405, 0.3573, 0.7347, 0.8943, 0.7677, 0.2779, 0.1395,\n",
      "         0.0281, 0.6128, 0.7515],\n",
      "        [0.2172, 0.8653, 0.4168, 0.8704, 0.9251, 0.3468, 0.1333, 0.5982, 0.3694,\n",
      "         0.0907, 0.3362, 0.7730],\n",
      "        [0.0823, 0.9735, 0.9898, 0.3300, 0.6098, 0.7148, 0.7882, 0.8168, 0.1203,\n",
      "         0.8091, 0.5796, 0.7620],\n",
      "        [0.6016, 0.0725, 0.3296, 0.3030, 0.0517, 0.9092, 0.7275, 0.9383, 0.7954,\n",
      "         0.0647, 0.1742, 0.1641],\n",
      "        [0.9250, 0.4962, 0.6216, 0.5063, 0.4031, 0.9193, 0.5902, 0.6714, 0.8323,\n",
      "         0.9468, 0.8555, 0.6757],\n",
      "        [0.8242, 0.5906, 0.6405, 0.3573, 0.7347, 0.8943, 0.7677, 0.2779, 0.1395,\n",
      "         0.0281, 0.6128, 0.7515],\n",
      "        [0.2172, 0.8653, 0.4168, 0.8704, 0.9251, 0.3468, 0.1333, 0.5982, 0.3694,\n",
      "         0.0907, 0.3362, 0.7730],\n",
      "        [0.0823, 0.9735, 0.9898, 0.3300, 0.6098, 0.7148, 0.7882, 0.8168, 0.1203,\n",
      "         0.8091, 0.5796, 0.7620],\n",
      "        [0.6016, 0.0725, 0.3296, 0.3030, 0.0517, 0.9092, 0.7275, 0.9383, 0.7954,\n",
      "         0.0647, 0.1742, 0.1641]])\n",
      "tensor([[0.9250, 0.4962, 0.6216, 0.5063, 0.4031, 0.9193, 0.5902, 0.6714, 0.8323,\n",
      "         0.9468, 0.8555, 0.6757],\n",
      "        [0.8242, 0.5906, 0.6405, 0.3573, 0.7347, 0.8943, 0.7677, 0.2779, 0.1395,\n",
      "         0.0281, 0.6128, 0.7515],\n",
      "        [0.2172, 0.8653, 0.4168, 0.8704, 0.9251, 0.3468, 0.1333, 0.5982, 0.3694,\n",
      "         0.0907, 0.3362, 0.7730],\n",
      "        [0.0823, 0.9735, 0.9898, 0.3300, 0.6098, 0.7148, 0.7882, 0.8168, 0.1203,\n",
      "         0.8091, 0.5796, 0.7620],\n",
      "        [0.6016, 0.0725, 0.3296, 0.3030, 0.0517, 0.9092, 0.7275, 0.9383, 0.7954,\n",
      "         0.0647, 0.1742, 0.1641]])\n"
     ]
    }
   ],
   "source": [
    "A = torch.rand([5, 12], device=device)\n",
    "A_repeat = A.repeat(3, 1)  # note that we are specifying the number of repeats per dimension\n",
    "print(A_repeat.shape)\n",
    "print(A_repeat)\n",
    "print(A)"
   ]
  },
  {
   "cell_type": "markdown",
   "metadata": {},
   "source": [
    "If you need to repeat a singleton dimension (i.e. a dimension of size 1), you can do that with the `expand` function which can be more efficient for large tensors since it does not allocate new memory."
   ]
  },
  {
   "cell_type": "code",
   "execution_count": 41,
   "metadata": {},
   "outputs": [
    {
     "name": "stdout",
     "output_type": "stream",
     "text": [
      "torch.Size([15, 12])\n",
      "torch.Size([15, 12])\n"
     ]
    }
   ],
   "source": [
    "A = torch.rand([1, 12], device=device)\n",
    "A_exp = A.expand(15, 12)  # note that we are specifying the expected dimensions of the new tensor\n",
    "print(A_exp.shape)\n",
    "#\n",
    "A = torch.rand([1, 12], device=device)\n",
    "A_exp = A.expand(15, -1)  # -1 means not changing the size of that dimension\n",
    "print(A_exp.shape)"
   ]
  },
  {
   "cell_type": "markdown",
   "metadata": {},
   "source": [
    "Another convenient pair of functions is `squeeze`-`unsqueeze`. \n",
    "\n",
    "`squeeze` removes all the dimensions of size 1, or a specific dimension of size 1 if it's specified in the `dim` parameter."
   ]
  },
  {
   "cell_type": "code",
   "execution_count": 51,
   "metadata": {},
   "outputs": [
    {
     "name": "stdout",
     "output_type": "stream",
     "text": [
      "torch.Size([1, 12, 1])\n",
      "torch.Size([12])\n",
      "torch.Size([12, 1])\n"
     ]
    }
   ],
   "source": [
    "A = torch.rand([1, 12, 1], device=device)\n",
    "print(A.shape)\n",
    "\n",
    "A_squeezed = A.squeeze()\n",
    "print(A_squeezed.shape)\n",
    "\n",
    "A_squeezed_first = A.squeeze(dim=0)\n",
    "print(A_squeezed_first.shape)"
   ]
  },
  {
   "cell_type": "markdown",
   "metadata": {},
   "source": [
    "Conversely, `unsqueeze` inserts a new dimension of size 1 into a specified position."
   ]
  },
  {
   "cell_type": "code",
   "execution_count": 43,
   "metadata": {},
   "outputs": [
    {
     "name": "stdout",
     "output_type": "stream",
     "text": [
      "torch.Size([2, 12])\n",
      "torch.Size([2, 12, 1])\n"
     ]
    }
   ],
   "source": [
    "A = torch.rand([2, 12], device=device)\n",
    "print(A.shape)\n",
    "\n",
    "A_unsqueezed = A.unsqueeze(2)\n",
    "print(A_unsqueezed.shape)"
   ]
  },
  {
   "cell_type": "markdown",
   "metadata": {},
   "source": [
    "#### Combining Tensors\n",
    "Sometimes we may want to construct a big tensor out of two small ones. There's a few ways to accomplish that, but the most reliable one is through `torch.cat` 🐈 (shorthand for concatenate).\n",
    "\n",
    "Two tensors may be concatenated if they agree on all their dimensions, except for the concatenation dimension."
   ]
  },
  {
   "cell_type": "code",
   "execution_count": 44,
   "metadata": {},
   "outputs": [
    {
     "name": "stdout",
     "output_type": "stream",
     "text": [
      "torch.Size([5, 2])\n"
     ]
    }
   ],
   "source": [
    "A = torch.rand([4, 2], device=device)\n",
    "B = torch.rand([1, 2], device=device)\n",
    "C = torch.cat((A, B), dim=0)\n",
    "print(C.shape)"
   ]
  },
  {
   "cell_type": "code",
   "execution_count": 45,
   "metadata": {},
   "outputs": [],
   "source": [
    "del (\n",
    "    A, B, C, comp, A_repeat, A_exp, A_expanded, A_collapsed, A_squeezed, \n",
    "    A_squeezed_first, A_unsqueezed, bA, bB, bC\n",
    ")"
   ]
  },
  {
   "cell_type": "markdown",
   "metadata": {},
   "source": [
    "---"
   ]
  },
  {
   "cell_type": "markdown",
   "metadata": {
    "jp-MarkdownHeadingCollapsed": true,
    "tags": []
   },
   "source": [
    "<a id='1d'></a>\n",
    "### Exercises\n",
    "It might be a good idea to take a short break here and recap on what we've seen before moving further. The mini-exercises below should help you test your grasp of this section."
   ]
  },
  {
   "cell_type": "markdown",
   "metadata": {},
   "source": [
    "Construct a tensor $A$ of shape [10, 10] containing random floats, and a tensor $B$ of the same shape where all its elements are equal to $\\pi$."
   ]
  },
  {
   "cell_type": "code",
   "execution_count": 123,
   "metadata": {},
   "outputs": [],
   "source": [
    "A = torch.rand((10,10))\n",
    "B = torch.rand_like(A, device=device)"
   ]
  },
  {
   "cell_type": "markdown",
   "metadata": {},
   "source": [
    "Compute $C = AB^T$, the matrix multiplication of $A$ with the transpose of $B$ and $D = A\\cdot B$, their elementwise multiplication."
   ]
  },
  {
   "cell_type": "code",
   "execution_count": 124,
   "metadata": {},
   "outputs": [
    {
     "name": "stdout",
     "output_type": "stream",
     "text": [
      "tensor([[1.5551, 1.8299, 1.3478, 1.8049, 1.7426, 2.0382, 2.2372, 1.0431, 1.8549,\n",
      "         2.3641],\n",
      "        [2.2552, 2.6062, 2.0709, 2.8311, 2.8569, 2.5139, 2.5392, 0.9714, 2.2843,\n",
      "         2.3037],\n",
      "        [1.5416, 2.1510, 1.5937, 2.8922, 2.4077, 3.2913, 2.5371, 2.1680, 2.5803,\n",
      "         3.0463],\n",
      "        [2.2220, 3.0421, 1.7801, 3.1187, 2.8559, 2.6495, 2.7335, 1.6468, 2.1658,\n",
      "         2.6851],\n",
      "        [2.1989, 2.0832, 2.0296, 2.9483, 2.6657, 2.9316, 3.0076, 1.5508, 2.7463,\n",
      "         2.8116],\n",
      "        [1.5368, 1.3425, 1.2120, 1.7255, 1.5706, 2.4763, 1.9994, 1.4454, 2.2863,\n",
      "         2.2775],\n",
      "        [1.5076, 1.9979, 1.2281, 1.6140, 1.9881, 2.1052, 2.0026, 1.1361, 2.2138,\n",
      "         2.4553],\n",
      "        [2.6290, 2.6740, 1.8061, 2.8248, 2.8778, 2.7963, 2.8815, 1.8759, 2.9212,\n",
      "         2.8366],\n",
      "        [2.0455, 2.6494, 1.7761, 2.4662, 2.7790, 2.3321, 2.5239, 1.5861, 2.5245,\n",
      "         2.7591],\n",
      "        [1.9383, 2.2255, 1.7010, 2.3685, 2.6748, 2.2223, 2.3388, 1.1601, 2.2233,\n",
      "         1.9386]])\n"
     ]
    }
   ],
   "source": [
    "C = torch.mm(A, B.T)\n",
    "print(C)\n",
    "D = torch.mm(A, B)\n",
    "\n"
   ]
  },
  {
   "cell_type": "markdown",
   "metadata": {},
   "source": [
    "Try comparing $C$ with $D$. Are they comparable? Are they equal? What is the dtype of their comparison?"
   ]
  },
  {
   "cell_type": "code",
   "execution_count": 125,
   "metadata": {},
   "outputs": [
    {
     "name": "stdout",
     "output_type": "stream",
     "text": [
      "tensor([[False, False, False, False, False, False, False, False, False, False],\n",
      "        [False, False, False, False, False, False, False, False, False, False],\n",
      "        [False, False, False, False, False, False, False, False, False, False],\n",
      "        [False, False, False, False, False, False, False, False, False, False],\n",
      "        [False, False, False, False, False, False, False, False, False, False],\n",
      "        [False, False, False, False, False, False, False, False, False, False],\n",
      "        [False, False, False, False, False, False, False, False, False, False],\n",
      "        [False, False, False, False, False, False, False, False, False, False],\n",
      "        [False, False, False, False, False, False, False, False, False, False],\n",
      "        [False, False, False, False, False, False, False, False, False, False]])\n"
     ]
    }
   ],
   "source": [
    "queal = C ==D\n",
    "print(queal)"
   ]
  },
  {
   "cell_type": "markdown",
   "metadata": {},
   "source": [
    "Multiply $A$ by 4 to create $F$. Now set all elements of $F$ that are above $\\pi$ to zero.\n",
    "\n",
    "\n",
    "_Hint 1_: You can index a tensor with a boolean tensor of the same dimensionality\n",
    "\n",
    "_Hint 2_: You can set multiple indexed elements to a single value at once"
   ]
  },
  {
   "cell_type": "code",
   "execution_count": 126,
   "metadata": {},
   "outputs": [
    {
     "name": "stdout",
     "output_type": "stream",
     "text": [
      "tensor([[0., 0., 0., 0., 0., 0., 0., 0., 0., 0.]])\n",
      "tensor([[4., 4., 4., 4., 4., 4., 4., 4., 4., 4.]])\n",
      "tensor([[242.0261],\n",
      "        [376.3474],\n",
      "        [464.1046],\n",
      "        [463.8943],\n",
      "        [444.4234],\n",
      "        [244.1459],\n",
      "        [277.1214],\n",
      "        [486.4927],\n",
      "        [393.1060],\n",
      "        [356.4992]])\n",
      "tensor([[15.5572],\n",
      "        [19.3997],\n",
      "        [21.5431],\n",
      "        [21.5382],\n",
      "        [21.0814],\n",
      "        [15.6252],\n",
      "        [16.6470],\n",
      "        [22.0566],\n",
      "        [19.8269],\n",
      "        [18.8812]])\n",
      "tensor([[15.5572],\n",
      "        [19.3997],\n",
      "        [ 0.0000],\n",
      "        [ 0.0000],\n",
      "        [ 0.0000],\n",
      "        [15.6252],\n",
      "        [16.6470],\n",
      "        [ 0.0000],\n",
      "        [19.8269],\n",
      "        [18.8812]])\n"
     ]
    }
   ],
   "source": [
    "mul = torch.zeros(1,C.shape[1])\n",
    "print(mul)\n",
    "mul = mul+ 4\n",
    "print(mul)\n",
    "F = torch.mm(A, mul.T)\n",
    "\n",
    "print(F * F)\n",
    "print(F)\n",
    "#F[NotImplemented] = 0\n",
    "F[F>20] =0\n",
    "print(F)"
   ]
  },
  {
   "cell_type": "markdown",
   "metadata": {},
   "source": [
    "The incomplete function below implements matrix multiplication with a for loop. Complete the function and call it with your $A$ and $B^T$ matrices as its arguments. The result should be the same as the matrix $C$ you computed before (with room for some numerical inaccuraccy)\n",
    "\n",
    "Note: You can use `torch.sum()` to compute the sum of a tensor (optionally specifying across which dimension)\n",
    "\n",
    "<div class=\"alert alert-block alert-info\">\n",
    "<b>Note:</b> <a href=\"https://www.python.org/dev/peps/pep-0484/#rationale-and-goals\">Type Hints</a> may be used in python function and variable declarations to give them a type signature. These type signatures are not strict (you can still bypass them), but they can help you organize your code. Type hints of incomplete functions given during assignments will inform you of what we expect your function to accept and return.\n",
    "</div>"
   ]
  },
  {
   "cell_type": "code",
   "execution_count": 127,
   "metadata": {},
   "outputs": [
    {
     "name": "stdout",
     "output_type": "stream",
     "text": [
      "tensor([[1.5551, 1.8299, 1.3478, 1.8049, 1.7426, 2.0382, 2.2372, 1.0431, 1.8549,\n",
      "         2.3641],\n",
      "        [2.2552, 2.6062, 2.0709, 2.8311, 2.8569, 2.5139, 2.5392, 0.9714, 2.2843,\n",
      "         2.3037],\n",
      "        [1.5416, 2.1510, 1.5937, 2.8922, 2.4077, 3.2913, 2.5371, 2.1680, 2.5803,\n",
      "         3.0463],\n",
      "        [2.2220, 3.0421, 1.7801, 3.1187, 2.8559, 2.6495, 2.7335, 1.6468, 2.1658,\n",
      "         2.6851],\n",
      "        [2.1989, 2.0832, 2.0296, 2.9483, 2.6657, 2.9316, 3.0076, 1.5508, 2.7463,\n",
      "         2.8116],\n",
      "        [1.5368, 1.3425, 1.2120, 1.7255, 1.5706, 2.4763, 1.9994, 1.4454, 2.2863,\n",
      "         2.2775],\n",
      "        [1.5076, 1.9979, 1.2281, 1.6140, 1.9881, 2.1052, 2.0026, 1.1361, 2.2138,\n",
      "         2.4553],\n",
      "        [2.6290, 2.6740, 1.8061, 2.8248, 2.8778, 2.7963, 2.8815, 1.8759, 2.9212,\n",
      "         2.8366],\n",
      "        [2.0455, 2.6494, 1.7761, 2.4662, 2.7790, 2.3321, 2.5239, 1.5861, 2.5245,\n",
      "         2.7591],\n",
      "        [1.9383, 2.2255, 1.7010, 2.3685, 2.6748, 2.2223, 2.3388, 1.1601, 2.2233,\n",
      "         1.9386]])\n"
     ]
    }
   ],
   "source": [
    "def my_mm(A: torch.FloatTensor, B: torch.FloatTensor) -> torch.FloatTensor:\n",
    "    assert A.shape[1] == B.shape[0]\n",
    "    assert (len(A.shape) == len(B.shape) == 2)\n",
    "    C = torch.zeros((A.shape[0], B.shape[1]), device=device)\n",
    "    for i in range(A.shape[0]):\n",
    "        for j in range(B.shape[1]):\n",
    "            C[i,j] = torch.sum(A[i] * B[:,j])\n",
    "    return C\n",
    "    \n",
    "    \n",
    "    \n",
    "E = my_mm(A, B.transpose(1, 0))\n",
    "print(E)\n",
    "# Make sure the mean absolute difference between the two results is below 0.0001.\n",
    "assert torch.sum(torch.abs(E - C))/(E.shape[0]*E.shape[1]) < 1e-4 "
   ]
  },
  {
   "cell_type": "markdown",
   "metadata": {},
   "source": [
    "Create a 2-dimensional tensor $S$ that consists of an instance of $A$ followed by two instances of $B$ followed by an instance of $A$ across its first dimension. What is the shape of $S$?"
   ]
  },
  {
   "cell_type": "code",
   "execution_count": 128,
   "metadata": {},
   "outputs": [
    {
     "name": "stdout",
     "output_type": "stream",
     "text": [
      "torch.Size([40, 10])\n"
     ]
    }
   ],
   "source": [
    "S = torch.cat([A,B,B,A], dim =0)\n",
    "print(S.shape)"
   ]
  },
  {
   "cell_type": "markdown",
   "metadata": {},
   "source": [
    "Reshape $S$ into a tensor of shape [20, 2, 10]. \n",
    "Then transpose this into a tensor of shape [2, 10, 20]."
   ]
  },
  {
   "cell_type": "code",
   "execution_count": 132,
   "metadata": {},
   "outputs": [
    {
     "name": "stdout",
     "output_type": "stream",
     "text": [
      "torch.Size([10, 40])\n",
      "torch.Size([20, 2, 10])\n",
      "torch.Size([2, 20, 10])\n"
     ]
    }
   ],
   "source": [
    "print(S.shape)\n",
    "S = (S.unsqueeze(0).reshape(20, 2, 10))\n",
    "print(S.shape)\n",
    "\n",
    "S = S.transpose(0, 1)\n",
    "print(S.shape)"
   ]
  },
  {
   "cell_type": "code",
   "execution_count": 122,
   "metadata": {},
   "outputs": [],
   "source": [
    "del A, B, C, D, E, F, S"
   ]
  },
  {
   "cell_type": "markdown",
   "metadata": {},
   "source": [
    "---"
   ]
  },
  {
   "cell_type": "markdown",
   "metadata": {},
   "source": [
    "<a id='2'></a>\n",
    "## 2. Automatic Differentation and Neural Networks\n",
    "We have so far seen some of torch's computational capabilities; its GPU accelaration and multitude of high level functions make it suitable for array processing and vector arithmetic. But torch is more than a faster numpy; its key components, and where most of the magic happens, are in its automatic differentiation mechanics and neural network libraries.\n",
    "\n",
    "<a id='2a'></a>\n",
    "### A. Autograd\n",
    "Each torch tensor carries a flag around with it, `requires_grad`, which establishes whether that tensor requires gradient computation. \n",
    "\n",
    "By default, tensors do not require grad unless specified to. Whenever a tensor that requires grad assumes a role in the construction of another tensor, the new tensor also requires grad.\n",
    "By dynamically tracking dependencies in the evolving computation graph, and utilizing this flag, torch is able to inform itself on which tensors need to be updated by gradient descent, and which do not (naturally, only tensors for which gradients are computed will be updated).\n",
    "\n",
    "Practically, by setting `requires_grad` to `False` we can _freeze_ (parts of) our functions, making them static.\n",
    "\n",
    "Let's see this in action by modeling a simple linear transformation $f(x): Ax$ from $x \\in \\mathbb{R}^5$  to $y \\in \\mathbb{R}^7$:\n",
    "\n",
    "<div class=\"alert alert-block alert-info\">\n",
    "<b>Note:</b> Recall that a matrix of shape [M, N] is a linear map <em>from</em> $\\mathbb{R}^N$ <em>to</em> $\\mathbb{R}^M$.\n",
    "</div>"
   ]
  },
  {
   "cell_type": "code",
   "execution_count": 138,
   "metadata": {},
   "outputs": [],
   "source": [
    "A = torch.rand((7, 5), device=device) \n",
    "A.requires_grad = True\n",
    "def f(x: torch.FloatTensor) -> torch.FloatTensor:\n",
    "    return A@x "
   ]
  },
  {
   "cell_type": "markdown",
   "metadata": {},
   "source": [
    "Let's test our function for some $x$, and check whether the result requires grad."
   ]
  },
  {
   "cell_type": "code",
   "execution_count": 139,
   "metadata": {},
   "outputs": [
    {
     "name": "stdout",
     "output_type": "stream",
     "text": [
      "tensor([0.4399, 1.1088, 0.5398, 0.9985, 1.0679, 0.9527, 0.8299],\n",
      "       grad_fn=<MvBackward>)\n",
      "True\n"
     ]
    }
   ],
   "source": [
    "x = torch.rand(5, device=device)\n",
    "y = f(x)\n",
    "print(y)\n",
    "print(y.requires_grad)"
   ]
  },
  {
   "cell_type": "markdown",
   "metadata": {},
   "source": [
    "It does not; what if the parameters of our function $f$ were trainable though?"
   ]
  },
  {
   "cell_type": "code",
   "execution_count": 148,
   "metadata": {},
   "outputs": [
    {
     "name": "stdout",
     "output_type": "stream",
     "text": [
      "tensor([[[1, 2, 3, 4, 5, 6]]])\n"
     ]
    },
    {
     "data": {
      "text/plain": [
       "torch.Size([1, 1, 6])"
      ]
     },
     "execution_count": 148,
     "metadata": {},
     "output_type": "execute_result"
    }
   ],
   "source": [
    "wwww = torch.tensor([[[1,2,3,4,5,6]]])\n",
    "print(wwww)\n",
    "wwww.shape\n",
    "\n"
   ]
  },
  {
   "cell_type": "code",
   "execution_count": null,
   "metadata": {},
   "outputs": [],
   "source": [
    "A.requires_grad = True\n",
    "y = f(x)\n",
    "print(y.requires_grad)"
   ]
  },
  {
   "cell_type": "markdown",
   "metadata": {},
   "source": [
    "The output of our linear transformation is now also trainable!\n"
   ]
  },
  {
   "cell_type": "markdown",
   "metadata": {},
   "source": [
    "---"
   ]
  },
  {
   "cell_type": "markdown",
   "metadata": {},
   "source": [
    "<a id='2b'></a>\n",
    "### Exercises\n",
    "\n",
    "Model an affine transformation 𝑔(𝑥)=𝐴𝑥+𝛽g(x)=Ax+β \\\\\n",
    "from 𝑥∈ℝ3x∈R3 to 𝑦∈ℝ12y∈R12 as the composition of two functions, \n",
    "𝑓1(𝑥)=𝐴𝑥f1(x)=Ax, 𝑓2(𝑥)=𝑥+𝛽f2(x)=x+β, such that 𝐴A requires grad but 𝛽β does not.\n",
    "Answer the next questions before you proceed."
   ]
  },
  {
   "cell_type": "markdown",
   "metadata": {},
   "source": [
    "Model an affine transformation $g(x) = Ax + \\beta$ from $x \\in \\mathbb{R}^3$ to $y \\in \\mathbb{R}^{12}$ as the composition of two functions, $f_1(x) = Ax$, $f_2(x) = x + \\beta$, such that $A$ requires grad but $\\beta$ does not.\n",
    "\n",
    "<div class=\"alert alert-block alert-info\">\n",
    "<b>Note:</b> You can use `requires_grad: bool` as an optional argument during tensor construction. Can you guess its default value?\n",
    "</div>"
   ]
  },
  {
   "cell_type": "code",
   "execution_count": 158,
   "metadata": {},
   "outputs": [
    {
     "name": "stdout",
     "output_type": "stream",
     "text": [
      "tensor([[0.6700, 0.1936, 0.0479],\n",
      "        [0.5868, 0.6708, 0.6354],\n",
      "        [0.5797, 0.4207, 0.0654],\n",
      "        [0.7848, 0.8529, 0.8035],\n",
      "        [0.7419, 0.6088, 0.7633],\n",
      "        [0.5504, 0.2390, 0.8914],\n",
      "        [0.3583, 0.1815, 0.8708],\n",
      "        [0.4137, 0.6275, 0.1888],\n",
      "        [0.3945, 0.3748, 0.2930],\n",
      "        [0.2132, 0.8109, 0.9750],\n",
      "        [0.9298, 0.7209, 0.3698],\n",
      "        [0.9764, 0.1916, 0.4836]])\n",
      "tensor([0.0923, 0.1020, 0.7908])\n",
      "tensor([0.1194, 0.6250, 0.1481, 0.7949, 0.7342, 0.7801, 0.7402, 0.2515, 0.3064,\n",
      "        0.8734, 0.4518, 0.4921], grad_fn=<MvBackward>)\n"
     ]
    }
   ],
   "source": [
    "A = torch.rand((12,3), device=device) \n",
    "print(A)\n",
    "A.requires_grad = True\n",
    "\n",
    "beta = torch.rand(12, 1, device=device) \n",
    "\n",
    "\n",
    "#multi\n",
    "def f_1(x: torch.FloatTensor) -> torch.FloatTensor:\n",
    "    \n",
    "    return A @ x\n",
    "\n",
    "# addition\n",
    "def f_2(x: torch.FloatTensor) -> torch.FloatTensor:\n",
    "    return x + beta\n",
    "    \n",
    "    return NotImplemented\n",
    "\n",
    "x = torch.rand(3, device=device)\n",
    "print(x)\n",
    "\n",
    "w = f_1(x)\n",
    "print(w)\n",
    "y = f_2(w)"
   ]
  },
  {
   "cell_type": "markdown",
   "metadata": {},
   "source": [
    "Try to figure out the answers on your own before verifying them with code.\n",
    "\n",
    "Let's assume $x$ is a fixed data sample, therefore does not require grad (we don't usually want to fit our data, but the function applied on the data!)\n",
    "\n",
    "* If $A$ requires grad but $\\beta$ doesn't, does $w$ require grad? Does $y$?\n",
    "\n",
    "* If $\\beta$ requires grad but $A$ doesn't, does $w$ require grad? Does $y$?\n",
    "\n",
    "What would that mean for $A$ and $\\beta$ during gradient descent?\n",
    "\n",
    "Verify your answers with code."
   ]
  },
  {
   "cell_type": "code",
   "execution_count": null,
   "metadata": {},
   "outputs": [],
   "source": []
  },
  {
   "cell_type": "code",
   "execution_count": 175,
   "metadata": {},
   "outputs": [
    {
     "ename": "NameError",
     "evalue": "name 'A' is not defined",
     "output_type": "error",
     "traceback": [
      "\u001b[1;31m---------------------------------------------------------------------------\u001b[0m",
      "\u001b[1;31mNameError\u001b[0m                                 Traceback (most recent call last)",
      "\u001b[1;32m<ipython-input-175-9bca407052b1>\u001b[0m in \u001b[0;36m<module>\u001b[1;34m\u001b[0m\n\u001b[1;32m----> 1\u001b[1;33m \u001b[1;32mdel\u001b[0m \u001b[0mA\u001b[0m\u001b[1;33m,\u001b[0m \u001b[0mbeta\u001b[0m\u001b[1;33m,\u001b[0m \u001b[0mx\u001b[0m\u001b[1;33m,\u001b[0m \u001b[0my\u001b[0m\u001b[1;33m,\u001b[0m \u001b[0mw\u001b[0m\u001b[1;33m,\u001b[0m \u001b[0mf\u001b[0m\u001b[1;33m,\u001b[0m \u001b[0mf_1\u001b[0m\u001b[1;33m,\u001b[0m \u001b[0mf_2\u001b[0m\u001b[1;33m\u001b[0m\u001b[1;33m\u001b[0m\u001b[0m\n\u001b[0m",
      "\u001b[1;31mNameError\u001b[0m: name 'A' is not defined"
     ]
    }
   ],
   "source": [
    "del A, beta, x, y, w, f, f_1, f_2"
   ]
  },
  {
   "cell_type": "markdown",
   "metadata": {},
   "source": [
    "---"
   ]
  },
  {
   "cell_type": "markdown",
   "metadata": {},
   "source": [
    "<a id='3'></a>\n",
    "\n",
    "## 3. Neural Networks\n",
    "We are very close to defining our first neural network in torch. Torch includes a powerful neural network library, `torch.nn`, which allows us to create our own custom network flows, use highly optimized off-the-shelf implementations of most standard kinds of networks and compose different networks together.\n",
    "\n",
    "<a id='3a'></a>\n",
    "### A. Custom Neural Networks\n",
    "You have already implemented an affine transformation; a shallow feedforward network is simply such a transformation followed by a non-linearity. For the sake of familiarizing ourselves with custom torch networks, we will go through the process of defining such a network from scratch (you won't normally be doing this, but it's still beneficial to have an idea of what's happening at the low level before proceeding to the high level).\n",
    "\n",
    "The building block for a torch network is the `torch.nn.Module` class; we need to define our networks as objects inheriting that class. If we do so, we only need to implement two functions: `__init__()` and `forward()`. The first is responsible for registering the internal variables of our network, while the second specifies the kind of computation it actually performs.\n",
    "\n",
    "Let's see these in practice; we will define a shallow feedforward network implementing $f(x) = \\sigma(Wx + \\beta)$ from any input dimension to any output dimension, where $\\sigma$ the sigmoid activation."
   ]
  },
  {
   "cell_type": "code",
   "execution_count": 2,
   "metadata": {},
   "outputs": [],
   "source": [
    "class my_first_network(torch.nn.Module):\n",
    "    def __init__(self, in_features: int, out_features: int, device: str) -> None:\n",
    "        super(my_first_network, self).__init__()  # this is important! do not forget to call this\n",
    "        self.device = device\n",
    "        self.W = torch.nn.Parameter(torch.rand(out_features, in_features, device=self.device))\n",
    "        print(self.W)\n",
    "        self.beta = torch.nn.Parameter(torch.rand(out_features, device=self.device))\n",
    "        print(self.beta)\n",
    "        \n",
    "    def forward(self, x: torch.FloatTensor) -> torch.FloatTensor:\n",
    "        return torch.sigmoid(self.W@x + self.beta)"
   ]
  },
  {
   "cell_type": "markdown",
   "metadata": {},
   "source": [
    "<div class=\"alert alert-block alert-info\">\n",
    "<b>Note:</b> Notice the use of torch.nn.Parameter. Wrapping the tensors that are parametric to our network's function in torch.nn.Parameter is crucial as it informs torch that these tensors need to be stored, updated and shared between different function calls.\n",
    "</div>"
   ]
  },
  {
   "cell_type": "markdown",
   "metadata": {},
   "source": [
    "We can now test our first network class by instatiating an actual network and passing a random tensor through it."
   ]
  },
  {
   "cell_type": "code",
   "execution_count": 8,
   "metadata": {},
   "outputs": [
    {
     "name": "stdout",
     "output_type": "stream",
     "text": [
      "Parameter containing:\n",
      "tensor([[0.9581, 0.4090, 0.5392],\n",
      "        [0.7285, 0.4069, 0.0567],\n",
      "        [0.8491, 0.6571, 0.7168],\n",
      "        [0.6837, 0.9856, 0.8038],\n",
      "        [0.8928, 0.5377, 0.8271],\n",
      "        [0.4303, 0.3548, 0.8911],\n",
      "        [0.1047, 0.8516, 0.7596],\n",
      "        [0.6764, 0.8063, 0.4459],\n",
      "        [0.2957, 0.7238, 0.5157],\n",
      "        [0.0347, 0.7104, 0.7934],\n",
      "        [0.3028, 0.6305, 0.5567],\n",
      "        [0.2365, 0.6862, 0.4245],\n",
      "        [0.9502, 0.1664, 0.6585]], requires_grad=True)\n",
      "Parameter containing:\n",
      "tensor([0.7351, 0.8188, 0.9731, 0.6637, 0.1970, 0.9768, 0.0945, 0.9858, 0.8330,\n",
      "        0.5092, 0.1982, 0.4186, 0.3726], requires_grad=True)\n"
     ]
    },
    {
     "ename": "NameError",
     "evalue": "name 'y' is not defined",
     "output_type": "error",
     "traceback": [
      "\u001b[1;31m---------------------------------------------------------------------------\u001b[0m",
      "\u001b[1;31mNameError\u001b[0m                                 Traceback (most recent call last)",
      "\u001b[1;32m<ipython-input-8-307c2dffb49d>\u001b[0m in \u001b[0;36m<module>\u001b[1;34m\u001b[0m\n\u001b[0;32m      2\u001b[0m \u001b[0mx\u001b[0m \u001b[1;33m=\u001b[0m \u001b[0mtorch\u001b[0m\u001b[1;33m.\u001b[0m\u001b[0mrand\u001b[0m\u001b[1;33m(\u001b[0m\u001b[1;36m3\u001b[0m\u001b[1;33m,\u001b[0m \u001b[0mdevice\u001b[0m\u001b[1;33m=\u001b[0m\u001b[0mdevice\u001b[0m\u001b[1;33m)\u001b[0m\u001b[1;33m\u001b[0m\u001b[1;33m\u001b[0m\u001b[0m\n\u001b[0;32m      3\u001b[0m \u001b[1;33m\u001b[0m\u001b[0m\n\u001b[1;32m----> 4\u001b[1;33m \u001b[0mprint\u001b[0m\u001b[1;33m(\u001b[0m\u001b[0my\u001b[0m\u001b[1;33m.\u001b[0m\u001b[0mshape\u001b[0m\u001b[1;33m)\u001b[0m\u001b[1;33m\u001b[0m\u001b[1;33m\u001b[0m\u001b[0m\n\u001b[0m",
      "\u001b[1;31mNameError\u001b[0m: name 'y' is not defined"
     ]
    }
   ],
   "source": [
    "f = my_first_network(in_features=3, out_features=13, device=device)\n",
    "x = torch.rand(3, device=device)\n",
    "\n",
    "print(y.shape)"
   ]
  },
  {
   "cell_type": "markdown",
   "metadata": {},
   "source": [
    "<div class=\"alert alert-block alert-info\">\n",
    "<b>Note:</b> Notice that we can use `f(x)` instead of `f.forward(x)` -- `forward` overloads the `__call__` method of the `torch.nn.Module` class, so the above statements are equivalent.\n",
    "</div>"
   ]
  },
  {
   "cell_type": "markdown",
   "metadata": {},
   "source": [
    "Since we have the abstraction for one layer, what's stopping us from instantiating a second network and composing the two into a deep network?"
   ]
  },
  {
   "cell_type": "code",
   "execution_count": 6,
   "metadata": {},
   "outputs": [
    {
     "name": "stdout",
     "output_type": "stream",
     "text": [
      "Parameter containing:\n",
      "tensor([[0.2506, 0.4006, 0.0842],\n",
      "        [0.5812, 0.9063, 0.1350],\n",
      "        [0.4091, 0.7027, 0.1975],\n",
      "        [0.2549, 0.2704, 0.1894],\n",
      "        [0.6500, 0.0991, 0.8123],\n",
      "        [0.7493, 0.7843, 0.1547],\n",
      "        [0.8404, 0.4065, 0.1651],\n",
      "        [0.4041, 0.4652, 0.9174],\n",
      "        [0.3883, 0.3797, 0.9951],\n",
      "        [0.8441, 0.5949, 0.9827],\n",
      "        [0.6833, 0.0102, 0.2856],\n",
      "        [0.0322, 0.5759, 0.3122]], requires_grad=True)\n",
      "Parameter containing:\n",
      "tensor([0.2422, 0.8976, 0.4650, 0.2005, 0.0957, 0.1983, 0.3017, 0.1034, 0.3600,\n",
      "        0.6804, 0.2484, 0.7037], requires_grad=True)\n",
      "Parameter containing:\n",
      "tensor([[0.0066, 0.4389, 0.3216, 0.9757, 0.2669, 0.2082, 0.4620, 0.7977, 0.5177,\n",
      "         0.9381, 0.5862, 0.5413],\n",
      "        [0.2696, 0.4372, 0.2621, 0.1312, 0.6659, 0.3528, 0.0966, 0.2697, 0.7983,\n",
      "         0.2395, 0.2515, 0.5430],\n",
      "        [0.6012, 0.3319, 0.2987, 0.9165, 0.0777, 0.0141, 0.5880, 0.3508, 0.4841,\n",
      "         0.6244, 0.8685, 0.5329],\n",
      "        [0.5294, 0.2043, 0.5975, 0.1180, 0.0047, 0.0809, 0.2298, 0.2674, 0.8572,\n",
      "         0.1788, 0.9501, 0.8064],\n",
      "        [0.4468, 0.4238, 0.1980, 0.2484, 0.9836, 0.6566, 0.0819, 0.7896, 0.1060,\n",
      "         0.3411, 0.4527, 0.7474]], requires_grad=True)\n",
      "Parameter containing:\n",
      "tensor([0.5751, 0.0365, 0.1899, 0.6279, 0.8492], requires_grad=True)\n",
      "Parameter containing:\n",
      "tensor([[0.8493, 0.6216, 0.8912, 0.1434, 0.4275],\n",
      "        [0.9136, 0.9567, 0.1442, 0.1497, 0.0148],\n",
      "        [0.7326, 0.0862, 0.1108, 0.0210, 0.0075]], requires_grad=True)\n",
      "Parameter containing:\n",
      "tensor([0.7205, 0.5389, 0.0990], requires_grad=True)\n",
      "g:\n",
      "my_first_deep_network(\n",
      "  (n_1): my_first_network()\n",
      "  (n_2): my_first_network()\n",
      "  (n_3): my_first_network()\n",
      ")\n"
     ]
    }
   ],
   "source": [
    "class my_first_deep_network(torch.nn.Module):\n",
    "    def __init__(self, in_features: int, intermediate_features: int, out_features: int, device: str) -> None:\n",
    "        super(my_first_deep_network, self).__init__()\n",
    "        self.device = device\n",
    "        self.n_1 = my_first_network(\n",
    "            in_features=in_features, out_features=intermediate_features, device=self.device\n",
    "        )\n",
    "        self.n_2 = my_first_network(\n",
    "            in_features=intermediate_features, out_features=out_features, device=self.device\n",
    "        )\n",
    "        self.n_3= my_first_network(\n",
    "            in_features=out_features, out_features=in_features, device=self.device\n",
    "        )\n",
    "        \n",
    "    def forward(self, x: torch.FloatTensor) -> torch.FloatTensor:\n",
    "        return (self.n_3(self.n_2(self.n_1(x))))\n",
    "    \n",
    "g = my_first_deep_network(in_features=3, intermediate_features=12, out_features=5, device=device)\n",
    "print(\"g:\")\n",
    "print(g)\n",
    "\n",
    "#y = g(x)\n",
    "#print(y)"
   ]
  },
  {
   "cell_type": "markdown",
   "metadata": {},
   "source": [
    "Very easy, right?\n",
    "\n",
    "Except we just did it the hard way! We could have used torch's pre-made `torch.nn.Linear`, the existing abstraction for single feedforward layers, and `torch.nn.Sequential`, the abstraction for composing sequences of networks. `Sequential` is initiated by an iterable of neural modules (not functions!), which are applied in the order specified.\n",
    "\n",
    "How would that have looked like?"
   ]
  },
  {
   "cell_type": "code",
   "execution_count": 9,
   "metadata": {},
   "outputs": [
    {
     "name": "stdout",
     "output_type": "stream",
     "text": [
      "tensor([0.5197, 0.4960, 0.3522, 0.5590, 0.4385], grad_fn=<SigmoidBackward>)\n"
     ]
    }
   ],
   "source": [
    "h = torch.nn.Sequential(\n",
    "    torch.nn.Linear(in_features=3, out_features=12),\n",
    "    torch.nn.Sigmoid(), \n",
    "    torch.nn.Linear(in_features=12, out_features=5), \n",
    "    torch.nn.Sigmoid()  \n",
    ").to(device) \n",
    "\n",
    "y = h(x)\n",
    "print(y)"
   ]
  },
  {
   "cell_type": "markdown",
   "metadata": {},
   "source": [
    "Even easier!\n",
    "\n",
    "<div class=\"alert alert-block alert-info\">\n",
    "<b>Note:</b> When composing networks using the `Sequential` abstraction, you should make sure that each network's expected input shape matches the output shape of the previous network. The device conversion is applied recursively to each sub-module within a module, ensuring that all components of the network live happily in the same device. 🏠 \n",
    "</div>\n",
    "\n",
    "So, why ever define our own networks if torch can do it for us? The answer is that very often (and very soon!) it might be the case that you'll need to write your own, potentially complex, computation flow, which won't necesserily be possible to rephrase as simple layer stacking."
   ]
  },
  {
   "cell_type": "code",
   "execution_count": 10,
   "metadata": {},
   "outputs": [],
   "source": [
    "del x, y, h, g, f, my_first_network, my_first_deep_network"
   ]
  },
  {
   "cell_type": "markdown",
   "metadata": {},
   "source": [
    "<a id='3b'></a>\n",
    "### B.  Loss Functions\n",
    "\n",
    "We have seen how to construct parametric, trainable functions and networks. Requiring a gradient and having a gradient are two different things, however. To obtain the gradients of our trainable parameters we need a loss function. The loss function is an indicator of how far off the network's output (prediction) is from the actual truth. Applying the chain rule, we may differentiate the loss value w.r.t. the model's parameters, populating the tensors' gradients in the process. \n",
    "\n",
    "As with networks, torch provides implementations for the commonly used loss functions but also allows us to write our own (as another neural module!).\n",
    "\n",
    "We will only experiment with an existing loss function, but first we need to construct some data to play with -- we can create a synthetic dataset of pairs $(x_i, y_i)$ where $x_i$ is a random number and $y_i = 3 \\cdot x_i - 2$"
   ]
  },
  {
   "cell_type": "code",
   "execution_count": 302,
   "metadata": {},
   "outputs": [
    {
     "name": "stdout",
     "output_type": "stream",
     "text": [
      "tensor([[0.9878],\n",
      "        [0.8200],\n",
      "        [0.0110],\n",
      "        [0.4994],\n",
      "        [0.8722]])\n"
     ]
    }
   ],
   "source": [
    "# a tensor of shape 100, 1, i.e. 100 data points each of dimensionality 1\n",
    "x = torch.rand((100, 1), device=device) \n",
    "print(x[:5])\n",
    "y = 3 * x - 2"
   ]
  },
  {
   "cell_type": "markdown",
   "metadata": {},
   "source": [
    "Time to employ a linear network.\n",
    "\n",
    "<div class=\"alert alert-block alert-warning\">\n",
    "<b>Warning:</b>\n",
    "Don't mix up input/output dimensionality and number of data samples! \n",
    "</div>"
   ]
  },
  {
   "cell_type": "code",
   "execution_count": 303,
   "metadata": {},
   "outputs": [
    {
     "name": "stdout",
     "output_type": "stream",
     "text": [
      "Linear(in_features=1, out_features=1, bias=True)\n",
      "tensor([[0.9312],\n",
      "        [0.8736],\n",
      "        [0.5956],\n",
      "        [0.7634],\n",
      "        [0.8915]], grad_fn=<SliceBackward>)\n"
     ]
    }
   ],
   "source": [
    "f = torch.nn.Linear(in_features=1, out_features=1).to(device)\n",
    "print(f)\n",
    "prediction = f(x)\n",
    "print(prediction[:5])\n",
    "loss = x-prediction"
   ]
  },
  {
   "cell_type": "markdown",
   "metadata": {},
   "source": [
    "Now to define our loss function:"
   ]
  },
  {
   "cell_type": "code",
   "execution_count": 304,
   "metadata": {},
   "outputs": [
    {
     "name": "stdout",
     "output_type": "stream",
     "text": [
      "MSELoss()\n"
     ]
    }
   ],
   "source": [
    "loss_fn = torch.nn.MSELoss()\n",
    "print(loss_fn)"
   ]
  },
  {
   "cell_type": "markdown",
   "metadata": {},
   "source": [
    "Note that each element of our batch (i.e. each of the 100 data samples) has its own MSE (mean squared error) w.r.t. its corresponding output. These unique losses are averaged into a single scalar by the loss function."
   ]
  },
  {
   "cell_type": "code",
   "execution_count": 305,
   "metadata": {},
   "outputs": [
    {
     "name": "stdout",
     "output_type": "stream",
     "text": [
      "tensor(2.0679, grad_fn=<MeanBackward0>)\n"
     ]
    }
   ],
   "source": [
    "loss = loss_fn(y, prediction)\n",
    "print(loss)"
   ]
  },
  {
   "cell_type": "markdown",
   "metadata": {},
   "source": [
    "Now that we have computed the loss, we may use it to populate the parameters' gradients via a backward pass. This is automagically done by a simple call of `backward`. 🧙"
   ]
  },
  {
   "cell_type": "code",
   "execution_count": 306,
   "metadata": {},
   "outputs": [],
   "source": [
    "loss.backward()"
   ]
  },
  {
   "cell_type": "markdown",
   "metadata": {},
   "source": [
    "Torch provides a few different loss functions, each for a particular use case (the task and your output layer's activation function). Note that some loss functions are already implementing the network's output activation internally. Refer to the [documentation](https://pytorch.org/docs/stable/nn.html#loss-functions) for a detailed overview. In most cases, the cheatsheet below should contain the answer.\n",
    "\n",
    "<div class=\"alert alert-block alert-info\">\n",
    "<b>Tip:</b> At a loss which loss to use? Use this cheatsheet!\n",
    "</div>\n",
    "\n",
    "| Task | Activation | Loss Function |\n",
    "| --- | --- | --- |\n",
    "| K-class Classification | - | CrossEntropyLoss |\n",
    "| K-class Classification | LogSoftmax | NLLLoss |\n",
    "| K-class, Multi-Label Classification | - | BCEWithLogitsLoss |\n",
    "| K-class, Multi-Label Classification | LogSigmoid | BCELoss |\n",
    "| Continuous Regression | - | MSELoss |\n",
    "| Probability Distribution Fitting | LogSoftmax / LogSigmoid | KLDivLoss |"
   ]
  },
  {
   "cell_type": "markdown",
   "metadata": {},
   "source": [
    "<a id='3c'></a>\n",
    "\n",
    "### C.  Optimizers\n",
    "Our struggles are slowly coming to an end. We have made a trainable network, we have computed the loss given the true output, and we have used the loss to populate the parameter gradients. The final thing to do is to use these gradients in order to update the parameter values. \n",
    "This is managed by an `Optimizer`. Gradient based optimizers are the norm for training neural networks; all of them are variants of stochastic gradient descent. Torch provides implementations of the classic optimizers. Regardless of which one of them is your favourite, the process always involves the same steps:\n",
    "1. Initiate the optimizer by letting it know which parameters it is going to be responsible for\n",
    "2. Iterate over your data, and:\n",
    "    2. Compute the loss\n",
    "    3. Back-propagate\n",
    "    4. Perform an optimization step\n",
    "    5. Zero out the gradients (so that they don't accumulate over optimization steps)\n",
    "\n",
    "Let's see them in action on our toy network and synthetic dataset."
   ]
  },
  {
   "cell_type": "code",
   "execution_count": 307,
   "metadata": {},
   "outputs": [
    {
     "name": "stdout",
     "output_type": "stream",
     "text": [
      "Iteration 0 loss: 2.067937135696411\n",
      "Iteration 500 loss: 1.0865201950073242\n",
      "Iteration 1000 loss: 0.79912930727005\n",
      "Iteration 1500 loss: 0.6224879622459412\n",
      "Iteration 2000 loss: 0.4604010283946991\n",
      "Iteration 2500 loss: 0.3208230435848236\n",
      "Iteration 3000 loss: 0.20927509665489197\n",
      "Iteration 3500 loss: 0.12623827159404755\n",
      "Iteration 4000 loss: 0.06906264275312424\n",
      "Iteration 4500 loss: 0.03329094126820564\n",
      "Iteration 5000 loss: 0.013566496782004833\n"
     ]
    }
   ],
   "source": [
    "opt = torch.optim.Adam(f.parameters())  # initiate optimizer\n",
    "for t in range(5001):  # iterate\n",
    "    prediction = f(x)  # predict \n",
    "    loss = loss_fn(prediction, y)  # compute loss\n",
    "    loss.backward()  # backpropagate\n",
    "    opt.step()  # optimize\n",
    "    opt.zero_grad()  # reset gradients\n",
    "    if t % 500 == 0:\n",
    "        print(\"Iteration {} loss: {}\".format(t, loss.item()))"
   ]
  },
  {
   "cell_type": "markdown",
   "metadata": {},
   "source": [
    "Congratulations! You have trained your first torch network! 🎉\n",
    "\n",
    "Remember that the network was trying to approximate $a$ and $b$ in $a \\cdot x + b$, which we set to $3 \\cdot x - 2$ when we created the dataset. You can now probe the network's inner parameters to see to what extent it figured out the truth."
   ]
  },
  {
   "cell_type": "code",
   "execution_count": 309,
   "metadata": {},
   "outputs": [
    {
     "name": "stdout",
     "output_type": "stream",
     "text": [
      "Parameter containing:\n",
      "tensor([[2.5859]], requires_grad=True)\n",
      "Parameter containing:\n",
      "tensor([-1.7644], requires_grad=True)\n"
     ]
    }
   ],
   "source": [
    "print(f.weight)\n",
    "print(f.bias)"
   ]
  },
  {
   "cell_type": "markdown",
   "metadata": {},
   "source": [
    "---"
   ]
  },
  {
   "cell_type": "markdown",
   "metadata": {},
   "source": [
    "<a id='3d'></a>\n",
    "\n",
    "### D. Exercises"
   ]
  },
  {
   "cell_type": "markdown",
   "metadata": {},
   "source": [
    "Before we move on to a somewhat more realistic problem, it might be a good idea to get further acquainted with the basics. \n",
    "\n",
    "Let's take a quick look at a few different non-linear activations first."
   ]
  },
  {
   "cell_type": "markdown",
   "metadata": {},
   "source": [
    "Use `arange` to construct a float tensor $x$ of values $0 \\dots 1000$ in ascending order. Then elementwise subtract $500$ and divide by $100$ to get a tensor of values $-5 \\dots 5$."
   ]
  },
  {
   "cell_type": "code",
   "execution_count": 310,
   "metadata": {},
   "outputs": [],
   "source": [
    "x = torch.arange(1000,dtype=torch.float)\n",
    "x = (x-500)/100\n"
   ]
  },
  {
   "cell_type": "markdown",
   "metadata": {},
   "source": [
    "Construct the tensors $s = \\sigma(x)$, $t = tanh(x)$ and $r = ReLU(x)$ (refer to the documentation if needed)."
   ]
  },
  {
   "cell_type": "code",
   "execution_count": 21,
   "metadata": {},
   "outputs": [
    {
     "ename": "NameError",
     "evalue": "name 'x' is not defined",
     "output_type": "error",
     "traceback": [
      "\u001b[1;31m---------------------------------------------------------------------------\u001b[0m",
      "\u001b[1;31mNameError\u001b[0m                                 Traceback (most recent call last)",
      "\u001b[1;32m<ipython-input-21-e5ca39b51c34>\u001b[0m in \u001b[0;36m<module>\u001b[1;34m\u001b[0m\n\u001b[1;32m----> 1\u001b[1;33m \u001b[0ms\u001b[0m \u001b[1;33m=\u001b[0m \u001b[0mtorch\u001b[0m\u001b[1;33m.\u001b[0m\u001b[0msigmoid\u001b[0m\u001b[1;33m(\u001b[0m\u001b[0mx\u001b[0m\u001b[1;33m)\u001b[0m\u001b[1;33m\u001b[0m\u001b[1;33m\u001b[0m\u001b[0m\n\u001b[0m\u001b[0;32m      2\u001b[0m \u001b[0mt\u001b[0m \u001b[1;33m=\u001b[0m \u001b[0mtorch\u001b[0m\u001b[1;33m.\u001b[0m\u001b[0mtanh\u001b[0m\u001b[1;33m(\u001b[0m\u001b[0mx\u001b[0m\u001b[1;33m)\u001b[0m\u001b[1;33m\u001b[0m\u001b[1;33m\u001b[0m\u001b[0m\n\u001b[0;32m      3\u001b[0m \u001b[0mr\u001b[0m \u001b[1;33m=\u001b[0m \u001b[0mtorch\u001b[0m\u001b[1;33m.\u001b[0m\u001b[0mrelu\u001b[0m\u001b[1;33m(\u001b[0m\u001b[0mx\u001b[0m\u001b[1;33m)\u001b[0m\u001b[1;33m\u001b[0m\u001b[1;33m\u001b[0m\u001b[0m\n",
      "\u001b[1;31mNameError\u001b[0m: name 'x' is not defined"
     ]
    }
   ],
   "source": [
    "s = torch.sigmoid(x)\n",
    "t = torch.tanh(x)\n",
    "r = torch.relu(x)"
   ]
  },
  {
   "cell_type": "markdown",
   "metadata": {},
   "source": [
    "Now we can convert these to numpy arrays and plot the results. "
   ]
  },
  {
   "cell_type": "code",
   "execution_count": 312,
   "metadata": {},
   "outputs": [
    {
     "data": {
      "image/png": "[encoded data removed]",
      "text/plain": [
       "<Figure size 432x288 with 1 Axes>"
      ]
     },
     "metadata": {
      "needs_background": "light"
     },
     "output_type": "display_data"
    }
   ],
   "source": [
    "from matplotlib import pyplot as plt\n",
    "plt.plot(x.cpu().numpy(),s.cpu().numpy())\n",
    "plt.plot(x.cpu().numpy(),t.cpu().numpy())\n",
    "plt.plot(x.cpu().numpy(),r.cpu().numpy())\n",
    "plt.ylim((-2, 5))\n",
    "plt.legend([\"sigmoid\", \"tanh\", \"relu\"])\n",
    "plt.show()"
   ]
  },
  {
   "cell_type": "markdown",
   "metadata": {},
   "source": [
    "Let's practice some more by solving the infamous [XOR problem](https://en.wikipedia.org/wiki/Exclusive_or) with a small deep network. "
   ]
  },
  {
   "cell_type": "code",
   "execution_count": 11,
   "metadata": {},
   "outputs": [],
   "source": [
    "X = torch.tensor([[0, 0], [0, 1], [1, 0], [1, 1]], device=device, dtype=torch.float)\n",
    "Y = torch.tensor([0, 1, 1, 0], device=device, dtype=torch.float)"
   ]
  },
  {
   "cell_type": "markdown",
   "metadata": {},
   "source": [
    "Use `torch.nn.Sequential` to create a minimal deep network with 1 output dimension and 2 intermediate dimensions. Use ReLU as your intermediate layer activation. \n",
    "\n",
    "Picturing the problem as a classification over two classes, select an appropriate output activation and loss function (refer to the cheatsheet for aid)."
   ]
  },
  {
   "cell_type": "code",
   "execution_count": 148,
   "metadata": {},
   "outputs": [
    {
     "name": "stdout",
     "output_type": "stream",
     "text": [
      "torch.Size([8])\n",
      "tensor([0.4317, 0.5223, 0.5223, 0.5425], grad_fn=<SigmoidBackward>)\n",
      "torch.Size([4]) torch.Size([4])\n",
      "mine: 0.23424406349658966\n",
      "tensor(0.2342, grad_fn=<MseLossBackward>)\n"
     ]
    }
   ],
   "source": [
    "f = torch.nn.Sequential(\n",
    "    torch.nn.Linear(8, 16),\n",
    "    torch.nn.ReLU(),\n",
    "    torch.nn.Linear(16, 32),\n",
    "    torch.nn.ReLU(),\n",
    "    torch.nn.Linear(32,32),\n",
    "    torch.nn.ReLU(),\n",
    "    torch.nn.Linear(32,16),\n",
    "    torch.nn.ReLU(),\n",
    "    torch.nn.Linear(16, 4),\n",
    "    torch.nn.Sigmoid()\n",
    ").to(device)\n",
    "\n",
    "\n",
    "loss_fn = torch.nn.MSELoss()\n",
    "X = X.squeeze(0)\n",
    "X = X.flatten()\n",
    "print(X.shape)\n",
    "print(f(X))\n",
    "predi = f(X)\n",
    "loss_fn = loss_fn(predi,Y)\n",
    "\n",
    "def loss_(predicted, y):\n",
    "    print(predicted.shape, y.shape)\n",
    "    #assert y.shape[1] == predicted[0].shape #  assert A.shape[1] == B.shape[0]\n",
    "    loss = torch.sum(((y-predicted.T)**2))\n",
    "    return loss /len(y)\n",
    "\n",
    "loss_fun_2 = loss_(predi, Y)\n",
    "print(f\"mine: { loss_fun_2}\"  )\n",
    "\n",
    "print(loss_fn)"
   ]
  },
  {
   "cell_type": "markdown",
   "metadata": {},
   "source": [
    "Instantiate an optimizer for your network."
   ]
  },
  {
   "cell_type": "code",
   "execution_count": null,
   "metadata": {},
   "outputs": [],
   "source": []
  },
  {
   "cell_type": "markdown",
   "metadata": {},
   "source": [
    "Perform 5000 iterations of training, printing the loss as you go."
   ]
  },
  {
   "cell_type": "code",
   "execution_count": 149,
   "metadata": {},
   "outputs": [
    {
     "name": "stdout",
     "output_type": "stream",
     "text": [
      "Iteration 0 loss: 0.23424406349658966\n",
      "Iteration 500 loss: 2.2459022147813812e-05\n",
      "Iteration 1000 loss: 5.67132656215108e-06\n",
      "Iteration 1500 loss: 2.107220325342496e-06\n",
      "Iteration 2000 loss: 6.54500240671041e-07\n",
      "Iteration 2500 loss: 2.4576038981649617e-07\n",
      "Iteration 3000 loss: 1.1520965870204236e-07\n",
      "Iteration 3500 loss: 6.223311288522382e-08\n",
      "Iteration 4000 loss: 3.6780864576257954e-08\n",
      "Iteration 4500 loss: 2.3109290481215794e-08\n",
      "Iteration 5000 loss: 1.5160022570626097e-08\n"
     ]
    }
   ],
   "source": [
    "opt = torch.optim.Adam(f.parameters())  # initiate optimizer\n",
    "opt.Parameter  = X\n",
    "opt.amsgrad = True\n",
    "loss_fn = torch.nn.MSELoss()\n",
    "for t in range(5001):  # iterate\n",
    "    P = f(X)  # predict \n",
    "    loss_ = loss_fn(P, Y)   # compute loss\n",
    "    if t ==0:\n",
    "        loss_.backward(retain_graph=True)  # backpropagate \n",
    "    else:\n",
    "        loss_.backward()\n",
    "        opt.step()  # optimize\n",
    "        opt.zero_grad()  # reset gradients\n",
    "\n",
    "\n",
    "    if t % 500 == 0:\n",
    "        print(\"Iteration {} loss: {}\".format(t, loss_.item()))\n",
    "        \n",
    "        \n",
    "        \n"
   ]
  },
  {
   "cell_type": "markdown",
   "metadata": {},
   "source": [
    "You might encounter a shape error here. If you do, don't panic! Read it, understand what the problem is and remember `.view()`.\n",
    "\n",
    "Is the loss improving? If not, try toying around with the intermediate layer's width, the optimizer and its learning rate until your network can solve the problem.\n",
    "\n",
    "Check what the trained network now predicts on our input data. Is that what we would expect here?"
   ]
  },
  {
   "cell_type": "code",
   "execution_count": 150,
   "metadata": {},
   "outputs": [
    {
     "data": {
      "text/plain": [
       "tensor([1.9919e-04, 9.9991e-01, 9.9988e-01, 9.1921e-06],\n",
       "       grad_fn=<SigmoidBackward>)"
      ]
     },
     "execution_count": 150,
     "metadata": {},
     "output_type": "execute_result"
    }
   ],
   "source": [
    "f(X)"
   ]
  },
  {
   "cell_type": "code",
   "execution_count": 151,
   "metadata": {},
   "outputs": [],
   "source": [
    "del f, loss_fn, opt, X, Y"
   ]
  },
  {
   "cell_type": "markdown",
   "metadata": {
    "tags": []
   },
   "source": [
    "<a id='3d'></a>\n",
    "## 4. Putting Everything Together\n",
    "Time to hone our newly acquired torch skills! \n",
    "\n",
    "We will now put everything together and write an actual network on a real task. The code below is mostly complete, but some parts here and there are missing. You will be asked to fill those in, so pay attention!"
   ]
  },
  {
   "cell_type": "markdown",
   "metadata": {},
   "source": [
    "First, construct a two-layer network that implements the function $f: \\mathbb{R}^{300} \\to \\mathbb{R}$, such that:\n",
    "\n",
    "$f(x) = W_2(ReLU(W_1x + \\beta_1) + \\beta_2$\n",
    "\n",
    "where:\n",
    "* $W_1 \\in \\mathbb{R}^{100, 300}$\n",
    "* $W_2 \\in \\mathbb{R}^{1, 100}$ \n",
    "* $ \\beta_1 \\in \\mathbb{R}^{100}$ \n",
    "* $\\beta_2 \\in \\mathbb{R}^1$\n",
    "\n",
    "\n",
    "using `torch.nn.Sequential` "
   ]
  },
  {
   "cell_type": "code",
   "execution_count": 5,
   "metadata": {},
   "outputs": [],
   "source": [
    "f = torch.nn.Sequential(\n",
    "    torch.nn.Linear(300,100, bias =True),\n",
    "    torch.nn.ReLU(), # I am not sure how to add the Betas\n",
    "    torch.nn.Linear(100,1,bias =True),\n",
    "    torch.nn.Sigmoid(), # I am not sure how to add the Betas\n",
    ").to(device)"
   ]
  },
  {
   "cell_type": "markdown",
   "metadata": {},
   "source": [
    "Let's make some use of this network on real data.\n",
    "We are going to open a data dump containing ~5500 baby names. Each name is associated with a label (either 0 for male, or 1 for female), and also a 300-dimensional vector. Representing words as dense vectors is standard practice in NLP; you will learn more about these vectors in your first assignment. For now, we will simply use them in an attempt to teach the network to distinguish between boy and girl babies given their names, while writing some useful code in the process. 👶 🍼"
   ]
  },
  {
   "cell_type": "code",
   "execution_count": null,
   "metadata": {},
   "outputs": [],
   "source": [
    "import pickle\n",
    "with open(\"name_data.p\", \"rb\") as fh:\n",
    "    names, vectors, labels = pickle.load(fh)"
   ]
  },
  {
   "cell_type": "markdown",
   "metadata": {},
   "source": [
    "What does our data look like? Run the snippet below a couple of times to get an impression."
   ]
  },
  {
   "cell_type": "code",
   "execution_count": null,
   "metadata": {},
   "outputs": [],
   "source": [
    "print(np.random.permutation(list(zip(names, labels)))[0:20])"
   ]
  },
  {
   "cell_type": "markdown",
   "metadata": {},
   "source": [
    "`vectors` is a list of numpy arrays, and `labels` is a list of integers. We will need to convert them to lists of FloatTensors. Since that is a lot of data, it is unlikely for them to all fit in the GPU, so we will use the RAM as a temporary storage regardless of your currently used device."
   ]
  },
  {
   "cell_type": "code",
   "execution_count": null,
   "metadata": {},
   "outputs": [],
   "source": [
    "# or alternatively, vectors = [torch.tensor(vector) for vector in vectors]\n",
    "vectors = list(map(lambda x: torch.tensor(x, dtype=torch.float), vectors))\n",
    "labels = list(map(lambda x: torch.tensor(x, dtype=torch.float), labels))  "
   ]
  },
  {
   "cell_type": "markdown",
   "metadata": {},
   "source": [
    "Training on your entire dataset is bad practice; we should split the data into a training set and a validation set. We could either do it manually, or let `sklearn` do it for us."
   ]
  },
  {
   "cell_type": "code",
   "execution_count": null,
   "metadata": {},
   "outputs": [],
   "source": [
    "from sklearn.model_selection import train_test_split\n",
    "names_train, names_val, X_train, X_val, Y_train, Y_val = train_test_split(names, vectors, labels, test_size=0.2)\n",
    "assert len(X_train) == len(Y_train) == len(names_train)\n",
    "assert len(X_val) == len(Y_val) == len(names_val)"
   ]
  },
  {
   "cell_type": "markdown",
   "metadata": {},
   "source": [
    "Now that we have split the data, we may convert them from a list of tensors into a big tensor. We could do that by using `view()` to expand the first dimension of each vector and then `cat()` to merge them, but an easier solution is `stack()`."
   ]
  },
  {
   "cell_type": "code",
   "execution_count": null,
   "metadata": {},
   "outputs": [],
   "source": [
    "X_train = torch.stack(X_train)\n",
    "X_val = torch.stack(X_val)\n",
    "Y_train = torch.tensor(Y_train)\n",
    "Y_val = torch.tensor(Y_val)\n",
    "print(X_train.shape)\n",
    "print(X_val.shape)\n",
    "print(Y_train.shape)\n",
    "print(Y_val.shape)"
   ]
  },
  {
   "cell_type": "markdown",
   "metadata": {},
   "source": [
    "Now that we have our tensors in a sensible format, we may construct a Dataset (a storage unit for our data) and a DataLoader (a wrapper responsible for shuffling the data, iterating through it and converting it to batches)."
   ]
  },
  {
   "cell_type": "code",
   "execution_count": null,
   "metadata": {},
   "outputs": [],
   "source": [
    "from torch.utils.data import TensorDataset\n",
    "from torch.utils.data import DataLoader\n",
    "\n",
    "train_dataset = TensorDataset(X_train, Y_train)\n",
    "train_dataloader = DataLoader(train_dataset, batch_size=32, shuffle=True)\n",
    "val_dataset = TensorDataset(X_val, Y_val)\n",
    "val_dataloader = DataLoader(val_dataset, batch_size=32, shuffle=False)  # no need to shuffle the validation data"
   ]
  },
  {
   "cell_type": "markdown",
   "metadata": {},
   "source": [
    "Let's begin and immediately stop an iteration through the training dataloader to get an idea of what's going on."
   ]
  },
  {
   "cell_type": "code",
   "execution_count": null,
   "metadata": {},
   "outputs": [],
   "source": [
    "for batch_x, batch_y in train_dataloader:\n",
    "    print(batch_x.shape)\n",
    "    print(batch_x.dtype)\n",
    "    print(batch_y.shape)\n",
    "    print(batch_y.dtype)\n",
    "    break"
   ]
  },
  {
   "cell_type": "markdown",
   "metadata": {},
   "source": [
    "Looking good; batch_x is 32 300-dimensional vectors, and batch_y is 32 values."
   ]
  },
  {
   "cell_type": "markdown",
   "metadata": {},
   "source": [
    "`train_batch()` is a function that takes a network, a batch of inputs, a batch of outputs, a loss function and an optimizer, runs the training routine on that batch and returns the loss value of that batch."
   ]
  },
  {
   "cell_type": "code",
   "execution_count": null,
   "metadata": {},
   "outputs": [],
   "source": [
    "from typing import Callable, List\n",
    "\n",
    "# Callable is typed as Callable[[i1, i2, ..], o]\n",
    "# where i1, i2, .. are the input types and o is the output type.\n",
    "\n",
    "def train_batch(\n",
    "    network: torch.nn.Module,  # the network\n",
    "    X_batch: torch.FloatTensor,  # the X batch\n",
    "    Y_batch: torch.LongTensor,   # the Y batch\n",
    "    # a function from a FloatTensor (prediction) and a FloatTensor (Y) to a FloatTensor (the loss)\n",
    "    loss_fn: Callable[[torch.FloatTensor, torch.FloatTensor], torch.FloatTensor],  \n",
    "    # the optimizer\n",
    "    optimizer: torch.optim.Optimizer\n",
    ") -> float:\n",
    "    # Set the training mode.\n",
    "    network.train()\n",
    "    # Train.\n",
    "    prediction_batch = network(X_batch)  # forward pass\n",
    "    batch_loss = loss_fn(prediction_batch.view(-1), Y_batch)  # loss calculation\n",
    "    batch_loss.backward()  # gradient computation\n",
    "    optimizer.step()  # back-propagation\n",
    "    optimizer.zero_grad()  # gradient reset\n",
    "    return batch_loss.item()"
   ]
  },
  {
   "cell_type": "markdown",
   "metadata": {},
   "source": [
    "<div class=\"alert alert-block alert-info\">\n",
    "<b>Note:</b> Several network components (e.g. dropout units) may behave differently during training and validation. We use `.train()` to inform the network that we are in training time.\n",
    "</div>\n",
    "\n",
    "<div class=\"alert alert-block alert-warning\">\n",
    "<b>Warning:</b>\n",
    "The `batch_loss` tensor requires gradient (why?). It is important to return its contents with `.item()` rather than the tensor itself, otherwise we risk memory leak because of the accumulated gradient tracking.\n",
    "</div>"
   ]
  },
  {
   "cell_type": "markdown",
   "metadata": {},
   "source": [
    "`train_epoch()` is a function that takes a network, the training dataloader, a loss function and an optimizer. It iterates through the dataloader and is responsible for calling `train_batch()`."
   ]
  },
  {
   "cell_type": "code",
   "execution_count": null,
   "metadata": {},
   "outputs": [],
   "source": [
    "def train_epoch(\n",
    "    network: torch.nn.Module, \n",
    "    dataloader: DataLoader,\n",
    "    loss_fn: Callable[[torch.FloatTensor, torch.FloatTensor], torch.FloatTensor],\n",
    "    optimizer: torch.optim.Optimizer, \n",
    "    device: str\n",
    ") -> float:\n",
    "    # Set the initial loss value.\n",
    "    loss = 0.\n",
    "    # Iterate over the batches in the dataloader.\n",
    "    for i, (x_batch, y_batch) in enumerate(dataloader):\n",
    "        x_batch = x_batch.to(device)  # convert back to your chosen device\n",
    "        y_batch = y_batch.to(device)\n",
    "        loss += train_batch(\n",
    "            network=network, X_batch=x_batch, Y_batch=y_batch, loss_fn=loss_fn, optimizer=optimizer\n",
    "        )\n",
    "    loss /= (i+1) # divide the loss by the number of batches for consistency \n",
    "    return loss"
   ]
  },
  {
   "cell_type": "markdown",
   "metadata": {},
   "source": [
    "Your turn; fill in the missing parts of `eval_batch()`, a function that takes a network, a batch of inputs, a batch of outputs and a loss function, and computes the loss of that batch."
   ]
  },
  {
   "cell_type": "code",
   "execution_count": null,
   "metadata": {},
   "outputs": [],
   "source": [
    "def eval_batch(\n",
    "    network: torch.nn.Module,  # the network\n",
    "    X_batch: torch.FloatTensor,  # the X batch\n",
    "    Y_batch: torch.LongTensor,   # the Y batch\n",
    "    loss_fn: Callable[[torch.FloatTensor, torch.LongTensor], torch.FloatTensor]\n",
    ") -> float:\n",
    "    # Set the evaluation mode.\n",
    "    network.eval()\n",
    "    #\n",
    "    with torch.no_grad():\n",
    "        loss_ =loss_fn( network(X_batch),Y_batch)\n",
    "    return loss_"
   ]
  },
  {
   "cell_type": "markdown",
   "metadata": {},
   "source": [
    "<div class=\"alert alert-block alert-info\">\n",
    "<b>Note:</b> Notice that we use `.eval()` to inform the network we are in validation time. Notice also the `no_grad()` context; this is telling torch that it doesn't need to bother with gradient tracking momentarily, providing a significant speed-up for the current session.\n",
    "</div>"
   ]
  },
  {
   "cell_type": "markdown",
   "metadata": {},
   "source": [
    "`eval_epoch()` is basically the same as `train_epoch()`, aside from the lack of an optimizer. Fill it in."
   ]
  },
  {
   "cell_type": "code",
   "execution_count": null,
   "metadata": {},
   "outputs": [],
   "source": [
    "def eval_epoch(\n",
    "    network: torch.nn.Module, \n",
    "    dataloader: DataLoader,\n",
    "    loss_fn: Callable[[torch.FloatTensor, torch.LongTensor], torch.FloatTensor],\n",
    "    device: str\n",
    ") -> float:\n",
    "    NotImplemented"
   ]
  },
  {
   "cell_type": "markdown",
   "metadata": {},
   "source": [
    "We can also make an auxilliary `infer_batch()` function; the forward pass gives us the final layer's output, but we might be more interested in the predicted class rather than its probability."
   ]
  },
  {
   "cell_type": "code",
   "execution_count": null,
   "metadata": {},
   "outputs": [],
   "source": [
    "def infer_batch(\n",
    "    network: torch.nn.Module, \n",
    "    batch_x: torch.FloatTensor, \n",
    "    device: str\n",
    ") -> torch.LongTensor:\n",
    "    # First apply the sigmoid activation \n",
    "    # (since it is implemented by the loss function rather than the network itself).\n",
    "    sigm = torch.sigmoid(network(batch_x.to(device)))\n",
    "    # Round the result.\n",
    "    classes = torch.round(sigm)\n",
    "    # Detach it from the computation graph (we no longer care about its gradients).\n",
    "    classes = classes.detach()\n",
    "    # Cast the result into a LongTensor and return.\n",
    "    return classes.to(torch.long)"
   ]
  },
  {
   "cell_type": "markdown",
   "metadata": {},
   "source": [
    "One last thing before we can finally train; we need a loss function and an optimizer. "
   ]
  },
  {
   "cell_type": "code",
   "execution_count": null,
   "metadata": {},
   "outputs": [],
   "source": [
    "opt = torch.optim.Adam(f.parameters(), lr=1e-05)\n",
    "loss_fn = torch.nn.BCEWithLogitsLoss(reduction=\"mean\")"
   ]
  },
  {
   "cell_type": "code",
   "execution_count": null,
   "metadata": {},
   "outputs": [],
   "source": [
    "NUM_EPOCHS = 100\n",
    "\n",
    "train_losses = []\n",
    "val_losses = []\n",
    "\n",
    "for t in range(NUM_EPOCHS):\n",
    "    train_loss = train_epoch(f, train_dataloader, optimizer=opt, loss_fn=loss_fn, device=device)\n",
    "    val_loss = eval_epoch(f, val_dataloader, loss_fn, device=device)\n",
    "    \n",
    "    print(\"Epoch {}\".format(t))\n",
    "    print(\" Training Loss: {}\".format(train_loss))\n",
    "    print(\" Validation Loss: {}\".format(val_loss))\n",
    "    \n",
    "    train_losses.append(train_loss)\n",
    "    val_losses.append(val_loss)"
   ]
  },
  {
   "cell_type": "markdown",
   "metadata": {},
   "source": [
    "We may plot the losses to get an idea of what the learning curve looks like."
   ]
  },
  {
   "cell_type": "code",
   "execution_count": null,
   "metadata": {},
   "outputs": [],
   "source": [
    "from matplotlib import pyplot as plt\n",
    "plt.plot(train_losses)\n",
    "plt.plot(val_losses)\n",
    "plt.legend([\"Training\", \"Validation\"])\n",
    "plt.show()"
   ]
  },
  {
   "cell_type": "markdown",
   "metadata": {},
   "source": [
    "And let's bring this to an end by labeling all of our validation data and printing the results."
   ]
  },
  {
   "cell_type": "code",
   "execution_count": null,
   "metadata": {},
   "outputs": [],
   "source": [
    "predictions = []\n",
    "\n",
    "for x_batch, _ in val_dataloader:\n",
    "    p_batch = infer_batch(f, x_batch, device).cpu().numpy().tolist()\n",
    "    predictions.extend(p_batch)\n",
    "    \n",
    "from pprint import pprint\n",
    "pprint(list(zip(names_val, predictions)))"
   ]
  },
  {
   "cell_type": "markdown",
   "metadata": {},
   "source": [
    "Very convincing! What are these word vectors and how are they helping our network predict baby genders?  🤔\n",
    "\n",
    "Do the first assignment and find out!"
   ]
  },
  {
   "cell_type": "markdown",
   "metadata": {},
   "source": [
    "---"
   ]
  }
 ],
 "metadata": {
  "kernelspec": {
   "display_name": "Python 3",
   "language": "python",
   "name": "python3"
  },
  "language_info": {
   "codemirror_mode": {
    "name": "ipython",
    "version": 3
   },
   "file_extension": ".py",
   "mimetype": "text/x-python",
   "name": "python",
   "nbconvert_exporter": "python",
   "pygments_lexer": "ipython3",
   "version": "3.6.8"
  }
 },
 "nbformat": 4,
 "nbformat_minor": 4
}
