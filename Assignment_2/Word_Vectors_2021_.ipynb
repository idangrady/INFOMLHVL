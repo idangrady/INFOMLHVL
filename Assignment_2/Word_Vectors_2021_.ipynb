{
 "cells": [
  {
   "cell_type": "markdown",
   "metadata": {},
   "source": [
    "# Vectorial Word Representations\n",
    "\n",
    "## Background\n",
    "Representing words as dense vectors over a finite-dimensional space was one of the recent breakthroughs in Natural Language Processing. Vectorial representations allow space-efficient, informationally rich storage of words that adequately captures their semantic content and enables numerical computation on them. Word vectors are the standard input representation for machine learning architectures for language processing. Even though new methods for constructing such representations emerge frequently, the original set of published papers remain a de facto point of reference as well as a good starting point. For this assignment, you will be asked to implement a small-scale variant of one such paper, namely [Global Word Vectors for Word Representation](https://nlp.stanford.edu/pubs/glove.pdf) (\"the GloVe paper\").\n",
    "\n",
    "Much of the code and data pre-processing has already been done for you. Additionally, notes on the paper will appear throughout the notebook to guide you along the code. It is, however, important to read and understand the paper, its terminology and the theory behind it before attempting to go through with the assignment. Some of the tasks will also require addressing the paper directly.\n",
    "\n",
    "**-------------------------------------------------------------------------------------------------------------**\n",
    "\n",
    "There are 2 types of tasks in this assignment: \n",
    "- coding tasks --- 10 tasks worth 1 point each --- asking you to write code following specifications provided; make sure to <ins>show the code to your teacher after completing every coding task</ins>\n",
    "- interpretation questions --- 5 questions worth 1 point each --- asking you to interpret the data or the results of the model\n",
    "\n",
    "You are greatly encouraged to add comments to your code describing what particular lines of code do (in general, a great habit to have in your coding life), as well as self-check regularly by printing your tensors and their shapes making sure they look adequate."
   ]
  },
  {
   "cell_type": "markdown",
   "metadata": {},
   "source": [
    "## Corpus Statistics\n",
    "\n",
    "The paper's proposed model, GloVe, aims to densely represent words in a way that captures the global corpus statistics. \n",
    "\n",
    "The construction it encodes is the word __co-occurrence matrix__. A co-occurrence matrix is a simplistic data structure that counts the number of times each word has appeared within the context of every other word. The definition of a context varies; usually, context is implied to be a fixed-length span (that may or may not be allowed to escape sentence boundaries) around a word. \n",
    "\n",
    "For instance, in the sentence below and for a context length of 2, the word <span style=\"color:pink\">__Earth__</span> occurs in the context of <span style=\"color:lightgreen\">made</span> (1), <span style=\"color:lightgreen\">on</span> (1), <span style=\"color:lightgreen\">as</span> (1), <span style=\"color:lightgreen\">an</span> (1).\n",
    "\n",
    "> \"He struck most of the friends he had <span style=\"color:lightgreen\">made on</span> <span style=\"color:pink\">__Earth__</span> <span style=\"color:lightgreen\">as an</span> eccentric\"\n",
    "\n",
    "Similarly, the word <span style=\"color:pink\">__friends__</span> occurs in the context of <span style=\"color:lightgreen\">of</span> (1), <span style=\"color:lightgreen\">the</span> (1), <span style=\"color:lightgreen\">he</span> (1), <span style=\"color:lightgreen\">had</span> (1).\n",
    "\n",
    "> \"He struck most <span style=\"color:lightgreen\">of the</span> <span style=\"color:pink\">__friends__</span> <span style=\"color:lightgreen\">he had</span> made on Earth as an eccentric\"\n",
    "\n",
    "An alternative definition of a context would be, for instance, the variable-length windows spanned by a full sentence.\n",
    "\n",
    "Contexts may be summed across sentences or entire corpora; the summed context of <span style=\"color:pink\">he</span> in the example sentence is: <span style=\"color:lightgreen\">struck</span> (1), <span style=\"color:lightgreen\">most</span> (1), <span style=\"color:lightgreen\">the</span> (1), <span style=\"color:lightgreen\">friends</span> (1), <span style=\"color:lightgreen\">had</span> (1), <span style=\"color:lightgreen\">made</span> (1).\n",
    "\n"
   ]
  },
  {
   "cell_type": "markdown",
   "metadata": {},
   "source": [
    "For the purposes of this assignment, we have prepared a co-occurrence matrix over a minimally processed version of the Harry Potter books.\n",
    "\n",
    "(A few interpretation tasks in this assignment presuppose some minimal level of familiarity with the Harry Potter books/films. If no one in your group is familiar with Harry Potter, please talk to your teacher)\n",
    "\n",
    "The pickle file contains three items:\n",
    "1. `vocab`: a dictionary mapping words to unique ids, containing $N$ unique words\n",
    "2. `contexts`: a dictionary mapping words to their contexts, where contexts are themselves dicts from words to integers that show the number of co-occurrences between these words.\n",
    "    E.g. `{\"portrait\": {\"harry\": 103, \"said\": 97, ...}, ...}` meaning that the word \"harry\" has appeared in the context of the word \"portrait\" 103 times, etc.\n",
    "3. `X`: a torch LongTensor ${X}$ of size $N \\times N$, where ${X}[i,j]$ denotes the number of times the word with id $j$ has appeared in the context of the word with id $i$\n",
    "\n",
    "Extremely common or uncommon words (i.e. words with too few or too many global occurrences) have been filtered out for practical reasons."
   ]
  },
  {
   "cell_type": "code",
   "execution_count": 691,
   "metadata": {},
   "outputs": [],
   "source": [
    "import pickle\n",
    "import torch\n",
    "from torch import FloatTensor, LongTensor\n",
    "from typing import Dict, Callable, List"
   ]
  },
  {
   "cell_type": "code",
   "execution_count": 692,
   "metadata": {},
   "outputs": [
    {
     "name": "stdout",
     "output_type": "stream",
     "text": [
      "5359\n"
     ]
    }
   ],
   "source": [
    "with open(\"output.p\", \"rb\") as f:\n",
    "    vocab, contexts, X = pickle.load(f)\n",
    "print(len(vocab))"
   ]
  },
  {
   "cell_type": "markdown",
   "metadata": {},
   "source": [
    "Let's inspect the summed context of the word 'portrait'."
   ]
  },
  {
   "cell_type": "code",
   "execution_count": null,
   "metadata": {},
   "outputs": [],
   "source": [
    "sorted([(item, value) for item, value in contexts[\"portrait\"].items()], key=lambda x: x[1], reverse=True)"
   ]
  },
  {
   "cell_type": "markdown",
   "metadata": {},
   "source": [
    "How about the word 'ghost'?"
   ]
  },
  {
   "cell_type": "code",
   "execution_count": null,
   "metadata": {},
   "outputs": [],
   "source": [
    "sorted([(item, value) for item, value in contexts[\"ghost\"].items()], key=lambda x: x[1], reverse=True)"
   ]
  },
  {
   "cell_type": "code",
   "execution_count": 695,
   "metadata": {},
   "outputs": [
    {
     "data": {
      "text/plain": [
       "4623"
      ]
     },
     "execution_count": 695,
     "metadata": {},
     "output_type": "execute_result"
    }
   ],
   "source": [
    "i = vocab['asked']\n",
    "i"
   ]
  },
  {
   "cell_type": "markdown",
   "metadata": {},
   "source": [
    "The co-occurrence matrix of a very large corpus should give a meaningful summary of how a word is used in general. A single row of that matrix is already a __word vector__ of size $N$. However such vectors are extremely sparse, and for large corpora the size of $N$ will become unwieldy. We will follow along the paper in designing an algorithm that can compress the word vectors while retaining most of their informational content. \n",
    "\n",
    "<div class=\"alert alert-block alert-info\">\n",
    "<b>Note:</b>\n",
    "For the resulting vectors to actually be informative, the source corpus should have a size of at least a few billion words; on the contrary, our corpus enumerates merely a million words, so we can't expect our results to be as great.\n",
    "</div>"
   ]
  },
  {
   "cell_type": "markdown",
   "metadata": {},
   "source": [
    "### Sparsity and Stability\n",
    "\n",
    "Our matrix $X$ is very sparse; most of its elements are zero.\n",
    "\n",
    "**Coding 1.1**: Find what the ratio of non-zero elements is.\n",
    "\n",
    "_Hint_: The function `non_zero_ratio` should return a `float` rather than a `FloatTensor`. Remember `.item()`."
   ]
  },
  {
   "cell_type": "code",
   "execution_count": 696,
   "metadata": {},
   "outputs": [
    {
     "name": "stdout",
     "output_type": "stream",
     "text": [
      "0.10844852030277252\n"
     ]
    }
   ],
   "source": [
    "def non_zero_ratio(sparse_matrix: LongTensor) -> float:\n",
    "    xnonZero = torch.count_nonzero(sparse_matrix)\n",
    "    N,M = sparse_matrix.shape\n",
    "    xallValues = N * M\n",
    "    ratio = xnonZero/xallValues\n",
    "    ratio.item()\n",
    "    print(ratio.item())\n",
    "    \n",
    "non_zero_ratio(X)"
   ]
  },
  {
   "cell_type": "markdown",
   "metadata": {},
   "source": [
    "We will soon need to perform division and find the logarithm of ${X}$. Neither of the two operations are well-defined for $0$. That's why for further processing we want to have a matrix without any zero elements. \n",
    "\n",
    "**Coding 1.2**: Change the matrix's datatype to a `torch.float` and add a small constant to it (e.g. $0.1$) to ensure numerical stability while maintaining sparsity."
   ]
  },
  {
   "cell_type": "code",
   "execution_count": 697,
   "metadata": {},
   "outputs": [
    {
     "name": "stdout",
     "output_type": "stream",
     "text": [
      "tensor(2)\n"
     ]
    }
   ],
   "source": [
    "d  = torch.tensor([[1., 0.], [0., -1.]])\n",
    "print(torch.count_nonzero(d.T))"
   ]
  },
  {
   "cell_type": "code",
   "execution_count": 698,
   "metadata": {},
   "outputs": [],
   "source": [
    "X = X.to(torch.float) + 0.1"
   ]
  },
  {
   "cell_type": "markdown",
   "metadata": {},
   "source": [
    "<div class=\"alert alert-block alert-warning\">\n",
    "<b>Show the completed code to your teacher before proceeding</b>\n",
    "</div>"
   ]
  },
  {
   "cell_type": "markdown",
   "metadata": {},
   "source": [
    "### From co-occurrence counts to probabilities\n",
    "From the paper: \n",
    "> Let the matrix of word-word co-occurrence counts be denoted by $X$, whose entries $X_{ij}$ tabulate the number of times word $j$ occurs in the context of word $i$.  Let $X_i$= $\\sum_{k} X_{ik}$ be the number of times any word appears in the context of word $i$. Finally, let $P_{ij} = P(j  | i) =  X_{ij}/X_i$ be the probability that word $j$ appear in the context of word $i$. \n",
    "\n",
    "**Coding 2**: Complete the function `to_probabilities` that accepts a co-occurrence matrix and returns the probability matrix $P$. \n",
    "\n",
    "_Hint_: Remember broadcasting and `torch.sum()`."
   ]
  },
  {
   "cell_type": "code",
   "execution_count": 699,
   "metadata": {},
   "outputs": [
    {
     "name": "stdout",
     "output_type": "stream",
     "text": [
      "5359\n",
      "tensor([[1.2439e-04, 1.2439e-04, 1.2439e-04,  ..., 1.2439e-04, 1.2439e-04,\n",
      "         1.2439e-04],\n",
      "        [4.5067e-05, 4.5067e-05, 4.5067e-05,  ..., 4.5067e-05, 4.5067e-05,\n",
      "         4.5067e-05],\n",
      "        [9.7191e-05, 9.7191e-05, 9.7191e-05,  ..., 9.7191e-05, 9.7191e-05,\n",
      "         9.7191e-05],\n",
      "        ...,\n",
      "        [1.3177e-04, 1.3177e-04, 1.3177e-04,  ..., 1.3177e-04, 1.3177e-04,\n",
      "         1.3177e-04],\n",
      "        [1.1602e-04, 1.1602e-04, 1.1602e-04,  ..., 1.1602e-04, 1.1602e-04,\n",
      "         1.1602e-04],\n",
      "        [7.0328e-05, 7.0328e-05, 7.0328e-05,  ..., 7.0328e-05, 7.0328e-05,\n",
      "         7.0328e-05]], dtype=torch.float64)\n"
     ]
    }
   ],
   "source": [
    "def to_probabilities(count_matrix: FloatTensor) -> FloatTensor:\n",
    "    total_amout = len(count_matrix)\n",
    "    print(total_amout)\n",
    "    sum_ = torch.sum(count_matrix,1, keepdim=True, dtype = float)\n",
    "    return(count_matrix / sum_)\n",
    "    \n",
    "P = to_probabilities(X)\n",
    "print(P)"
   ]
  },
  {
   "cell_type": "markdown",
   "metadata": {},
   "source": [
    "<div class=\"alert alert-block alert-warning\">\n",
    "<b>Show the completed code to your teacher before proceeding</b>\n",
    "</div>"
   ]
  },
  {
   "cell_type": "markdown",
   "metadata": {},
   "source": [
    "### Probing words\n",
    "\n",
    "From the paper:\n",
    "> Consider two words $i$ and $j$ that exhibit a particular aspect of interest. The relationship of these words can be examined by studying the ratio of their co-occurrence probabilities with various probe words, $k$.  For words $k$ related to $i$ but not $j$, we expect the ratio $P_{ik}/P_{jk}$ will be large.  Similarly, for words $k$ related to $j$ but not $i$, the ratio should be small. For words $k$ that are either related to both $i$ and $j$, or to neither, the ratio should be close to one.\n",
    "\n",
    "**Coding 3.1**: Complete the function `query` that accepts two words $w_i$ and $w_j$, a vocab $V$ and a probability matrix ${P}$, maps each word to its corresponding index and returns the probability $P(j  |  i)$."
   ]
  },
  {
   "cell_type": "code",
   "execution_count": 700,
   "metadata": {},
   "outputs": [],
   "source": [
    "def query(word_i: str, word_j: str, vocab: Dict[str, int], probability_matrix: FloatTensor) -> float:  \n",
    "    i = vocab[word_i]\n",
    "    j = vocab[word_j]\n",
    "    return(probability_matrix[i][j])\n"
   ]
  },
  {
   "cell_type": "markdown",
   "metadata": {},
   "source": [
    "**Coding 3.2**: Then, complete the function `probe` that accepts three words $w_i$, $w_j$ and $w_k$, a vocab $V$ and a probability matrix ${P}$, calls `query` and returns the ratio $P(k |  i) / P(k  |  j)$."
   ]
  },
  {
   "cell_type": "code",
   "execution_count": 701,
   "metadata": {},
   "outputs": [],
   "source": [
    "def probe(word_i: str, word_j: str, word_k: str, vocab: Dict[str, int], probability_matrix: FloatTensor) -> float:\n",
    "    Pki = query( word_i,word_k, vocab, probability_matrix)\n",
    "    Pkj = query( word_j, word_k, vocab, probability_matrix)\n",
    "    return Pki/Pkj\n"
   ]
  },
  {
   "cell_type": "markdown",
   "metadata": {},
   "source": [
    "<div class=\"alert alert-block alert-warning\">\n",
    "<b>Show the completed code to your teacher before proceeding</b>\n",
    "</div>"
   ]
  },
  {
   "cell_type": "markdown",
   "metadata": {},
   "source": [
    "Let's probe a few words and examine whether the authors' claim holds even for our (tiny) corpus. Feel free to add your own word triplets and experiment."
   ]
  },
  {
   "cell_type": "code",
   "execution_count": 702,
   "metadata": {},
   "outputs": [
    {
     "name": "stdout",
     "output_type": "stream",
     "text": [
      "tea wand spell tensor(0.4226, dtype=torch.float64)\n",
      "tea wand cup tensor(24.6131, dtype=torch.float64)\n",
      "\n",
      "voldemort hagrid curse tensor(8.7108, dtype=torch.float64)\n",
      "voldemort hagrid beast tensor(0.5588, dtype=torch.float64)\n",
      "\n",
      "mcgonagall snape potions tensor(0.0036, dtype=torch.float64)\n",
      "mcgonagall snape transfiguration tensor(43.7188, dtype=torch.float64)\n",
      "\n",
      "hedwig scabbers owl tensor(5.6266, dtype=torch.float64)\n",
      "hedwig scabbers rat tensor(0.0178, dtype=torch.float64)\n",
      "\n",
      "ron hermione book tensor(0.6783, dtype=torch.float64)\n",
      "ron hermione red tensor(2.0383, dtype=torch.float64)\n",
      "\n"
     ]
    }
   ],
   "source": [
    "print(\"tea\", \"wand\", \"spell\", probe(\"tea\", \"wand\", \"spell\", vocab, P))\n",
    "print(\"tea\", \"wand\", \"cup\", probe(\"tea\", \"wand\", \"cup\", vocab, P))\n",
    "print()\n",
    "\n",
    "print(\"voldemort\", \"hagrid\", \"curse\", probe(\"voldemort\", \"hagrid\", \"curse\", vocab, P))\n",
    "print(\"voldemort\", \"hagrid\", \"beast\", probe(\"voldemort\", \"hagrid\", \"beast\", vocab, P))\n",
    "print()\n",
    "\n",
    "print(\"mcgonagall\", \"snape\", \"potions\", probe(\"mcgonagall\", \"snape\", \"potions\", vocab, P))\n",
    "print(\"mcgonagall\", \"snape\", \"transfiguration\", probe(\"mcgonagall\", \"snape\", \"transfiguration\", vocab, P))\n",
    "print()\n",
    "\n",
    "print(\"hedwig\", \"scabbers\", \"owl\", probe(\"hedwig\", \"scabbers\", \"owl\", vocab, P))\n",
    "print(\"hedwig\", \"scabbers\", \"rat\", probe(\"hedwig\", \"scabbers\", \"rat\", vocab, P))\n",
    "print()\n",
    "\n",
    "print(\"ron\", \"hermione\", \"book\", probe(\"ron\", \"hermione\", \"book\", vocab, P))\n",
    "print(\"ron\", \"hermione\", \"red\", probe(\"ron\", \"hermione\", \"red\", vocab, P))\n",
    "print()\n",
    "\n"
   ]
  },
  {
   "cell_type": "markdown",
   "metadata": {},
   "source": [
    "**Interpretation 1**: Give a brief interpretation of the results you got. Do they correspond to your expectations? Why or why not?\n",
    "\n",
    "*Hint*: When do we expect the ratio value to be high, low or close to 1? Refer to the GloVe paper for guidance."
   ]
  },
  {
   "cell_type": "code",
   "execution_count": null,
   "metadata": {},
   "outputs": [],
   "source": []
  },
  {
   "cell_type": "markdown",
   "metadata": {},
   "source": [
    "What would happen if we tried probing out-of-domain words? Use the words that the authors report in the paper as discriminative for \"ice\" and \"steam\"."
   ]
  },
  {
   "cell_type": "code",
   "execution_count": 703,
   "metadata": {},
   "outputs": [
    {
     "name": "stdout",
     "output_type": "stream",
     "text": [
      "ice steam ice tensor(0.9024, dtype=torch.float64)\n",
      "ice steam steam tensor(0.9024, dtype=torch.float64)\n"
     ]
    }
   ],
   "source": [
    "word1 = \"ice\"\n",
    "word2 = \"steam\"\n",
    "print(\"ice\", \"steam\", word1, probe(\"ice\", \"steam\", word1, vocab, P))\n",
    "print(\"ice\", \"steam\", word2, probe(\"ice\", \"steam\", word2, vocab, P))"
   ]
  },
  {
   "cell_type": "markdown",
   "metadata": {},
   "source": [
    "**Interpretation 2**: Give an interpretation of the results you got. Do they match what the authors report in the paper? Why or why not?"
   ]
  },
  {
   "cell_type": "code",
   "execution_count": 704,
   "metadata": {},
   "outputs": [
    {
     "data": {
      "text/plain": [
       "tensor([[0.1000, 0.1000, 0.1000,  ..., 0.1000, 0.1000, 0.1000],\n",
       "        [0.1000, 0.1000, 0.1000,  ..., 0.1000, 0.1000, 0.1000],\n",
       "        [0.1000, 0.1000, 0.1000,  ..., 0.1000, 0.1000, 0.1000],\n",
       "        ...,\n",
       "        [0.1000, 0.1000, 0.1000,  ..., 0.1000, 0.1000, 0.1000],\n",
       "        [0.1000, 0.1000, 0.1000,  ..., 0.1000, 0.1000, 0.1000],\n",
       "        [0.1000, 0.1000, 0.1000,  ..., 0.1000, 0.1000, 0.1000]])"
      ]
     },
     "execution_count": 704,
     "metadata": {},
     "output_type": "execute_result"
    }
   ],
   "source": [
    "X"
   ]
  },
  {
   "cell_type": "markdown",
   "metadata": {},
   "source": [
    "## Dense Vectors\n",
    "\n",
    "Now, we would like to convert these long sparse vectors into short dense ones. \n",
    "\n",
    "The conversion should be such that the probability ratios we inspected earlier may still be reconstructed via some (for now, unknown) operation $F$ on the dense vectors.\n",
    "\n",
    "To restrict the search space over potential functions, the authors impose a number of constraints they think $F$ should satisfy:\n",
    "1. > While $F$ could be taken to be a complicated function parameterized by, e.g., a neural network, doing so would obfuscate the linear structure we are trying to capture. $F$ should be dot-product based.\n",
    "2. > The distinction between a word and a context word is arbitrary and we are free to exchange the two roles. To do so consistently, we must not only exchange $w \\leftrightarrow \\tilde{w}$ but also $X \\leftrightarrow X^T$.\n",
    "3. > It should be well-defined for all values in $X$.\n",
    "\n",
    "Given these three constraints, each word $i$ in our vocabulary is represented by four vectors:\n",
    "1. A vector $w_i \\in \\mathbb{R}^D$\n",
    "2. A bias $b_i \\in \\mathbb{R}$\n",
    "3. A context vector $\\tilde{w}_i \\in \\mathbb{R}^D$\n",
    "4. A context bias $\\tilde{b}_i \\in \\mathbb{R}$\n",
    "\n",
    "and $F: \\mathbb{R}^D \\times \\mathbb{R} \\times \\mathbb{R}^D \\times \\mathbb{R} \\to \\mathbb{R}$ is defined as:\n",
    "\n",
    "$F(w_i, \\tilde{w}_k, b_i, \\tilde{b}_k) = w_i^T\\tilde{w}_k + b_i + \\tilde{b}_k$.\n",
    "\n",
    "Or equivalently the least squares error $J$ is minimized, where:\n",
    "\n",
    "$J = \\sum_{i,j=1}^{V} f(X_{ij})(w_{i}^T\\tilde{w}_j + b_i + \\tilde{b}_j - log(X_{ij}))^2$\n",
    "\n",
    "with $f$ being a weighting function, defined as \n",
    "\n",
    "$f: \\mathbb{R} \\to \\mathbb{R} = \\begin{cases}\n",
    "    (x/x_{max})^\\alpha, & \\text{if $x<x_{max}$}\\\\\n",
    "    1, & \\text{otherwise}.\n",
    "  \\end{cases}$"
   ]
  },
  {
   "cell_type": "markdown",
   "metadata": {},
   "source": [
    "### Weighting Function\n",
    "\n",
    "Let's start with the last part. \n",
    "\n",
    "**Coding 4**: Complete the weighting function `weight_fn` which accepts a co-occurrence matrix ${X}$, a maximum value $x_{max}$ and a fractional power $alpha$, and returns the weighted co-occurrence matrix $f({X})$.\n",
    "\n",
    "Then, compute $\\text{X_weighted}$, the matrix ${X}$ after weighting, using the paper's suggested parameters. \n",
    "\n",
    "_Hint_: Note that $f$ is defined pointwise, so our weighting function should also be pointwise."
   ]
  },
  {
   "cell_type": "code",
   "execution_count": 705,
   "metadata": {},
   "outputs": [
    {
     "name": "stdout",
     "output_type": "stream",
     "text": [
      "tensor([[0.0056, 0.0056, 0.0056,  ..., 0.0056, 0.0056, 0.0056],\n",
      "        [0.0056, 0.0056, 0.0056,  ..., 0.0056, 0.0056, 0.0056],\n",
      "        [0.0056, 0.0056, 0.0056,  ..., 0.0056, 0.0056, 0.0056],\n",
      "        ...,\n",
      "        [0.0056, 0.0056, 0.0056,  ..., 0.0056, 0.0056, 0.0056],\n",
      "        [0.0056, 0.0056, 0.0056,  ..., 0.0056, 0.0056, 0.0056],\n",
      "        [0.0056, 0.0056, 0.0056,  ..., 0.0056, 0.0056, 0.0056]])\n"
     ]
    }
   ],
   "source": [
    "def weight_fn(X: FloatTensor, x_max: int, alpha: float) -> FloatTensor:\n",
    "    return(torch.where(X<x_max,(X/x_max)**alpha,torch.ones_like(X)))\n",
    "    \n",
    "X_weighted = weight_fn(X,100, 0.75)\n",
    "\n",
    "print(X_weighted)"
   ]
  },
  {
   "cell_type": "markdown",
   "metadata": {},
   "source": [
    "Try to get an understanding of how the weighting affects different co-occurrence values (high and low). Think of some word pairs with high and low co-occurrence and look them up in $X$ and in $\\text{X_weighted}$ to get a better idea. "
   ]
  },
  {
   "cell_type": "code",
   "execution_count": 706,
   "metadata": {},
   "outputs": [
    {
     "name": "stdout",
     "output_type": "stream",
     "text": [
      "tensor([[0.0056, 0.0056, 0.0056,  ..., 0.0056, 0.0056, 0.0056],\n",
      "        [0.0056, 0.0056, 0.0056,  ..., 0.0056, 0.0056, 0.0056],\n",
      "        [0.0056, 0.0056, 0.0056,  ..., 0.0056, 0.0056, 0.0056],\n",
      "        ...,\n",
      "        [0.0056, 0.0056, 0.0056,  ..., 0.0056, 0.0056, 0.0056],\n",
      "        [0.0056, 0.0056, 0.0056,  ..., 0.0056, 0.0056, 0.0056],\n",
      "        [0.0056, 0.0056, 0.0056,  ..., 0.0056, 0.0056, 0.0056]])\n"
     ]
    }
   ],
   "source": [
    "print(X_weighted)"
   ]
  },
  {
   "cell_type": "markdown",
   "metadata": {},
   "source": [
    "<div class=\"alert alert-block alert-warning\">\n",
    "<b>Show the completed code to your teacher before proceeding</b>\n",
    "</div>"
   ]
  },
  {
   "cell_type": "markdown",
   "metadata": {},
   "source": [
    "### Loss Function\n",
    "\n",
    "Next step is to write the loss function. \n",
    "\n",
    "We can write it as a pointwise function, apply it iteratively over each pair of words and then sum the result; that's however extremely inefficient. \n",
    "\n",
    "Inspecting the formulation of $J$, it is fairly straight-forward to see that it can be immediately implemented using matrix-matrix operations, as:\n",
    "\n",
    "$J = \\sum_{i,j=1}^{V}f(\\mathbf{X})\\cdot(W\\tilde{W}^T + b + \\tilde{b}^T - log(X))^2$,\n",
    "\n",
    "where $W$, $\\tilde{W}$ are the $N \\times D$ matrices containing the $D$-dimensional vectors of all our $N$ vocabulary words, and $b$, $\\tilde{b}$ are the $N \\times 1$ matrices containing the $1$-dimensional biases of our words.\n",
    "\n",
    "**Coding 5**: Complete `loss_fn`, a function that accepts a weighted co-occurrence matrix $f({X})$, the word vectors and biases $W$, $\\tilde{W}$, $b$, $\\tilde{b}$ and the co-occurrence matrix ${X}$, and computes $J$. "
   ]
  },
  {
   "cell_type": "code",
   "execution_count": 707,
   "metadata": {},
   "outputs": [
    {
     "name": "stdout",
     "output_type": "stream",
     "text": [
      "tensor(4.)\n",
      "tensor([[ 1.,  2.,  3.],\n",
      "        [-1.,  1.,  4.]])\n"
     ]
    }
   ],
   "source": [
    "aa = torch.ones(1,4)\n",
    "aa = torch.transpose(aa,0,1)\n",
    "c = torch.tensor([[ 1, 2, 3],[-1, 1, 4]] , dtype= torch.float)\n",
    "print(torch.max(c))\n",
    "print(c)"
   ]
  },
  {
   "cell_type": "code",
   "execution_count": 708,
   "metadata": {},
   "outputs": [],
   "source": [
    "def loss_fn(\n",
    "    X_weighted: FloatTensor, \n",
    "    W: FloatTensor, \n",
    "    W_context: FloatTensor, \n",
    "    B: FloatTensor, \n",
    "    B_context: FloatTensor, \n",
    "    X: FloatTensor\n",
    ") -> FloatTensor:\n",
    "    w_inc = (W @ W_context.T)\n",
    "    biased_ = (B + B_context.T)\n",
    "    log_ = (torch.log(X))\n",
    "    power_ = (w_inc + biased_ - log_)**2\n",
    "    return torch.sum( X_weighted* (power_))\n"
   ]
  },
  {
   "cell_type": "markdown",
   "metadata": {},
   "source": [
    "<div class=\"alert alert-block alert-warning\">\n",
    "<b>Show the completed code to your teacher before proceeding</b>\n",
    "</div>"
   ]
  },
  {
   "cell_type": "markdown",
   "metadata": {},
   "source": [
    "### GloVe\n",
    "\n",
    "We have the normalized co-occurrence matrix ${X}$, the weighting function $f$, and the loss function $J$ that implements $F$.\n",
    "\n",
    "What we need now is a mapping from words (or word ids) to unique, parametric and trainable vectors. \n",
    "\n",
    "Torch provides this abstraction in the form of [Embedding layers](https://pytorch.org/docs/stable/nn.html#embedding). Each such layer may be viewed as a stand-alone network that can be optimized using the standard procedure we have already seen. \n",
    "\n",
    "We will utilize the `nn.Module` class to contain all our embedding layers and streamline their joint optimization.\n",
    "The container class will be responsible for a few things:\n",
    "\n",
    "1. **Coding 6.1**: Wrapping the embedding layers:\n",
    "    1. A vector embedding that maps words to $w \\in \\mathbb{R}^D$\n",
    "    2. A context vector embedding that maps words to $w_c \\in \\mathbb{R}^D$\n",
    "    3. A bias embedding that maps words to $b \\in \\mathbb{R}^1$\n",
    "    4. A context bias embedding that maps words to $b_c \\in \\mathbb{R}^1$\n",
    "2. **Coding 6.2**: Implementing `forward`, a function that accepts a weighted co-occurrence matrix $f(X)$, the co-occurrence matrix $X$, then finds the embeddings of all words and finally calls `loss_fn` as defined above.\n",
    "3. **Coding 7**: Implementing `get_vectors`, a function that receives no input and produces the word vectors and context word vectors of all words, adds them together and returns the result, in accordance with the paper:\n",
    "> ...With this in mind, we choose to use the sum $W + \\tilde{W}$ as our word vectors.\n",
    "\n",
    "Complete the network class following the above specifications.  "
   ]
  },
  {
   "cell_type": "code",
   "execution_count": 709,
   "metadata": {},
   "outputs": [
    {
     "name": "stdout",
     "output_type": "stream",
     "text": [
      "tensor([[[ 0.7267,  1.4357,  1.9874],\n",
      "         [ 1.1507, -1.0090, -0.7447]]], grad_fn=<EmbeddingBackward0>)\n"
     ]
    },
    {
     "data": {
      "text/plain": [
       "Parameter containing:\n",
       "tensor([[ 0.7267,  1.4357,  1.9874],\n",
       "        [-0.4069, -0.0590,  0.7430],\n",
       "        [ 1.1507, -1.0090, -0.7447],\n",
       "        [-0.2066, -0.1802, -0.4056],\n",
       "        [ 0.1226,  0.6572, -0.2621],\n",
       "        [-1.0414, -0.9945, -1.3998],\n",
       "        [ 0.2007, -0.0257,  0.2038],\n",
       "        [-0.2236,  0.1520,  0.3110],\n",
       "        [ 1.7258, -1.2690,  0.0749],\n",
       "        [ 0.7579,  0.1074, -2.2189]], requires_grad=True)"
      ]
     },
     "execution_count": 709,
     "metadata": {},
     "output_type": "execute_result"
    }
   ],
   "source": [
    "# an Embedding module containing 10 tensors of size 3\n",
    "embedding = torch.nn.Embedding(10, 3)\n",
    "# a batch of 2 samples of 4 indices each\n",
    "input = torch.LongTensor([[0,2]])\n",
    "print(embedding(input))\n",
    "embedding.weight"
   ]
  },
  {
   "cell_type": "code",
   "execution_count": 710,
   "metadata": {},
   "outputs": [],
   "source": [
    "class GloVe(torch.nn.Module):\n",
    "    def __init__(self, vocab: Dict[str, int], vector_dim: int=30, device: str=\"cpu\") -> None:\n",
    "        super(GloVe, self).__init__()\n",
    "        self.device = device\n",
    "        self.vocab_len = len(vocab)\n",
    "        self.w = torch.nn.Embedding(num_embeddings = self.vocab_len, embedding_dim  =vector_dim).to(self.device)\n",
    "        self.wc = torch.nn.Embedding(num_embeddings = self.vocab_len, embedding_dim  =vector_dim).to(self.device)\n",
    "        self.b = torch.nn.Embedding(self.vocab_len,1).to(self.device)\n",
    "        self.bc = torch.nn.Embedding(self.vocab_len, 1).to(self.device)\n",
    "        \n",
    "    def forward(self, X_weighted: FloatTensor, X: FloatTensor) -> FloatTensor:\n",
    "        embedding_input = torch.arange(self.vocab_len).to(self.device)\n",
    "        W = self.w(embedding_input)\n",
    "        Wc = self.wc(embedding_input)\n",
    "        b_ = self.b(embedding_input)\n",
    "        b_c = self.bc(embedding_input)\n",
    "        return(loss_fn (X_weighted , W, Wc, b_, b_c , X))\n",
    "        \n",
    "\n",
    "    def get_vectors(self) -> FloatTensor:\n",
    "        embedding_input = torch.arange(self.vocab_len).to(self.device)\n",
    "        w_word_vector = self.w(embedding_input)\n",
    "        Wc_word_vector = self.wc(embedding_input)\n",
    "        return (w_word_vector + Wc_word_vector)"
   ]
  },
  {
   "cell_type": "markdown",
   "metadata": {},
   "source": []
  },
  {
   "cell_type": "markdown",
   "metadata": {},
   "source": [
    "### Training\n",
    "\n",
    "Everything is in place; now we may begin optimizing our embedding layers (and in doing so, the vectors they assign). \n",
    "\n",
    "**Coding 8.1**: Instantiate the network class you just defined using $D = 30$. Then instantiate an `Adam` optimizer with a learning rate of 0.05 and train your network for 300 epochs.\n",
    "\n",
    "When writing the training script, remember that your network's forward pass is __already__ computing the loss."
   ]
  },
  {
   "cell_type": "code",
   "execution_count": null,
   "metadata": {},
   "outputs": [],
   "source": []
  },
  {
   "cell_type": "code",
   "execution_count": 711,
   "metadata": {},
   "outputs": [
    {
     "ename": "IndentationError",
     "evalue": "expected an indented block (<ipython-input-711-d5bfb6a0b234>, line 12)",
     "output_type": "error",
     "traceback": [
      "\u001b[1;36m  File \u001b[1;32m\"<ipython-input-711-d5bfb6a0b234>\"\u001b[1;36m, line \u001b[1;32m12\u001b[0m\n\u001b[1;33m    opt.step() # gradient computation\u001b[0m\n\u001b[1;37m      ^\u001b[0m\n\u001b[1;31mIndentationError\u001b[0m\u001b[1;31m:\u001b[0m expected an indented block\n"
     ]
    }
   ],
   "source": [
    "network = GloVe(vocab)\n",
    "opt =torch.optim.Adam(network.parameters(), lr=0.05)\n",
    "\n",
    "num_epochs = 50\n",
    "losses = []\n",
    "epoches =[]\n",
    "\n",
    "for i in range(num_epochs):\n",
    "    loss =  network(X_weighted,X) # loss computation (optionally print it out)\n",
    "    loss.backward() # back-propagation\n",
    "    if i %10 ==0:\n",
    "    opt.step() # gradient computation \n",
    "    losses.append(loss)\n",
    "    opt.zero_grad() # gradient reset"
   ]
  },
  {
   "cell_type": "markdown",
   "metadata": {},
   "source": [
    "**Coding 8.2**: Plot the losses and examine the learning curve. Is its shape what you would expect it to be?"
   ]
  },
  {
   "cell_type": "code",
   "execution_count": 712,
   "metadata": {},
   "outputs": [
    {
     "data": {
      "image/png": "[encoded data removed]",
      "text/plain": [
       "<Figure size 432x288 with 1 Axes>"
      ]
     },
     "metadata": {
      "needs_background": "light"
     },
     "output_type": "display_data"
    }
   ],
   "source": [
    "# Your plotting here\n",
    "import matplotlib.pyplot as plt \n",
    "plt.plot( losses)\n",
    "plt.xlabel('Epoches')\n",
    "plt.ylabel('Loss')\n",
    "plt.title('Loss Over Time')\n",
    "plt.show()"
   ]
  },
  {
   "cell_type": "markdown",
   "metadata": {},
   "source": [
    "<div class=\"alert alert-block alert-warning\">\n",
    "<b>Show the completed code to your teacher before proceeding</b>\n",
    "</div>"
   ]
  },
  {
   "cell_type": "markdown",
   "metadata": {},
   "source": [
    "### Validation (Similarity)\n",
    "\n",
    "Curious to see what this network has learned? Let's perform a simple validation experiment. \n",
    "\n",
    "We will check which words the models considers the most similar to other words. To that end, we need a notion of __similarity__. One of the most common measures of similarity in high dimensional vector spaces is the cosine similarity. \n",
    "\n",
    "The cosine similarity of two vectors $\\vec{a}, \\vec{b}$ is given as:\n",
    "$$sim(\\vec{a}, \\vec{b}) = \\frac{\\vec{a}\\cdot \\vec{b}}{|\\vec{a}|_2 \\cdot |\\vec{b}|_2}$$\n",
    "\n",
    "where $|\\vec{x}|_2$ is the $L_2$-norm of the $\\vec{x}$.\n",
    "\n",
    "The function `similarity` below accepts two words, a vocabulary and the network's output vectors, and computes the similarity between these two words."
   ]
  },
  {
   "cell_type": "code",
   "execution_count": 713,
   "metadata": {},
   "outputs": [],
   "source": [
    "def similarity(word_i: str, word_j: str, vocab: Dict[str, int], vectors: FloatTensor) -> float:\n",
    "    i = vocab[word_i]\n",
    "    j = vocab[word_j] \n",
    "    v_i = vectors[i] / torch.norm(vectors[i], p=2)  # a/|a|\n",
    "    v_j = vectors[j] / torch.norm(vectors[j], p=2)  # b/|b|\n",
    "    sim = torch.mm(v_i.view(1, -1), v_j.view(-1, 1)).item()\n",
    "    return sim"
   ]
  },
  {
   "cell_type": "markdown",
   "metadata": {},
   "source": [
    "Let's check out some examples. Consider the word pairs below and, optionally, add your own word pairs:"
   ]
  },
  {
   "cell_type": "code",
   "execution_count": 714,
   "metadata": {},
   "outputs": [
    {
     "name": "stdout",
     "output_type": "stream",
     "text": [
      "Similarity between 'cruciatus' and 'imperius' is: 0.22437463700771332\n",
      "Similarity between 'avada' and 'kedavra' is: 0.3462338149547577\n",
      "Similarity between 'hogwarts' and 'school' is: 0.5040878057479858\n",
      "Similarity between 'goblin' and 'hagrid' is: 0.5106287002563477\n",
      "Similarity between 'giant' and 'hagrid' is: 0.5409942269325256\n"
     ]
    }
   ],
   "source": [
    "word_vectors = network.get_vectors().detach()\n",
    "\n",
    "for pair in [\n",
    "    (\"cruciatus\", \"imperius\"), \n",
    "    (\"avada\", \"kedavra\"), \n",
    "    (\"hogwarts\", \"school\"), \n",
    "    (\"goblin\", \"hagrid\"), \n",
    "    (\"giant\", \"hagrid\"),\n",
    "]:\n",
    "    \n",
    "    print(\"Similarity between '{}' and '{}' is: {}\".\n",
    "          format(pair[0], pair[1], similarity(pair[0], pair[1], vocab, word_vectors)))"
   ]
  },
  {
   "cell_type": "markdown",
   "metadata": {},
   "source": [
    "**Interpretation 3**: Give a brief interpretation of the results. Do the scores correspond well to your perceived similarity of these word pairs?"
   ]
  },
  {
   "cell_type": "code",
   "execution_count": null,
   "metadata": {},
   "outputs": [],
   "source": []
  },
  {
   "cell_type": "markdown",
   "metadata": {},
   "source": [
    "To obtain the similarities of one word against all other words in the corpus, we may rewrite the above equation as:\n",
    "$$sim(\\vec{w}, \\mathbf{C}) = \\frac{\\vec{w}\\cdot \\mathbf{C}}{|\\vec{w}|_2 \\cdot |\\mathbf{C}|_2}$$\n",
    "\n",
    "**Coding 9**: Using `similarity` as a reference, write `similarities`, which accepts one word, a vocabulary and the network's output vectors and computes the similarity between the word and the entire corpus.\n",
    "\n",
    "_Hint_: $\\mathbf{C} \\in \\mathbb{R}^{N, D}$, $\\vec{w} \\in \\mathbb{R}^{1, D}$, $sim(\\vec{w}, \\mathbf{C}) \\in \\mathbb{R}^{1, N}$"
   ]
  },
  {
   "cell_type": "code",
   "execution_count": 742,
   "metadata": {},
   "outputs": [],
   "source": [
    "def similarities(word_i: str, vocab: Dict[str, int], vectors: FloatTensor) -> FloatTensor:\n",
    "    i = vocab[word_i]\n",
    "    v_i = vectors[i] / torch.norm(vectors[i], p=2)  # a/|a|\n",
    "    v_j = vectors / torch.norm(vectors, p=2)  # b/|b|\n",
    "    uns_vi = v_i.unsqueeze(0)\n",
    "\n",
    "    sim = (torch.mm(uns_vi, v_j.T))\n",
    "    return(sim)\n",
    "    \n",
    "    \n",
    "    "
   ]
  },
  {
   "cell_type": "markdown",
   "metadata": {},
   "source": [
    "<div class=\"alert alert-block alert-warning\">\n",
    "<b>Show the completed code to your teacher before proceeding</b>\n",
    "</div>"
   ]
  },
  {
   "cell_type": "markdown",
   "metadata": {},
   "source": [
    "Now we can manipulate the word vectors to find out what the corpus-wide most similar words to a query word are!"
   ]
  },
  {
   "cell_type": "code",
   "execution_count": 743,
   "metadata": {},
   "outputs": [],
   "source": [
    "def most_similar(word_i: str, vocab: Dict[str, int], vectors: FloatTensor, k: int) -> List[str]:\n",
    "    sims = similarities(word_i, vocab, vectors)\n",
    "    _, topi = sims.topk(dim=-1, k=k)\n",
    "    topi = topi.view(-1).cpu().numpy().tolist()\n",
    "    inv = {v: i for i, v in vocab.items()}\n",
    "    return [inv[i] for i in topi if inv[i] != word_i]"
   ]
  },
  {
   "cell_type": "code",
   "execution_count": 744,
   "metadata": {},
   "outputs": [
    {
     "name": "stdout",
     "output_type": "stream",
     "text": [
      "Most similar words to 'forbidden': ['t', 'quidditch', 'corridor', 'inside', 'ron']\n",
      "Most similar words to 'myrtle': ['ron', 'eyes', 'quidditch', 'snape', 'hagrid']\n",
      "Most similar words to 'gryffindor': ['harry', 'people', 'hermione', 't', 'ron', 'got']\n",
      "Most similar words to 'wand': ['harry', 'hermione', 'snape', 'eyes', 'malfoy', 't']\n",
      "Most similar words to 'quidditch': ['ron', 'people', 't', 'snape', 'eyes']\n",
      "Most similar words to 'marauder': ['holidays', 'need', 'ron', 'people', 'advanced']\n",
      "Most similar words to 'horcrux': ['ron', 'eyes', 'people', 't', 'got', 'having']\n",
      "Most similar words to 'phoenix': ['ron', 'laugh', 'snape', 'eyes', 'thank']\n",
      "Most similar words to 'triwizard': ['dumbledore', 'd', 'harry', 'm', 'reply', 'having']\n",
      "Most similar words to 'screaming': ['forward', 'katie', 'gaze', 'jinx', 'violently']\n",
      "Most similar words to 'letter': ['ron', 'snape', 'away', 'room', 'got']\n"
     ]
    }
   ],
   "source": [
    "for word in [\n",
    "    \"forbidden\", \"myrtle\", \"gryffindor\", \"wand\", \"quidditch\", \"marauder\",\n",
    "    \"horcrux\", \"phoenix\", \"triwizard\", \"screaming\", \"letter\"\n",
    "]:\n",
    "    print(\"Most similar words to '{}': {}\".format(word, most_similar(word, vocab, word_vectors, 6)))"
   ]
  },
  {
   "cell_type": "markdown",
   "metadata": {},
   "source": [
    "**Interpretation 4**: Interpret the results.\n",
    "- Do these most similar words make sense (are they actually similar to the query words)? \n",
    "- Are there any patterns you can see in the \"errors\" (the words that you woudn't consider actually similar to the query word)? \n",
    "- Would you say that the model captures similarity, relatedness, both or neither?\n",
    "- Any other observations are welcome.\n",
    "\n",
    "Illustrate your answers with examples from your model's output."
   ]
  },
  {
   "cell_type": "code",
   "execution_count": null,
   "metadata": {},
   "outputs": [],
   "source": []
  },
  {
   "cell_type": "markdown",
   "metadata": {},
   "source": [
    "Overall it's quite impressive; we managed to encode a meaningful portion of the corpus statistics in only $30$ numbers per word! \n",
    "(A compression ratio of 99.4%)\n",
    "\n",
    "<div class=\"alert alert-block alert-info\">\n",
    "<b>Note:</b> The word vectors obtained by this process are (to a small extent) random, due to the random initialization of the embedding layers. If you are unhappy with your results, you can repeat the experiment a few times or try to toy around with the hyper-parameters (the smoothing factor of ${X}$, $x_{max}$, $\\alpha$, the number of epochs and the dimensionality of the vector space).\n",
    "</div>\n",
    "\n",
    "Word vectors, however, contain way more information than just word co-occurrence statistics. Hold tight until the next assignment, where we will see how word vectors may be used to infer information spanning entire phrases and sentences."
   ]
  },
  {
   "cell_type": "markdown",
   "metadata": {},
   "source": [
    "### Validation (Word Analogies)\n",
    "\n",
    "From the paper:\n",
    "> The word analogy task consists of questions like \"$a$ is to $b$ as is $c$ to $?$\" To correctly answer this question, we must find the word $d$ such that $w_d \\approx w_b - w_a + w_c$ according to the cosine similarity.\n",
    "\n",
    "**Coding 10**: Write your own function that performs the word analogy task.\n",
    "\n",
    "_Hint_: Take a look at the code a few cells back. Most of what you need is already there."
   ]
  },
  {
   "cell_type": "code",
   "execution_count": 778,
   "metadata": {
    "scrolled": true
   },
   "outputs": [
    {
     "name": "stdout",
     "output_type": "stream",
     "text": [
      "tensor(5.)\n",
      "torch.return_types.topk(\n",
      "values=tensor([5., 4.]),\n",
      "indices=tensor([4, 3]))\n",
      "tensor([1., 2., 3., 4., 5.])\n"
     ]
    }
   ],
   "source": [
    "fff = torch.arange(1., 6.) +\n",
    "print((fff[4]))\n",
    "print(torch.topk(fff,2))\n",
    "print(fff)"
   ]
  },
  {
   "cell_type": "code",
   "execution_count": 884,
   "metadata": {},
   "outputs": [],
   "source": [
    "def analogy(\n",
    "    word_a: str, word_b: str, word_c: str, vocab: Dict[str, int], vectors: FloatTensor, k: int) -> List[str]:\n",
    "    \n",
    "    #get all the names from the voc and put them in a list\n",
    "    bag_of_names = list(vocab.keys())\n",
    "    \n",
    "    #vectors of words from the embedding layers\n",
    "    word_a_ = vectors[vocab[word_a]]\n",
    "    word_b_ = vectors[vocab[word_b]]\n",
    "    word_c_ = vectors[vocab[word_c]]\n",
    "    \n",
    "    #current loc of words from the vocab\n",
    "    current_words = [vocab[word_a], vocab[word_b], vocab[word_c]]\n",
    "    \n",
    "    \n",
    "    #similar word\n",
    "    d = (word_b_ - word_a_ + word_c_).unsqueeze(0)\n",
    "    \n",
    "    #normlize the new d and the vector \n",
    "    d_ = d / torch.norm(d, p=2)  # a/|a|\n",
    "    vectors_ = vectors / torch.norm(vectors, p=2)  # b/|b|\n",
    "\n",
    "    \n",
    "    #make the matrix multiplication ==> the higher value it is, the more similar it is\n",
    "    dot_pro = torch.matmul(d_,vectors_.T)\n",
    "    \n",
    "    #getting the k highest values\n",
    "    highest_six,idx = torch.topk(dot_pro,k,sorted =True)\n",
    "\n",
    "    idx = idx.tolist()\n",
    "    idx= idx[0]\n",
    "    best_words = [bag_of_names[idx[0]]]\n",
    "    \n",
    "    #make sure we dont repeat the same word\n",
    "    for found_word in idx:\n",
    "        if found_word not in current_words:\n",
    "            return bag_of_names[found_word]\n",
    "        else:\n",
    "            continue\n",
    "        \n",
    "\n",
    "    \n"
   ]
  },
  {
   "cell_type": "markdown",
   "metadata": {},
   "source": [
    "\n",
    "<div class=\"alert alert-block alert-warning\">\n",
    "<b>Show the completed code to your teacher before proceeding</b>\n",
    "</div>"
   ]
  },
  {
   "cell_type": "markdown",
   "metadata": {},
   "source": [
    "Some example triplets to test your analogies on:"
   ]
  },
  {
   "cell_type": "code",
   "execution_count": 886,
   "metadata": {},
   "outputs": [
    {
     "name": "stdout",
     "output_type": "stream",
     "text": [
      "'padma' is to 'parvati' as 'fred' is to ron\n",
      "'avada' is to 'kedavra' as 'expecto' is to easily\n",
      "'dungeon' is to 'slytherin' as 'tower' is to covers\n",
      "'scabbers' is to 'ron' as 'hedwig' is to snape\n",
      "'ron' is to 'molly' as 'draco' is to aged\n",
      "'durmstrang' is to 'viktor' as 'beauxbatons' is to drowning\n",
      "'snape' is to 'potions' as 'trelawney' is to women\n",
      "'harry' is to 'seeker' as 'ron' is to quidditch\n"
     ]
    }
   ],
   "source": [
    "\n",
    "triplets = [(\"padma\", \"parvati\", \"fred\"),\n",
    "            (\"avada\", \"kedavra\", \"expecto\"),\n",
    "            (\"dungeon\", \"slytherin\", \"tower\"),\n",
    "            (\"scabbers\", \"ron\", \"hedwig\"),\n",
    "            (\"ron\", \"molly\", \"draco\"),\n",
    "            (\"durmstrang\", \"viktor\", \"beauxbatons\"),\n",
    "            (\"snape\", \"potions\", \"trelawney\"),\n",
    "            (\"harry\", \"seeker\", \"ron\")\n",
    "           ]\n",
    "\n",
    "for a, b, c in triplets:\n",
    "    print(\"'{}' is to '{}' as '{}' is to {}\".format(a, b, c, analogy(a, b, c, vocab, word_vectors, 6)))"
   ]
  },
  {
   "cell_type": "markdown",
   "metadata": {},
   "source": [
    "Some minimal emergent intelligence :) *(hopefully..)*. 🧙‍♀️"
   ]
  },
  {
   "cell_type": "markdown",
   "metadata": {},
   "source": [
    "**Interpretation 5**: Interpret the results. \n",
    "- Did the model manage to guess the correct answers to the analogies (taking the first word in the output to be the model's \"guess\")? \n",
    "- Are the correct answers present in the top K words? \n",
    "- Do you see any patterns in the cases when the model didn't solve the task correctly? In other words, when the model's guess was wrong, can you suggest why the model guessed what it guessed?"
   ]
  },
  {
   "cell_type": "code",
   "execution_count": null,
   "metadata": {},
   "outputs": [],
   "source": []
  },
  {
   "cell_type": "markdown",
   "metadata": {},
   "source": [
    "### Optional\n",
    "If you are done, you can continue experimenting in order to understand the system's behaviour better. For example: how does training and hyperparameter choice affect the model's performance?\n",
    "Repeat the training using your own hyperparameters (vector space dimensionality, optimizer parameters, the number of training epochs, etc.). \n",
    "\n",
    "During the training loop, print the qualitative benchmarks every few epochs. Do they keep improving? Is there any disadvantage to exhaustively training until convergence?"
   ]
  },
  {
   "cell_type": "code",
   "execution_count": null,
   "metadata": {},
   "outputs": [],
   "source": []
  }
 ],
 "metadata": {
  "kernelspec": {
   "display_name": "Python 3",
   "language": "python",
   "name": "python3"
  },
  "language_info": {
   "codemirror_mode": {
    "name": "ipython",
    "version": 3
   },
   "file_extension": ".py",
   "mimetype": "text/x-python",
   "name": "python",
   "nbconvert_exporter": "python",
   "pygments_lexer": "ipython3",
   "version": "3.6.8"
  }
 },
 "nbformat": 4,
 "nbformat_minor": 2
}
