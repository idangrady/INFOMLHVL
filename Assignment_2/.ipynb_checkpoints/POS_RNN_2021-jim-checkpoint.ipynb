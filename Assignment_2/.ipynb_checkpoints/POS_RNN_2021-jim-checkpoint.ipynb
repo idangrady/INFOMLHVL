{
 "cells": [
  {
   "cell_type": "markdown",
   "metadata": {
    "id": "Z34Tt_a7ZHgq"
   },
   "source": [
    "# Sequence Processing with Recurrent Neural Networks\n",
    "\n",
    "So far, we have seen how word vectors can be constructed from corpus statistics, and how they can be utilized to infer latent semantic content either in isolation (e.g. genders from names) or in relation to one another (e.g. similarities and analogies). \n",
    "\n",
    "For tasks involving larger linguistic units such as phrases, sentences and dialogues, we need machinery capable of processing _sequences_ or _structures_ of words.\n",
    "\n",
    "Recurrent Neural Networks are an example of such machinery; for this assignment, you will construct a recurrent neural network that annotates each word of a sentence with a linguistically informative marker. In the simple case (and in this assignment), these markers will be POS tags. However, they can also be other kinds of tags, e.g. more fine-grained morphosyntactic [categories](https://en.wikipedia.org/wiki/Combinatory_categorial_grammar) (supertags).\n",
    "\n",
    "This task is a case of sequence labeling.  A good reference point is Jurafsky and Martin [Chapter 9](https://web.stanford.edu/~jurafsky/slp3/9.pdf). For a fuller view of the picture, a good reference point is Alex Graves' [dissertation](https://www.cs.toronto.edu/~graves/preprint.pdf).\n",
    "\n",
    "We will take a gradual approach, first inspecting recurrent neural networks, then moving on to data processing using high-grade word vectors before finally moving to the problem at hand. \n",
    "\n",
    "**-------------------------------------------------------------------------------------------------------------**\n",
    "\n",
    "There are 9 tasks in this assignment for a total of 15 points; tasks 1-2 and 6-9 are worth 2 points each, tasks 3-5 are worth 1 point each.\n",
    "\n",
    "Make sure to <ins>show the code to your teacher after completing every task</ins>. Don't forget to add comments to your code and self-check frequently by printing data samples, data shapes, etc."
   ]
  },
  {
   "cell_type": "markdown",
   "metadata": {
    "id": "mUX0ljxlZHhO"
   },
   "source": [
    "---"
   ]
  },
  {
   "cell_type": "markdown",
   "metadata": {
    "id": "JQH7Ls7sZHhU"
   },
   "source": [
    "## Recurrent Neural Networks\n",
    "Recurrent Neural Networks are a particularly interesting class of neural networks. Unlike standard fully-connected networks that accept a fixed-size input and produce a fixed-size output over a predefined number of computational steps (i.e. network layers), RNNs instead operate on sequences of vectors. \n",
    "\n",
    "Computationally, feedforward networks may be seen as a trainable (but parametrically fixed) function, whereas RNNs act as continuous, stateful programs operating on sequences of inputs. \n",
    "Cognitively, this may be viewed as enhancing our system's perceptive and computational abilities with a notion of memory.\n",
    "In the general case, this statefulness is captured by an intermediate hidden vector which is adjusted throughout the computation, affected by both the immediately previous version of itself __and__ the current input.\n",
    "\n",
    "RNNs are nowadays established as the core machinery of neural sequence processing. \n",
    "\n",
    "A simple recurrent network (SRN or Elman network) is described by the equations:\n",
    "* $h_t = \\theta_h (W_h x_t + U_h h_{t-1} + b_h ) $\n",
    "* $y_t = \\theta_y (W_y h_t + b_y) $\n",
    "\n",
    "where (at timestep $t$) $x_t$, $h_t$, $y_t$ are the network's input, hidden and output representations respectively, $\\theta_h$, $\\theta_y$ are its hidden and output activation functions, and $W_h$, $U_h$, $b_h$, $W_y$, $b_y$ are the parametric tensors to be learned."
   ]
  },
  {
   "cell_type": "code",
   "execution_count": 1,
   "metadata": {
    "executionInfo": {
     "elapsed": 6428,
     "status": "ok",
     "timestamp": 1635594716694,
     "user": {
      "displayName": "Jim E",
      "photoUrl": "https://lh3.googleusercontent.com/a/default-user=s64",
      "userId": "01356919721605903206"
     },
     "user_tz": -120
    },
    "id": "mZZHhlpiZHhf"
   },
   "outputs": [],
   "source": [
    "import numpy as np\n",
    "import torch\n",
    "import typing\n",
    "from torch import FloatTensor, LongTensor\n",
    "from typing import Tuple, List, Callable, Optional"
   ]
  },
  {
   "cell_type": "markdown",
   "metadata": {
    "id": "96DKzrGEZHho"
   },
   "source": [
    "### Task 1 (2 points): Our own SRN\n",
    "Let's make our own simple recurrent network from scratch, to get an idea of its inner workings. To make our life just a bit simpler, we will use `torch.nn.Linear` to model the internal transformations.\n",
    "\n",
    "Complete the `mySRN` class, which is initialized with the input $d_i$, hidden $d_h$ and output $d_o$ dimensionalities, as well as two non-linear functions $\\theta_h$ and $\\theta_y$, and constructs an SRN implementing three `torch.nn.Linear` layers:\n",
    "1. `x_to_h`: a layer that takes $x_t$ and produces $W_h x_t$\n",
    "2. `h_to_h`: a layer that takes $h_{t-1}$ and produces $U_h h_{t-1} + b_h$\n",
    "3. `h_to_y`: a layer that takes $h_t$ and produces $W_y h_t + b_y$\n",
    "\n",
    "Implement the function `step` that performs a computational step, accepting $x_t$ and $h_{t-1}$ and producing $h_t$ and $y_t$.\n",
    "\n",
    "Implement the function `forward` that accepts a List of inputs $X$, an initial hidden vector $h_{-1}$ and iteratively applies `step` until the input sequence is exhausted, returning a List of outputs $Y$ (of the same length as $X$).\n",
    "\n",
    "_Hint_: Note that `x_to_h` does not have a bias term $b$, since we will incorporate it into `h_to_h`"
   ]
  },
  {
   "cell_type": "code",
   "execution_count": 2,
   "metadata": {
    "executionInfo": {
     "elapsed": 242,
     "status": "ok",
     "timestamp": 1635594723636,
     "user": {
      "displayName": "Jim E",
      "photoUrl": "https://lh3.googleusercontent.com/a/default-user=s64",
      "userId": "01356919721605903206"
     },
     "user_tz": -120
    },
    "id": "Ph4lKzpxZHh0"
   },
   "outputs": [],
   "source": [
    "class mySRN(torch.nn.Module):\n",
    "    def __init__(\n",
    "        self, \n",
    "        input_dim: int, \n",
    "        hidden_dim: int, \n",
    "        output_dim: int, \n",
    "        hidden_activation: Callable[[FloatTensor], FloatTensor],\n",
    "        output_activation: Callable[[FloatTensor], FloatTensor],\n",
    "        device: str\n",
    "    ) -> None:\n",
    "        super(mySRN, self).__init__()\n",
    "        self.hidden_activation = hidden_activation\n",
    "        self.output_activation = output_activation\n",
    "        self.device = device\n",
    "        \n",
    "        self.x_to_h = torch.nn.Linear(input_dim, hidden_dim, self.device)\n",
    "        self.h_to_h = torch.nn.Linear(hidden_dim, hidden_dim, bias = TRUE, device = self.device)\n",
    "        self.h_to_y = torch.nn.Linear(hidden_dim, output_dim, bias = TRUE, device = self.device)\n",
    "        \n",
    "    def step(self, x: FloatTensor, h: FloatTensor) -> Tuple[FloatTensor, FloatTensor]:\n",
    "        h_t = self.hidden_activation(self.x_to_h(X) + self.h_to_h(h)) # I can also use the hidden_activation as calling the act\n",
    "        y_t = self.output_activation(self.h_to_y(h_t)) # I can also use the output_activation as calling the act\n",
    "        return(h_t, y_t)\n",
    "        \n",
    "    def forward(self, X: List[FloatTensor], h: FloatTensor) -> List[FloatTensor]:\n",
    "        return [step(x, h)[1] for x in X]"
   ]
  },
  {
   "cell_type": "markdown",
   "metadata": {
    "id": "LCFB6Zv0ZHiB"
   },
   "source": [
    "<div class=\"alert alert-block alert-warning\">\n",
    "<b>Show the completed code to your teacher before proceeding</b>\n",
    "</div>"
   ]
  },
  {
   "cell_type": "markdown",
   "metadata": {
    "id": "bvBDZujeZHiG"
   },
   "source": [
    "In practice, we do not need to write our own functions for common RNN architectures. \n",
    "Torch already provides the [necessary abstractions](https://pytorch.org/docs/stable/nn.html#recurrent-layers).\n",
    "\n",
    "The [RNN](https://pytorch.org/docs/stable/nn.html#rnn) wrapper implements highly optimized forward routines to compute the hidden representations of a full input sequence.\n",
    "\n",
    "Some pointers:\n",
    "* Unlike our naive implementation, RNN accepts a 3-dimensional tensor of shape (seq_len, batch_shape, input_dim) rather than a list of 2-dimensional tensors\n",
    "* If no initial hidden state is provided, it defaults to a zero tensor\n",
    "* The class produces just the RNN hidden states; it is up to us to define the `h_to_y` transformation on top of them\n",
    "* The non-linearity argument is a string; our only two choices are either `\"tanh\"` or `\"relu\"` (shorthands for `torch.nn.Tanh` and `torch.nn.ReLU` respectively)\n",
    "\n",
    "Read the documentation (!) for further details.\n",
    "\n",
    "A brief example is given below."
   ]
  },
  {
   "cell_type": "code",
   "execution_count": 3,
   "metadata": {
    "colab": {
     "base_uri": "https://localhost:8080/"
    },
    "executionInfo": {
     "elapsed": 326,
     "status": "ok",
     "timestamp": 1635594379336,
     "user": {
      "displayName": "Jim E",
      "photoUrl": "https://lh3.googleusercontent.com/a/default-user=s64",
      "userId": "01356919721605903206"
     },
     "user_tz": -120
    },
    "id": "nZHYlqptZHiL",
    "outputId": "ce219c95-70ca-4ec2-c205-4b9ccef84eda"
   },
   "outputs": [
    {
     "name": "stdout",
     "output_type": "stream",
     "text": [
      "torch.Size([10, 32, 48])\n"
     ]
    }
   ],
   "source": [
    "rnn = torch.nn.RNN(input_size=16, hidden_size=48, nonlinearity=\"tanh\")\n",
    "X = torch.rand(10, 32, 16)\n",
    "h, _ = rnn(X)\n",
    "print(h.shape)"
   ]
  },
  {
   "cell_type": "markdown",
   "metadata": {
    "id": "YsfPDr5XZHiS"
   },
   "source": [
    "So, for a random input tensor of shape (seq_len, batch_size, input_dim), we get back an output tensor of shape (seq_len, batch_size, hidden_dim)"
   ]
  },
  {
   "cell_type": "code",
   "execution_count": 4,
   "metadata": {
    "executionInfo": {
     "elapsed": 5,
     "status": "ok",
     "timestamp": 1635594381431,
     "user": {
      "displayName": "Jim E",
      "photoUrl": "https://lh3.googleusercontent.com/a/default-user=s64",
      "userId": "01356919721605903206"
     },
     "user_tz": -120
    },
    "id": "_Etucd9AZHiW"
   },
   "outputs": [],
   "source": [
    "del mySRN, rnn, X, h"
   ]
  },
  {
   "cell_type": "markdown",
   "metadata": {
    "id": "cG5Z_-VoZHia"
   },
   "source": [
    "### Task 2 (2 points): A faster version of the SRN\n",
    "Now let's wrap an `RNN` into a custom module `myFastSRN` that implements it together with the `h_to_y` transformation."
   ]
  },
  {
   "cell_type": "code",
   "execution_count": 5,
   "metadata": {
    "executionInfo": {
     "elapsed": 3,
     "status": "ok",
     "timestamp": 1635594383141,
     "user": {
      "displayName": "Jim E",
      "photoUrl": "https://lh3.googleusercontent.com/a/default-user=s64",
      "userId": "01356919721605903206"
     },
     "user_tz": -120
    },
    "id": "bMlMrcsUZHih"
   },
   "outputs": [],
   "source": [
    "class fastSRN(torch.nn.Module):\n",
    "    def __init__(\n",
    "        self, \n",
    "        input_dim: int, \n",
    "        hidden_dim: int, \n",
    "        output_dim: int, \n",
    "        hidden_activation: str,\n",
    "        output_activation: Callable[[FloatTensor], FloatTensor],\n",
    "        device: str\n",
    "    ) -> None:\n",
    "        super(fastSRN, self).__init__()\n",
    "        self.input_dim = input_dim\n",
    "        self.hidden_dim = hidden_dim\n",
    "        self.output_dim = output_dim\n",
    "        \n",
    "        self.rNN = torch.nn.RNN(input_dim,hidden_dim,self.output_dim)\n",
    "        self.h_to_y = torch.nn.Linear(hidden_dim,output_dim,bias = True, device=self.device)\n",
    "    \n",
    "    def forward(self, X:FloatTensor, h: Optional[FloatTensor]=None) -> FloatTensor:\n",
    "        if h:    \n",
    "            return (self.rNN (X, h))\n",
    "        else:\n",
    "            h = torch.zeros(self.input_dim, self.hidden_dim, self.output_dim)\n",
    "            return(self.rNN(X,h))\n",
    "\n"
   ]
  },
  {
   "cell_type": "code",
   "execution_count": 6,
   "metadata": {
    "executionInfo": {
     "elapsed": 261,
     "status": "ok",
     "timestamp": 1635594386768,
     "user": {
      "displayName": "Jim E",
      "photoUrl": "https://lh3.googleusercontent.com/a/default-user=s64",
      "userId": "01356919721605903206"
     },
     "user_tz": -120
    },
    "id": "W08DajJ0670b"
   },
   "outputs": [],
   "source": [
    "class fastSRN(torch.nn.Module):\n",
    "\n",
    "    def __init__(\n",
    "\n",
    "        self, \n",
    "        input_dim: int, \n",
    "        hidden_dim: int, \n",
    "        output_dim: int, \n",
    "        hidden_activation: str,\n",
    "        output_activation: Callable[[FloatTensor], FloatTensor],\n",
    "        device: str\n",
    "\n",
    "    ) -> None:\n",
    "\n",
    "        super(fastSRN, self).__init__()\n",
    "        self.input_dim = input_dim\n",
    "        self.hidden_dim = hidden_dim\n",
    "        self.output_dim = output_dim\n",
    "        self.device = device\n",
    "        \n",
    "        self.hidden_activation =hidden_activation\n",
    "        self.output_activation = output_activation\n",
    "        #\n",
    "        self.rNN = torch.nn.RNN(input_size= input_dim,hidden_size= hidden_dim, num_layers= 2,nonlinearity= self.hidden_activation)\n",
    "        self.h_to_y = torch.nn.Linear(hidden_dim,output_dim, bias = True)\n",
    "        #\n",
    "    def forward(self, X:FloatTensor, h: Optional[FloatTensor]=None) -> FloatTensor:\n",
    "\n",
    "        h_t,_ = self.rNN(X,h)\n",
    "\n",
    "        return(self.output_activation(self.h_to_y(h_t)))"
   ]
  },
  {
   "cell_type": "code",
   "execution_count": 7,
   "metadata": {
    "executionInfo": {
     "elapsed": 204,
     "status": "ok",
     "timestamp": 1635594735103,
     "user": {
      "displayName": "Jim E",
      "photoUrl": "https://lh3.googleusercontent.com/a/default-user=s64",
      "userId": "01356919721605903206"
     },
     "user_tz": -120
    },
    "id": "5FPP023DnC_D"
   },
   "outputs": [],
   "source": [
    "## newest \n",
    "\n",
    "class fastSRN(torch.nn.Module):\n",
    "    def __init__(\n",
    "        self, \n",
    "        input_dim: int, \n",
    "        hidden_dim: int, \n",
    "        output_dim: int, \n",
    "        hidden_activation: str,\n",
    "        output_activation: Callable[[FloatTensor], FloatTensor],\n",
    "        device: str\n",
    "    ) -> None:\n",
    "        super(fastSRN, self).__init__()\n",
    "        self.input_dim = input_dim\n",
    "        self.hidden_dim = hidden_dim\n",
    "        self.output_dim = output_dim\n",
    "        self.device = device\n",
    "\n",
    "        self.hidden_activation =hidden_activation\n",
    "        self.output_activation = output_activation\n",
    "\n",
    "        #\n",
    "        self.rNN = torch.nn.RNN(input_size= input_dim,hidden_size= hidden_dim, num_layers= 2,nonlinearity= self.hidden_activation)\n",
    "        \n",
    "\n",
    "        self.h_to_y = torch.nn.Linear(hidden_dim,output_dim, bias = True)\n",
    "        #\n",
    "    def forward(self, X:FloatTensor, h: Optional[FloatTensor]=None) -> FloatTensor:\n",
    "        h_t,_ = self.rNN(X,h)\n",
    "        return(self.output_activation(self.h_to_y(h_t)))"
   ]
  },
  {
   "cell_type": "markdown",
   "metadata": {
    "id": "OYPj6pTQZHio"
   },
   "source": [
    "Let's see our new implementation in action. \n",
    "\n",
    "Initialize a random input tensor $X$ that would correspond to 32 sequences,  each of length 10, with each item having 16 features, and a `fastSRN` fit to process it, producing 42-dimensional hidden states and 2-dimensional output vectors for each sequence item.\n",
    "\n",
    "Run the SRN on the tensor and make sure the output shape is as expected."
   ]
  },
  {
   "cell_type": "code",
   "execution_count": 8,
   "metadata": {
    "colab": {
     "base_uri": "https://localhost:8080/"
    },
    "executionInfo": {
     "elapsed": 222,
     "status": "ok",
     "timestamp": 1635594986930,
     "user": {
      "displayName": "Jim E",
      "photoUrl": "https://lh3.googleusercontent.com/a/default-user=s64",
      "userId": "01356919721605903206"
     },
     "user_tz": -120
    },
    "id": "ZDyLv49AZHi5",
    "outputId": "87e1e6c3-3cf0-4e19-fa3d-5a4d8fb987e3"
   },
   "outputs": [
    {
     "name": "stdout",
     "output_type": "stream",
     "text": [
      "torch.Size([10, 32, 2])\n"
     ]
    }
   ],
   "source": [
    "if torch.cuda.is_available():\n",
    "    device = \"cuda\"\n",
    "else:\n",
    "    device = \"cpu\"\n",
    "\n",
    "fast_srn = fastSRN(16, 32,2, hidden_activation = 'relu', output_activation = torch.nn.Softmax(dim = -1) , device= device)\n",
    "X = torch.rand((10, 32, 16))\n",
    "y = fast_srn(X)\n",
    "print(y.shape)"
   ]
  },
  {
   "cell_type": "markdown",
   "metadata": {
    "id": "4sq6fno7ZHjB"
   },
   "source": [
    "<div class=\"alert alert-block alert-warning\">\n",
    "<b>Show the completed code to your teacher before proceeding</b>\n",
    "</div>"
   ]
  },
  {
   "cell_type": "markdown",
   "metadata": {
    "id": "wkESA9bvZHjF"
   },
   "source": [
    "Hopefully everything should be in order.\n",
    "\n",
    "You may have noticed a minor complication: in order to utilize batching, we need our input sequences to be of the same length.\n",
    "\n",
    "This, however, is very rarely the case in practice. A common trick against this problem is _padding_; that is, appending zero tensors to all input sequences shorter than the maximum in-batch length to make them all equally long.\n",
    "\n",
    "As usual, torch already does the hard work for us via [pad_sequence](https://pytorch.org/docs/stable/nn.html?highlight=pad%20_sequence#torch.nn.utils.rnn.pad_sequence). Given a list of $N$ 2-dimensional tensors, each of shape (seq\\_len$_n$, input_dim), it will construct a 3-d tensor of shape ($max_{n \\in N}${seq\\_len$_n$}, N, input_dim).\n",
    "\n",
    "An example:"
   ]
  },
  {
   "cell_type": "code",
   "execution_count": 9,
   "metadata": {
    "executionInfo": {
     "elapsed": 270,
     "status": "ok",
     "timestamp": 1635594397555,
     "user": {
      "displayName": "Jim E",
      "photoUrl": "https://lh3.googleusercontent.com/a/default-user=s64",
      "userId": "01356919721605903206"
     },
     "user_tz": -120
    },
    "id": "7jRvBb4LZHjJ"
   },
   "outputs": [],
   "source": [
    "x_1 = torch.rand(1, 16)  # a sequence of 1, 16-dimensional item\n",
    "x_2 = torch.rand(7, 16)  # a sequence of 7, 16-dimensional items\n",
    "x_3 = torch.rand(5, 16)  # a sequence of 5, 16-dimensional items\n",
    "\n",
    "X = torch.nn.utils.rnn.pad_sequence([x_1, x_2, x_3])  \n",
    "\n",
    "# Can you guess what the shape of X is?\n",
    "# print(X.shape)"
   ]
  },
  {
   "cell_type": "code",
   "execution_count": 10,
   "metadata": {
    "executionInfo": {
     "elapsed": 4,
     "status": "ok",
     "timestamp": 1635594399470,
     "user": {
      "displayName": "Jim E",
      "photoUrl": "https://lh3.googleusercontent.com/a/default-user=s64",
      "userId": "01356919721605903206"
     },
     "user_tz": -120
    },
    "id": "dJrYTw7aZHjO"
   },
   "outputs": [],
   "source": [
    "del x_1, x_2, x_3, X"
   ]
  },
  {
   "cell_type": "markdown",
   "metadata": {
    "id": "8lWGGZsvZHjQ"
   },
   "source": [
    "## Pretrained Word Embeddings\n",
    "Moving on --- in the last assignment, we saw how to train our own word embeddings using a small toy corpus. Now, we will see how to easily employ high-quality pretrained word vectors and, later on, how to utilize them for further downstream tasks.\n",
    "\n",
    "We are going to use [spaCy](https://spacy.io/). SpaCy is a high-level NLP library that provides a ton of useful functionalities, but we will only focus on its pretrained embeddings for this assignment.\n",
    "\n",
    "Before proceeding, [install spacy](https://spacy.io/usage) using your python package manager (e.g. `pip install spacy`)."
   ]
  },
  {
   "cell_type": "code",
   "execution_count": 11,
   "metadata": {
    "executionInfo": {
     "elapsed": 545,
     "status": "ok",
     "timestamp": 1635594672597,
     "user": {
      "displayName": "Jim E",
      "photoUrl": "https://lh3.googleusercontent.com/a/default-user=s64",
      "userId": "01356919721605903206"
     },
     "user_tz": -120
    },
    "id": "c3KQ8VcFZHjV"
   },
   "outputs": [],
   "source": [
    "import spacy"
   ]
  },
  {
   "cell_type": "markdown",
   "metadata": {
    "id": "UBcQrphGZHjY"
   },
   "source": [
    "SpaCy comes with a lot of different-size models for different languages. \n",
    "\n",
    "We will need to download the small english model for the exercises to follow. You can either do it in a new terminal window (optimal if you are running this assignment through a virtual environment) or by simply running the magic command below. "
   ]
  },
  {
   "cell_type": "code",
   "execution_count": null,
   "metadata": {
    "colab": {
     "base_uri": "https://localhost:8080/"
    },
    "executionInfo": {
     "elapsed": 174486,
     "status": "ok",
     "timestamp": 1635594613524,
     "user": {
      "displayName": "Jim E",
      "photoUrl": "https://lh3.googleusercontent.com/a/default-user=s64",
      "userId": "01356919721605903206"
     },
     "user_tz": -120
    },
    "id": "HuuCRwmzZHjb",
    "outputId": "d7e392be-162f-4fd0-f8cc-c6d0e83e5cbc"
   },
   "outputs": [],
   "source": [
    "!python3 -m spacy download en_core_web_lg"
   ]
  },
  {
   "cell_type": "markdown",
   "metadata": {
    "id": "2K8fycoKZHjh"
   },
   "source": [
    "After having downloaded the model, we can load it as follows (you may need to restart your notebook after the download is complete):"
   ]
  },
  {
   "cell_type": "code",
   "execution_count": null,
   "metadata": {
    "id": "wrMcEjrwZHjl",
    "scrolled": true
   },
   "outputs": [],
   "source": [
    "#pip install https://github.com/explosion/spacy-models/releases/download/en_core_web_sm-2.2.0/en_core_web_sm-2.2.0.tar.gz\n"
   ]
  },
  {
   "cell_type": "code",
   "execution_count": 12,
   "metadata": {
    "executionInfo": {
     "elapsed": 8866,
     "status": "ok",
     "timestamp": 1635594685339,
     "user": {
      "displayName": "Jim E",
      "photoUrl": "https://lh3.googleusercontent.com/a/default-user=s64",
      "userId": "01356919721605903206"
     },
     "user_tz": -120
    },
    "id": "ritGkDV1ZHjq"
   },
   "outputs": [],
   "source": [
    "nlp = spacy.load('en_core_web_lg')"
   ]
  },
  {
   "cell_type": "markdown",
   "metadata": {
    "id": "lZCqL0P8ZHjt"
   },
   "source": [
    "We can then use the loaded model to process a sentence and obtain its word vectors, a List of 300-dimensional numpy arrays."
   ]
  },
  {
   "cell_type": "code",
   "execution_count": 13,
   "metadata": {
    "colab": {
     "base_uri": "https://localhost:8080/"
    },
    "executionInfo": {
     "elapsed": 228,
     "status": "ok",
     "timestamp": 1635607503608,
     "user": {
      "displayName": "Jim E",
      "photoUrl": "https://lh3.googleusercontent.com/a/default-user=s64",
      "userId": "01356919721605903206"
     },
     "user_tz": -120
    },
    "id": "xtVnBO5YZHjx",
    "outputId": "20a6b168-235d-40a8-ea36-9c6ed9ae19cf"
   },
   "outputs": [
    {
     "name": "stdout",
     "output_type": "stream",
     "text": [
      "We have 7 vectors...\n",
      "...each of shape (300,)\n"
     ]
    }
   ],
   "source": [
    "doc = nlp(\"this is a sentence of 7 words\")  # the processed sentence\n",
    "vectors = list(map(lambda x: x.vector, doc))  # its vectors\n",
    "print(\"We have {} vectors...\".format(len(vectors)))\n",
    "print(\"...each of shape {}\".format(vectors[0].shape))"
   ]
  },
  {
   "cell_type": "markdown",
   "metadata": {
    "id": "pGMbQ7pDZHj0"
   },
   "source": [
    "And then finally convert them into torch tensors."
   ]
  },
  {
   "cell_type": "code",
   "execution_count": 14,
   "metadata": {
    "colab": {
     "base_uri": "https://localhost:8080/"
    },
    "executionInfo": {
     "elapsed": 355,
     "status": "ok",
     "timestamp": 1635607508548,
     "user": {
      "displayName": "Jim E",
      "photoUrl": "https://lh3.googleusercontent.com/a/default-user=s64",
      "userId": "01356919721605903206"
     },
     "user_tz": -120
    },
    "id": "L1DyRpTnZHj6",
    "outputId": "bf8d3f06-2088-4664-e300-82ee4bad166d"
   },
   "outputs": [
    {
     "name": "stdout",
     "output_type": "stream",
     "text": [
      "torch.Size([7, 300])\n",
      "[This is a sentence, This is another sentence.]\n",
      "(300,)\n"
     ]
    }
   ],
   "source": [
    "torch_vectors = torch.tensor(vectors)\n",
    "print(torch_vectors.shape)\n",
    "\n",
    "sentences = [\"This is a sentence\", \"This is another sentence.\"]\n",
    "sn = list(map(nlp, sentences))\n",
    "print(sn)\n",
    "print(sn[0][0].vector.shape)"
   ]
  },
  {
   "cell_type": "code",
   "execution_count": null,
   "metadata": {
    "id": "-mR-QkU8zh-s"
   },
   "outputs": [],
   "source": []
  },
  {
   "cell_type": "markdown",
   "metadata": {
    "id": "yW9YpANcZHkD"
   },
   "source": [
    "Or, in the case of multiple sentences:"
   ]
  },
  {
   "cell_type": "code",
   "execution_count": 15,
   "metadata": {
    "colab": {
     "base_uri": "https://localhost:8080/"
    },
    "executionInfo": {
     "elapsed": 210,
     "status": "ok",
     "timestamp": 1635594756724,
     "user": {
      "displayName": "Jim E",
      "photoUrl": "https://lh3.googleusercontent.com/a/default-user=s64",
      "userId": "01356919721605903206"
     },
     "user_tz": -120
    },
    "id": "P-m3TlMTZHkJ",
    "outputId": "d02e225c-1c61-4e30-a5e6-4c4fc54b5790"
   },
   "outputs": [
    {
     "name": "stdout",
     "output_type": "stream",
     "text": [
      "torch.Size([4, 300])\n",
      "torch.Size([5, 300])\n"
     ]
    }
   ],
   "source": [
    "# Example sentences.\n",
    "sentences = [\"This is a sentence\", \"This is another sentence.\"]\n",
    "\n",
    "# Parallel processing with spacy.\n",
    "docs = list(map(nlp, sentences))\n",
    "\n",
    "# Convert each processed sentence into a list of vectors.\n",
    "vectors = map(lambda doc: [word.vector for word in doc], docs)\n",
    "\n",
    "# Convert each list of vectors into a 2-d torch tensor.\n",
    "tensors = list(map(lambda sentence_vectors: torch.tensor(sentence_vectors), vectors))\n",
    "print(tensors[0].shape)\n",
    "print(tensors[1].shape)"
   ]
  },
  {
   "cell_type": "code",
   "execution_count": 16,
   "metadata": {
    "colab": {
     "base_uri": "https://localhost:8080/",
     "height": 455
    },
    "executionInfo": {
     "elapsed": 200011,
     "status": "error",
     "timestamp": 1635607354561,
     "user": {
      "displayName": "Jim E",
      "photoUrl": "https://lh3.googleusercontent.com/a/default-user=s64",
      "userId": "01356919721605903206"
     },
     "user_tz": -120
    },
    "id": "upoa37G-XTAr",
    "outputId": "a6715e6a-acd9-4d81-c778-af732dfc4c71"
   },
   "outputs": [
    {
     "name": "stdout",
     "output_type": "stream",
     "text": [
      "This is a sentence\n"
     ]
    }
   ],
   "source": [
    "docs = list(map(nlp, sentences))\n",
    "print(docs[0])\n",
    "\n",
    "#backwrd1 = list(map(lambda doc: [word.vector for word in doc], tensors))\n",
    "#print(backwrd1[0])"
   ]
  },
  {
   "cell_type": "markdown",
   "metadata": {
    "id": "wtMKoxdwZHkR"
   },
   "source": [
    "## POS Tagging\n",
    "Given our pretrained embeddings, we may represent sentences as _sequences of vectors_, which is exactly the format expected by an RNN.\n",
    "We will now try to train an SRN to iterate over a sentence and assign part of speech tags to each of its words."
   ]
  },
  {
   "cell_type": "markdown",
   "metadata": {
    "id": "CoyiaSr5ZHkU"
   },
   "source": [
    "### Task 3 (1 point): Examining the data"
   ]
  },
  {
   "cell_type": "markdown",
   "metadata": {
    "id": "gK4D-BWkZHkW"
   },
   "source": [
    "First, let's load and inspect our data files.\n",
    "\n",
    "The pickle file contains three items:\n",
    "1. `sentences`: a List of strings (sentences)\n",
    "2. `postags`: a List of Lists of strings (POS tags)\n",
    "3. `pos_to_int`: a Dictionary from strings to ints (mapping each POS tag to a unique identifier)\n"
   ]
  },
  {
   "cell_type": "code",
   "execution_count": 17,
   "metadata": {
    "executionInfo": {
     "elapsed": 219,
     "status": "ok",
     "timestamp": 1635594854713,
     "user": {
      "displayName": "Jim E",
      "photoUrl": "https://lh3.googleusercontent.com/a/default-user=s64",
      "userId": "01356919721605903206"
     },
     "user_tz": -120
    },
    "id": "L50HuAzSZHkY"
   },
   "outputs": [],
   "source": [
    "import pickle\n",
    "with open(\"TRAIN.p\", \"rb\") as f:\n",
    "    sentences, postags, pos_to_int = pickle.load(f)"
   ]
  },
  {
   "cell_type": "code",
   "execution_count": 18,
   "metadata": {
    "executionInfo": {
     "elapsed": 237,
     "status": "ok",
     "timestamp": 1635521247994,
     "user": {
      "displayName": "Jim E",
      "photoUrl": "https://lh3.googleusercontent.com/a/default-user=s64",
      "userId": "01356919721605903206"
     },
     "user_tz": -120
    },
    "id": "EAoYjs4-ZHka"
   },
   "outputs": [],
   "source": [
    "assert all(list(map(lambda s, p: len(s.split()) == len(p), sentences, postags)))"
   ]
  },
  {
   "cell_type": "markdown",
   "metadata": {
    "id": "f0HHclT9ZHkc"
   },
   "source": [
    "Now, let us take a moment to understand the data a bit more. \n",
    "Run the cell below a couple of times to get an idea of how the data looks like."
   ]
  },
  {
   "cell_type": "code",
   "execution_count": 19,
   "metadata": {
    "colab": {
     "base_uri": "https://localhost:8080/"
    },
    "executionInfo": {
     "elapsed": 340,
     "status": "ok",
     "timestamp": 1635599512254,
     "user": {
      "displayName": "Jim E",
      "photoUrl": "https://lh3.googleusercontent.com/a/default-user=s64",
      "userId": "01356919721605903206"
     },
     "user_tz": -120
    },
    "id": "t0vFLz2OZHki",
    "outputId": "7e51f49d-14ec-4e6e-fc85-31ad0bfbde1d"
   },
   "outputs": [
    {
     "name": "stdout",
     "output_type": "stream",
     "text": [
      "[('The', 'DT'), ('spaghetti', 'NNS'), ('is', 'VBZ'), ('made', 'VBN'), ('by', 'IN'), ('the', 'DT'), ('Al', 'NNP'), ('Ghazel', 'NNP'), ('Macaroni', 'NNP'), ('Co.', 'NNP'), ('in', 'IN'), ('Bethlehem', 'NNP'), ('and', 'CC'), ('is', 'VBZ'), ('marketed', 'VBN'), ('in', 'IN'), ('a', 'DT'), ('package', 'NN'), ('decorated', 'VBN'), ('with', 'IN'), ('green', 'JJ'), (',', ','), ('black', 'JJ'), (',', ','), ('red', 'JJ'), ('and', 'CC'), ('white', 'JJ'), ('stripes', 'NNS'), ('.', '.')]\n"
     ]
    }
   ],
   "source": [
    "i = np.random.randint(0, len(sentences))\n",
    "print(list(zip(sentences[i].split(), postags[i])))"
   ]
  },
  {
   "cell_type": "markdown",
   "metadata": {
    "id": "ks21YRvsZHkl"
   },
   "source": [
    "The POS tags in this dataset are in the style of the Penn Treebank. Find the top 20 most common tags and plot a histogram of their frequencies. If you are curious, also find out what these tags mean linguisically! https://www.ling.upenn.edu/courses/Fall_2003/ling001/penn_treebank_pos.html"
   ]
  },
  {
   "cell_type": "code",
   "execution_count": 20,
   "metadata": {
    "colab": {
     "base_uri": "https://localhost:8080/",
     "height": 573
    },
    "executionInfo": {
     "elapsed": 645,
     "status": "ok",
     "timestamp": 1635594862736,
     "user": {
      "displayName": "Jim E",
      "photoUrl": "https://lh3.googleusercontent.com/a/default-user=s64",
      "userId": "01356919721605903206"
     },
     "user_tz": -120
    },
    "id": "xbbtPcXTZHko",
    "outputId": "225f59e7-63f7-4003-dbd3-feeb12224a37"
   },
   "outputs": [
    {
     "data": {
      "image/png": "[encoded data removed]",
      "text/plain": [
       "<Figure size 1440x720 with 1 Axes>"
      ]
     },
     "metadata": {
      "needs_background": "light"
     },
     "output_type": "display_data"
    }
   ],
   "source": [
    "from collections import Counter, OrderedDict\n",
    "from itertools import islice\n",
    "import matplotlib.pyplot as plt\n",
    "\n",
    "dic_words = dict()\n",
    "flat_list = [item for sublist in postags for item in sublist]\n",
    "lengths = Counter()\n",
    "\n",
    "for pos in flat_list:\n",
    "    if pos not in dic_words:\n",
    "        dic_words[pos] =1\n",
    "    else:\n",
    "        dic_words[pos] +=1\n",
    "        \n",
    "sorted_values = (sorted(dic_words.values(),reverse = True))[:20]\n",
    "sorted_names = []\n",
    "for i in sorted_values:\n",
    "    for k in dic_words.keys():\n",
    "        if dic_words[k] == i:\n",
    "            sorted_names.append(k)\n",
    "            break\n",
    "            \n",
    "values = (sorted(list(lengths.values()), reverse=True))\n",
    "names = (list((dict(sorted(lengths.items(), key = lambda item: item[1], reverse=True)))))\n",
    "\n",
    "\n",
    "fig, ax = plt.subplots(figsize=(20,10))\n",
    "\n",
    "plot = ax.bar(sorted_names, sorted_values, align='center' )\n",
    "plt.ylabel(\"Frequency\")\n",
    "plt.xlabel(\"PostTages\")\n",
    "\n",
    "fig.tight_layout()\n",
    "plt.show()\n"
   ]
  },
  {
   "cell_type": "markdown",
   "metadata": {
    "id": "818Mri0sZHku"
   },
   "source": [
    "<div class=\"alert alert-block alert-warning\">\n",
    "<b>Show the completed code to your teacher before proceeding</b>\n",
    "</div>"
   ]
  },
  {
   "cell_type": "markdown",
   "metadata": {
    "id": "vLVfyrDMZHkz"
   },
   "source": [
    "### Task 4 (1 point): Tensorizing sentences\n",
    "Next, we need to convert our data to numeric form. Convert sentences to their tensor format, as done earlier (this may take a while). \n",
    "\n",
    "<div class=\"alert alert-block alert-info\">\n",
    "<b>Important!</b>\n",
    "Since the sentences are pre-tokenized (i.e. they are provided as sequences of words rather than strings), we need to change the processing call to ensure the output vectors are aligned with our tokenization.\n",
    "</div>"
   ]
  },
  {
   "cell_type": "code",
   "execution_count": 21,
   "metadata": {
    "colab": {
     "base_uri": "https://localhost:8080/",
     "height": 291
    },
    "executionInfo": {
     "elapsed": 432,
     "status": "error",
     "timestamp": 1635607997580,
     "user": {
      "displayName": "Jim E",
      "photoUrl": "https://lh3.googleusercontent.com/a/default-user=s64",
      "userId": "01356919721605903206"
     },
     "user_tz": -120
    },
    "id": "8N1MDjY3ZHk1",
    "outputId": "a83c1c5a-5d18-49f6-fd8a-db6e28ffd7f4"
   },
   "outputs": [
    {
     "name": "stdout",
     "output_type": "stream",
     "text": [
      "torch.Size([45, 300])\n",
      "tensor([[ 0.0892,  0.2579,  0.2628,  ...,  0.1442, -0.1690,  0.2650],\n",
      "        [-0.0117,  0.1948,  0.0889,  ..., -0.0547, -0.1934,  0.1400],\n",
      "        [-0.1505, -0.1601,  0.2423,  ...,  0.8117, -0.1359,  1.1897],\n",
      "        ...,\n",
      "        [-0.4646,  0.7281,  0.2261,  ..., -0.6087, -0.3987, -0.0845],\n",
      "        [ 0.3048,  0.1488,  0.4392,  ...,  0.0393, -0.5180, -0.1768],\n",
      "        [ 0.0120,  0.2075, -0.1258,  ...,  0.1387, -0.3605, -0.0350]])\n"
     ]
    }
   ],
   "source": [
    "docs = list(map(\n",
    "    lambda sentence: spacy.tokens.doc.Doc(nlp.vocab, words=sentence.split()), \n",
    "    sentences\n",
    "))\n",
    "\n",
    "# Convert each processed sentence into a list of vectors.\n",
    "doc_vectors = map(lambda doc: [word.vector for word in doc], docs)\n",
    "\n",
    "# Convert each list of vectors into a 2-d torch tensor.\n",
    "doc_tensors = list(map(lambda sentence_vectors: torch.tensor(sentence_vectors), doc_vectors))\n",
    "#print(doc_vectors[0])\n",
    "print(doc_tensors[0].shape)\n",
    "print(doc_tensors[0])\n",
    "\n"
   ]
  },
  {
   "cell_type": "markdown",
   "metadata": {
    "id": "9-RUzpwoZHk4"
   },
   "source": [
    "Similarly, we will use `pos_to_int` to convert the POS sequences into tensors."
   ]
  },
  {
   "cell_type": "code",
   "execution_count": 22,
   "metadata": {
    "colab": {
     "base_uri": "https://localhost:8080/"
    },
    "executionInfo": {
     "elapsed": 240,
     "status": "ok",
     "timestamp": 1635608164693,
     "user": {
      "displayName": "Jim E",
      "photoUrl": "https://lh3.googleusercontent.com/a/default-user=s64",
      "userId": "01356919721605903206"
     },
     "user_tz": -120
    },
    "id": "a87zyFYRZHk6",
    "outputId": "d4916b20-ac2e-4024-aab0-00130ed1c985"
   },
   "outputs": [
    {
     "name": "stdout",
     "output_type": "stream",
     "text": [
      "torch.Size([45])\n",
      "tensor([22,  7, 12,  1, 25, 22,  7, 25, 22, 12, 17, 12, 12, 15, 16, 32,  2,  7,\n",
      "        25, 22, 12, 12, 29, 25, 33, 32,  8, 29,  7, 25, 22, 12, 29, 16, 22, 12,\n",
      "        12, 29, 23, 41, 16, 36, 12, 12, 14])\n",
      "[7, 25, 25, 25, 38, 25, 23, 1, 32, 22, 7, 12]\n"
     ]
    }
   ],
   "source": [
    "pos_numeric = list(map(lambda pos_sequence: [pos_to_int[pos] for pos in pos_sequence], postags))\n",
    "pos_tensors =  list(map(lambda pos_num_sequence: torch.tensor(pos_num_sequence), pos_numeric))\n",
    "print(pos_tensors[0].shape)\n",
    "print(pos_tensors[0])\n",
    "print(pos_numeric[2])\n"
   ]
  },
  {
   "cell_type": "code",
   "execution_count": 23,
   "metadata": {
    "executionInfo": {
     "elapsed": 366,
     "status": "ok",
     "timestamp": 1635608220208,
     "user": {
      "displayName": "Jim E",
      "photoUrl": "https://lh3.googleusercontent.com/a/default-user=s64",
      "userId": "01356919721605903206"
     },
     "user_tz": -120
    },
    "id": "w9BmHMfhZHk8"
   },
   "outputs": [],
   "source": [
    "del doc_vectors, docs, pos_numeric"
   ]
  },
  {
   "cell_type": "markdown",
   "metadata": {
    "id": "t5xa0SVgZHk-"
   },
   "source": [
    "In the tutorial, we saw how to split our dataset into a training and a validation set. \n",
    "\n",
    "Do the same here, splitting the sentences, postags and their corresponding tensors into a training and a validation set."
   ]
  },
  {
   "cell_type": "code",
   "execution_count": 24,
   "metadata": {
    "colab": {
     "base_uri": "https://localhost:8080/",
     "height": 420
    },
    "executionInfo": {
     "elapsed": 309,
     "status": "error",
     "timestamp": 1635608222638,
     "user": {
      "displayName": "Jim E",
      "photoUrl": "https://lh3.googleusercontent.com/a/default-user=s64",
      "userId": "01356919721605903206"
     },
     "user_tz": -120
    },
    "id": "uy3mGpTSZHlB",
    "outputId": "9b7805eb-d19f-4591-a227-e589f9dda4c7"
   },
   "outputs": [],
   "source": [
    "from sklearn.model_selection import train_test_split\n",
    "#sentences_train, sentences_val, postags_train, postags_val, X_train, X_val, Y_train, Y_val = train_test_split(sentences, postags, pos_to_int, test_size=0.2)\n",
    "\n",
    "sentences_train, sentences_val, postags_train, postags_val, X_train, X_val, Y_train, Y_val = train_test_split(sentences, postags, doc_tensors, pos_tensors, test_size=0.2, random_state=6)\n",
    "\n",
    "assert len(X_train) == len(Y_train) == len(sentences_train)\n",
    "assert len(X_val) == len(Y_val) == len(sentences_val)"
   ]
  },
  {
   "cell_type": "markdown",
   "metadata": {
    "id": "cC5Jw7k8ZHlD"
   },
   "source": [
    "<div class=\"alert alert-block alert-warning\">\n",
    "<b>Show the completed code to your teacher before proceeding</b>\n",
    "</div>"
   ]
  },
  {
   "cell_type": "markdown",
   "metadata": {
    "id": "ha_LrU_WZHlE"
   },
   "source": [
    "### Task 5 (1 point): Datasets and Padding"
   ]
  },
  {
   "cell_type": "markdown",
   "metadata": {
    "id": "qV2-0unYZHlG"
   },
   "source": [
    "Again, following along the tutorial, we will wrap our tensors into a `Dataset` and a `DataLoader`.\n",
    "\n",
    "Since our data are not Tensors but rather Lists of Tensors of uneven lengths, we need to write our own Dataset wrapper.\n",
    "The wrapper only needs to implement two functions; `__len__`, which expects no arguments and returns the number of samples in the dataset, and `__getitem__`, which accepts an index `idx` and returns the input-output pair `X[idx]`, `Y[idx]`.\n",
    "\n",
    "Similarly, the Dataloader needs to process the list of input-output pairs produced by the Dataset using `pad_sequence`, as seen earlier."
   ]
  },
  {
   "cell_type": "markdown",
   "metadata": {
    "id": "GJZ1uPzUZHlH"
   },
   "source": [
    "Fill in the code for `UnevenLengthDataset` class, implementing its two core functions.\n",
    "\n",
    "<div class=\"alert alert-block alert-info\">\n",
    "If you have no experience creating container-like classes from scratch in Python, refer to the documentation for the <a href=\"https://docs.python.org/3/reference/datamodel.html#special-method-names\">special class methods</a> and for <a href=\"https://docs.python.org/3/reference/datamodel.html#emulating-container-types\">emulating container types</a>. Talk to your teacher if needed.</div>\n",
    "\n",
    "Then, complete the function `pad_batch` which takes a list of \n",
    "(x$_i$, y$_i$) pairs and produces the pair of their paddings: (X, Y).\n",
    "\n",
    "Given the two, the `DataLoader` object can iterate over the Dataset yielding uniform batches ready to be consumed by an RNN."
   ]
  },
  {
   "cell_type": "code",
   "execution_count": 26,
   "metadata": {
    "executionInfo": {
     "elapsed": 224,
     "status": "ok",
     "timestamp": 1635594918340,
     "user": {
      "displayName": "Jim E",
      "photoUrl": "https://lh3.googleusercontent.com/a/default-user=s64",
      "userId": "01356919721605903206"
     },
     "user_tz": -120
    },
    "id": "Jz55bmb2ZHlI"
   },
   "outputs": [],
   "source": [
    "from torch.nn.utils.rnn import pad_sequence\n",
    "from torch.utils.data import Dataset, DataLoader\n",
    "\n",
    "\n",
    "class UnevenLengthDataset(Dataset):\n",
    "    def __init__(self, X: List[FloatTensor], Y: List[LongTensor]) -> None:\n",
    "        self.X = X\n",
    "        self.Y = Y\n",
    "        assert len(Y) == len(X)\n",
    "    def __len__(self) -> int:\n",
    "        return len(self.X)\n",
    "        \n",
    "    def __getitem__(self, idx: int) -> Tuple[FloatTensor, LongTensor]:\n",
    "        return (self.X[idx], self.Y[idx])\n",
    "    \n",
    "    \n",
    "#def pad_batch(batch: List[Tuple[FloatTensor, LongTensor]]) -> Tuple[FloatTensor, LongTensor]:\n",
    "    #X = torch.nn.utils.rnn.pad_sequence([x_1, x_2, x_3])\n",
    "    #print(pad_sequence([FloatTensor, LongTensor]).size())\n",
    "    #return pad_sequence([FloatTensor, LongTensor])\n",
    "    #padding_pairs = torch.nn.utils.rnn.pad_sequence(batch)\n",
    "    #return padding_pairs\n",
    "\n",
    "def pad_batch(batch: List[Tuple[FloatTensor, LongTensor]]) -> Tuple[FloatTensor, LongTensor]:\n",
    "    \n",
    "    padded_x_ = pad_sequence([x[0] for x in batch])\n",
    "    padded_y_ = pad_sequence([y[1] for y in batch])\n",
    "    return(padded_x_,padded_y_)\n",
    "        \n",
    "train_dataset = UnevenLengthDataset(X_train, Y_train)\n",
    "train_dataloader = DataLoader(\n",
    "    train_dataset, \n",
    "    collate_fn=pad_batch,\n",
    "    shuffle=True,\n",
    "    batch_size=32\n",
    ")\n",
    "\n",
    "val_dataset = UnevenLengthDataset(X_val, Y_val)\n",
    "val_dataloader = DataLoader(\n",
    "    val_dataset,\n",
    "    collate_fn=pad_batch,\n",
    "    shuffle=False,\n",
    "    batch_size=32\n",
    ")"
   ]
  },
  {
   "cell_type": "markdown",
   "metadata": {
    "id": "BETON2TkZHlL"
   },
   "source": [
    "What does a batch look like, shape-wise? Use the `train_dataloader` to find out."
   ]
  },
  {
   "cell_type": "code",
   "execution_count": 27,
   "metadata": {
    "id": "lyOkAJB3ZHlO"
   },
   "outputs": [
    {
     "name": "stdout",
     "output_type": "stream",
     "text": [
      "torch.Size([62, 32, 300])\n",
      "torch.float32\n",
      "torch.Size([62, 32])\n",
      "torch.int64\n"
     ]
    }
   ],
   "source": [
    "for batch_x, batch_y in train_dataloader:\n",
    "    print(batch_x.shape)\n",
    "    print(batch_x.dtype)\n",
    "    print(batch_y.shape)\n",
    "    print(batch_y.dtype)\n",
    "    break\n"
   ]
  },
  {
   "cell_type": "markdown",
   "metadata": {
    "id": "toxFlHiXZHlR"
   },
   "source": [
    "<div class=\"alert alert-block alert-warning\">\n",
    "<b>Show the completed code to your teacher before proceeding</b>\n",
    "</div>"
   ]
  },
  {
   "cell_type": "markdown",
   "metadata": {
    "id": "Wg00Tv5yZHlU"
   },
   "source": [
    "So far so good. On to the network.\n",
    "\n",
    "### Task 6 (2 points): Utility Functions\n",
    "Remember how we defined our training and validation functions in the tutorial?\n",
    "\n",
    "You will need to do the same here.\n",
    "Note that while you can use the code from the tutorial for guidance, just copying it won't do the trick; unlike a feedforward net, a recurrent network produces a 3rd order output tensor of shape (max_seq_len, batch_size, num_output_classes).\n",
    "\n",
    "Similarly, our target Y is a 2nd order tensor of shape (max_seq_len, batch_size).\n",
    "\n",
    "You will need to properly treat the extra dimension of both the output and the target, since loss functions expect an order 2 output tensor and an order 1 target tensor. "
   ]
  },
  {
   "cell_type": "markdown",
   "metadata": {
    "id": "RHKIvuc-ZHlV"
   },
   "source": [
    "The functions `accuracy` and `measure_accurace`, which will be needed during evaluation, are already provided to you. "
   ]
  },
  {
   "cell_type": "code",
   "execution_count": 28,
   "metadata": {
    "executionInfo": {
     "elapsed": 220,
     "status": "ok",
     "timestamp": 1635594954407,
     "user": {
      "displayName": "Jim E",
      "photoUrl": "https://lh3.googleusercontent.com/a/default-user=s64",
      "userId": "01356919721605903206"
     },
     "user_tz": -120
    },
    "id": "HSG6bpvpZHlX"
   },
   "outputs": [],
   "source": [
    "def accuracy(predictions: LongTensor, truth: LongTensor, ignore_idx: int) -> Tuple[int, int]:\n",
    "    \"\"\"\n",
    "    Compute the total count of non-ignored values and total count of correctly predicted values.\n",
    "        \n",
    "    :param predictions: the network's predictions\n",
    "    :param truth: the true output labels\n",
    "    :param ignore_idx: the output padding value, to be ignored in accuracy calculation\n",
    "    :return: the total count of non-ignored values, the total count of correctly predicted values\n",
    "    \"\"\"\n",
    "    correct_words = torch.ones(predictions.size())\n",
    "    # Zero out the incorrectly predicted values.\n",
    "    correct_words[predictions != truth] = 0\n",
    "    # Mark with 1 the values that need to be ignored.\n",
    "    correct_words[truth == ignore_idx] = 1\n",
    "    # Calculate the total count of correctly predicted values, incl. the ignored ones.\n",
    "    num_correct_words = correct_words.sum().item()\n",
    "    # Calculate the number of the values to be ignored.\n",
    "    num_masked_words = len(truth[truth == ignore_idx])\n",
    "    #\n",
    "    count_non_ignored = predictions.shape[0] * predictions.shape[1] - num_masked_words\n",
    "    count_correct = num_correct_words - num_masked_words\n",
    "    return count_non_ignored, count_correct\n",
    "\n",
    "\n",
    "def measure_accuracy(network: torch.nn.Module, dataloader: DataLoader, device: str) -> float:\n",
    "    \"\"\"\n",
    "    Compute the network's accuracy across all batches.\n",
    "    \n",
    "    :param network: the trained network\n",
    "    :param dataloader: the dataloader for the validation data\n",
    "    :param device: the device to store the data on (\"cpu\" or \"cuda\")\n",
    "    :return: the network's accuracy\n",
    "    \"\"\"\n",
    "    correct = 0\n",
    "    total = 0\n",
    "    # Iterate over the batches.\n",
    "    for x_batch, y_batch in dataloader:\n",
    "        # Get the network predictions.\n",
    "        pred = network(x_batch.to(device))\n",
    "        # Compute the values to measure accuracy for the current batch.\n",
    "        local_total, local_correct = accuracy(pred.argmax(dim=-1), y_batch.to(device), ignore_idx=0)\n",
    "        # Update the total counts.\n",
    "        correct += local_correct\n",
    "        total += local_total\n",
    "    # Compute the final accuracy across all batches.\n",
    "    acc = correct/total\n",
    "    return acc"
   ]
  },
  {
   "cell_type": "markdown",
   "metadata": {
    "id": "AkIeWBHaZHlb"
   },
   "source": [
    "Complete the functions `train_batch`, `train_epoch`, `eval_batch` and `eval_epoch`."
   ]
  },
  {
   "cell_type": "code",
   "execution_count": 34,
   "metadata": {
    "executionInfo": {
     "elapsed": 230,
     "status": "ok",
     "timestamp": 1635594958446,
     "user": {
      "displayName": "Jim E",
      "photoUrl": "https://lh3.googleusercontent.com/a/default-user=s64",
      "userId": "01356919721605903206"
     },
     "user_tz": -120
    },
    "id": "2KjccanhZHlc"
   },
   "outputs": [],
   "source": [
    "def train_batch(\n",
    "    network: torch.nn.Module,\n",
    "    X_batch: FloatTensor,\n",
    "    Y_batch: LongTensor,\n",
    "    loss_fn: Callable[[FloatTensor, FloatTensor], FloatTensor],  \n",
    "    optimizer: torch.optim.Optimizer\n",
    ") -> float:\n",
    "    network.train()\n",
    "    prediction_batch = network(X_batch)\n",
    "    batch_loss = loss_fn(prediction_batch.view(-1, prediction_batch.shape[-1]), Y_batch.view(-1)) #transform 3D tensor to 2D tensor by stacking up first two dimensions into one.\n",
    "    batch_loss.backward()  \n",
    "    optimizer.step() \n",
    "    optimizer.zero_grad()  \n",
    "    return batch_loss.item()\n",
    "\n",
    "def train_epoch(\n",
    "    network: torch.nn.Module, \n",
    "    dataloader: DataLoader,\n",
    "    loss_fn: Callable[[FloatTensor, FloatTensor], FloatTensor],\n",
    "    optimizer: torch.optim.Optimizer, \n",
    "    device: str\n",
    ") -> float:\n",
    "    # Set the initial loss value.\n",
    "    loss = 0.\n",
    "    # Iterate over the batches in the dataloader.\n",
    "    for i, (x_batch, y_batch) in enumerate(dataloader):\n",
    "        x_batch = x_batch.to(device)  # convert back to your chosen device\n",
    "        y_batch = y_batch.to(device)\n",
    "        loss += train_batch(\n",
    "            network=network, X_batch=x_batch, Y_batch=y_batch, loss_fn=loss_fn, optimizer=optimizer\n",
    "        )\n",
    "    loss /= (i+1) # divide the loss by the number of batches for consistency \n",
    "    return loss\n",
    "\n",
    "def eval_batch(\n",
    "    network: torch.nn.Module,\n",
    "    X_batch: FloatTensor,\n",
    "    Y_batch: LongTensor,\n",
    "    loss_fn: Callable[[FloatTensor, LongTensor], FloatTensor]\n",
    ") -> float:\n",
    "    network.eval()\n",
    "    # Evaluate.\n",
    "    with torch.no_grad():\n",
    "        prediction_batch = network(X_batch)  # forward pass\n",
    "        batch_loss = loss_fn(prediction_batch.view(-1, prediction_batch.shape[-1]), Y_batch.view(-1)) #loss calculation\n",
    "    return batch_loss.item()\n",
    "\n",
    "def eval_epoch(\n",
    "    network: torch.nn.Module, \n",
    "    dataloader: DataLoader,\n",
    "    loss_fn: Callable[[FloatTensor, LongTensor], FloatTensor],\n",
    "    device: str\n",
    ") -> float:\n",
    "    # Set the initial loss value.\n",
    "    loss = 0.\n",
    "    # Iterate over the batches in the dataloader.\n",
    "    for i, (x_batch, y_batch) in enumerate(dataloader):\n",
    "        x_batch = x_batch.to(device)  # convert back to your chosen device\n",
    "        y_batch = y_batch.to(device)\n",
    "        loss += eval_batch(\n",
    "            network=network, X_batch=x_batch, Y_batch=y_batch, loss_fn=loss_fn\n",
    "        )\n",
    "    loss /= (i+1) # divide the loss by the number of batches for consistency \n",
    "    return loss"
   ]
  },
  {
   "cell_type": "markdown",
   "metadata": {
    "id": "GwcJ6Jh3ZHle"
   },
   "source": [
    "<div class=\"alert alert-block alert-warning\">\n",
    "<b>Show the completed code to your teacher before proceeding</b>\n",
    "</div>"
   ]
  },
  {
   "cell_type": "markdown",
   "metadata": {
    "id": "3zf79fWlZHlg"
   },
   "source": [
    "### Task 7 (2 points): SRN POS tagging\n",
    "Define a simple recurrent network, with input size compatible with the vector dimensionality, output size compatible with the number of output classes (the number of different POS tags + 1) and a hidden size of your own choice."
   ]
  },
  {
   "cell_type": "markdown",
   "metadata": {
    "id": "rz9HbSuiZHli"
   },
   "source": [
    "Use `\"tanh\"` as your hidden layer activation, and choose **an appropriate combination of output activation and loss function** (consider the task at hand and refer to the documentation or the tutorial if in doubt).\n",
    "\n",
    "Then instantiate an optimizer over your network and train the network for a number of epochs, measuring and printing all metrics in the process (train and validation loss and accuracy).\n",
    "\n",
    "_Hint_: Use `measure_accuracy` (defined earlier) to obtain accuracy.\n",
    "\n",
    "Plot the loss and accuracy curves over the training process."
   ]
  },
  {
   "cell_type": "code",
   "execution_count": 35,
   "metadata": {
    "executionInfo": {
     "elapsed": 237,
     "status": "ok",
     "timestamp": 1635595001762,
     "user": {
      "displayName": "Jim E",
      "photoUrl": "https://lh3.googleusercontent.com/a/default-user=s64",
      "userId": "01356919721605903206"
     },
     "user_tz": -120
    },
    "id": "PJsoC8FSZHlk"
   },
   "outputs": [],
   "source": [
    "srn = fastSRN(300, 320, len(pos_to_int)+1, hidden_activation = 'tanh', output_activation = torch.nn.Softmax(dim = -1) , device= device) #input dim 300 -> vector size; hiddem dim recomm. power of 8, # check relu for spelling\n",
    "opt = torch.optim.Adam(srn.parameters(), lr=0.05) # check learning rate in case of error\n",
    "loss_fn = torch.nn.NLLLoss(ignore_index=0)"
   ]
  },
  {
   "cell_type": "code",
   "execution_count": null,
   "metadata": {
    "colab": {
     "base_uri": "https://localhost:8080/"
    },
    "executionInfo": {
     "elapsed": 202699,
     "status": "ok",
     "timestamp": 1635597093411,
     "user": {
      "displayName": "Jim E",
      "photoUrl": "https://lh3.googleusercontent.com/a/default-user=s64",
      "userId": "01356919721605903206"
     },
     "user_tz": -120
    },
    "id": "zTt9lJCEZHln",
    "outputId": "9b3a8950-c0c6-4f3e-91e5-12b9a8cf8e64"
   },
   "outputs": [],
   "source": [
    "# Your training script here\n",
    "NUM_EPOCHS = 2\n",
    "\n",
    "train_losses = []\n",
    "val_losses = []\n",
    "acc_train = []\n",
    "acc_val = []\n",
    "\n",
    "for t in range(NUM_EPOCHS):\n",
    "    train_loss = train_epoch(srn, train_dataloader, optimizer=opt, loss_fn=loss_fn, device=device)\n",
    "    val_loss = eval_epoch(srn, val_dataloader, loss_fn, device= device)\n",
    "    acc_train = measure_accuracy(srn, train_dataloader, device)\n",
    "    acc_val = measure_accuracy(srn, val_dataloader, device)\n",
    "    print(\"Epoch {}\".format(t))\n",
    "    print(\" Training Loss: {}\".format(train_loss))\n",
    "    print(\" Training accuracy: {}\".format(acc_train))\n",
    "    print(\" Validation Loss: {}\".format(val_loss))\n",
    "    print(\" Validation accuracy: {}\".format(acc_val))\n",
    "    \n",
    "    train_losses.append(train_loss)\n",
    "    val_losses.append(val_loss)\n",
    "    "
   ]
  },
  {
   "cell_type": "code",
   "execution_count": null,
   "metadata": {
    "colab": {
     "base_uri": "https://localhost:8080/",
     "height": 353
    },
    "executionInfo": {
     "elapsed": 252,
     "status": "ok",
     "timestamp": 1635597126482,
     "user": {
      "displayName": "Jim E",
      "photoUrl": "https://lh3.googleusercontent.com/a/default-user=s64",
      "userId": "01356919721605903206"
     },
     "user_tz": -120
    },
    "id": "QPCzyKeVZHlp",
    "outputId": "afda76e6-29b5-4f89-9714-ec7172a5e4c3"
   },
   "outputs": [],
   "source": [
    "# Your loss plotting here\n",
    "plt.plot(train_losses)\n",
    "plt.plot(val_losses)\n",
    "plt.legend([\"Training\"],[\"Validation\"])\n",
    "plt.show()\n"
   ]
  },
  {
   "cell_type": "code",
   "execution_count": null,
   "metadata": {
    "colab": {
     "base_uri": "https://localhost:8080/",
     "height": 266
    },
    "executionInfo": {
     "elapsed": 276,
     "status": "ok",
     "timestamp": 1635597136370,
     "user": {
      "displayName": "Jim E",
      "photoUrl": "https://lh3.googleusercontent.com/a/default-user=s64",
      "userId": "01356919721605903206"
     },
     "user_tz": -120
    },
    "id": "gRf7oR0rZHlr",
    "outputId": "db8fba43-76db-4957-aebf-0bded538b78f"
   },
   "outputs": [],
   "source": [
    "# Your accuracy plotting here\n",
    "from matplotlib import pyplot as plt\n",
    "plt.plot(train_accuracies)\n",
    "plt.plot(val_accuracies)\n",
    "plt.legend([\"Training\", \"Validation\"])\n",
    "plt.show()\n"
   ]
  },
  {
   "cell_type": "markdown",
   "metadata": {
    "id": "5UhPSbrNZHlt"
   },
   "source": [
    "The test accuracy on this task should be well over 90%. If you are getting an accuracy much below this, check your code, play with your hyperparameters and try to improve."
   ]
  },
  {
   "cell_type": "markdown",
   "metadata": {
    "id": "ei_sDNBTZHlv"
   },
   "source": [
    "<div class=\"alert alert-block alert-warning\">\n",
    "<b>Show the completed code to your teacher before proceeding</b>\n",
    "</div>"
   ]
  },
  {
   "cell_type": "markdown",
   "metadata": {
    "id": "nRqV8_lUZHlx"
   },
   "source": [
    "### Task 8 (2 points): Error analysis\n",
    "Find 2-4 sentences where the network predicted wrong POS tags. For at least 2 of the mistakes, make suggestions as to why they were made. Refer to the [documentation](https://www.ling.upenn.edu/courses/Fall_2003/ling001/penn_treebank_pos.html) for the POS tag descriptions."
   ]
  },
  {
   "cell_type": "code",
   "execution_count": null,
   "metadata": {
    "id": "QlghECPaZHl1"
   },
   "outputs": [],
   "source": [
    "def accuracyWords(predictions: LongTensor, truth: LongTensor, ignore_idx: int) -> Tuple[int, int]:\n",
    "\n",
    "    correct_words = torch.ones(predictions.size())\n",
    "    # Zero out the incorrectly predicted values.\n",
    "    correct_words[predictions != truth] = 0\n",
    "    # Mark with 2 the values that need to be ignored.\n",
    "    correct_words[truth == ignore_idx] = 2\n",
    "    return correct_words\n",
    "\n",
    "all_predictions = []\n",
    "ally_batches = []\n",
    "\n",
    "# Iterate over the batches.\n",
    "for x_batch, y_batch in val_dataloader:\n",
    "  # Get the network predictions.\n",
    "  pred = srn(x_batch.to(device))\n",
    "  \n",
    "  # Get the predictions in tensors with values for correct(1), wrong(0), and ignore(2)\n",
    "  thisprediction = accuracyWords(pred.argmax(dim=-1), y_batch.to(device), ignore_idx=0)\n",
    "  all_predictions.append(thisprediction)\n",
    "  #collect the batches that belong to the predictions\n",
    "  ally_batches.append(y_batch)"
   ]
  },
  {
   "cell_type": "code",
   "execution_count": null,
   "metadata": {
    "colab": {
     "base_uri": "https://localhost:8080/"
    },
    "executionInfo": {
     "elapsed": 315,
     "status": "ok",
     "timestamp": 1635614651119,
     "user": {
      "displayName": "Jim E",
      "photoUrl": "https://lh3.googleusercontent.com/a/default-user=s64",
      "userId": "01356919721605903206"
     },
     "user_tz": -120
    },
    "id": "6Xj7nODLOSXh",
    "outputId": "55e7c492-0872-4b4a-8e02-8d8860449383"
   },
   "outputs": [],
   "source": [
    "print(len(all_predictions))\n",
    "print(len(ally_batches))\n",
    "\n",
    "xi = 5\n",
    "yi = 10\n",
    "\n",
    "print(all_predictions[xi][yi])\n",
    "print(ally_batches[xi][yi])"
   ]
  },
  {
   "cell_type": "code",
   "execution_count": null,
   "metadata": {
    "colab": {
     "base_uri": "https://localhost:8080/"
    },
    "executionInfo": {
     "elapsed": 236,
     "status": "ok",
     "timestamp": 1635614502218,
     "user": {
      "displayName": "Jim E",
      "photoUrl": "https://lh3.googleusercontent.com/a/default-user=s64",
      "userId": "01356919721605903206"
     },
     "user_tz": -120
    },
    "id": "1I2qbId8M26z",
    "outputId": "c0baa830-19aa-492c-c2e9-19cb8375db2e"
   },
   "outputs": [],
   "source": [
    "print(all_predictions[0][0])\n",
    "\n",
    "valueZ = 1\n",
    "okpredictions = []\n",
    "\n",
    "for um in all_predictions:\n",
    "  for ab in um:\n",
    "    if valueZ not in ab:\n",
    "      okpredictions.append(ab)\n",
    "\n",
    "print(len(okpredictions))"
   ]
  },
  {
   "cell_type": "code",
   "execution_count": null,
   "metadata": {
    "id": "BpuAuvAHJ727"
   },
   "outputs": [],
   "source": [
    "print(ally_batches[0][1])\n",
    "\n",
    "xu = 20\n",
    "for leng in range(xu):\n",
    "  print(len(ally_batches[leng][1]))"
   ]
  },
  {
   "cell_type": "code",
   "execution_count": null,
   "metadata": {
    "colab": {
     "base_uri": "https://localhost:8080/"
    },
    "executionInfo": {
     "elapsed": 321,
     "status": "ok",
     "timestamp": 1635613314137,
     "user": {
      "displayName": "Jim E",
      "photoUrl": "https://lh3.googleusercontent.com/a/default-user=s64",
      "userId": "01356919721605903206"
     },
     "user_tz": -120
    },
    "id": "JXoSU1XZJBEq",
    "outputId": "eff465f1-d13e-4519-f610-848aa9f096d2"
   },
   "outputs": [],
   "source": [
    "#lst = ally_batches\n",
    "row=len(lst)\n",
    "column=len(lst[0])\n",
    "print(f'Rows:{row}, Column:{column}')\n",
    "print(\"Shape of a list:\",len(lst))"
   ]
  },
  {
   "cell_type": "code",
   "execution_count": null,
   "metadata": {
    "id": "vZDq8XHy808j"
   },
   "outputs": [],
   "source": [
    "#print(all_predictions)\n",
    "all_wrong = []\n",
    "for x in all_predictions:\n",
    "  if x.\n",
    "#print(y_batch.to(device))"
   ]
  },
  {
   "cell_type": "code",
   "execution_count": null,
   "metadata": {
    "id": "52CPQyQdCyGh"
   },
   "outputs": [],
   "source": [
    "#indix = 2\n",
    "print(len(Y_val[indix]))\n",
    "print(Y_val[indix])\n",
    "\n",
    "prede = srn(x_batch.to(device))\n",
    "\n",
    "print(prede[9])"
   ]
  },
  {
   "cell_type": "code",
   "execution_count": null,
   "metadata": {
    "id": "MZru81_gS5_q"
   },
   "outputs": [],
   "source": [
    "#for i, (x_batch, y_batch) in enumerate(val_dataloader):\n",
    "  print(srn(x_batch.to(device)))"
   ]
  },
  {
   "cell_type": "markdown",
   "metadata": {
    "id": "GqL4RqB7ZHl3"
   },
   "source": [
    "### Task 9 (2 points): Extended error analysis\n",
    "\n",
    "What are the most commonly confused pairs of POS tags (select the top 3-5 pairs)? Provide illustrations from the data and make suggestions as to why these tag pairs are frequently confused."
   ]
  },
  {
   "cell_type": "code",
   "execution_count": null,
   "metadata": {
    "id": "Lk2Vr8FxZHl6"
   },
   "outputs": [],
   "source": []
  },
  {
   "cell_type": "markdown",
   "metadata": {
    "id": "6EHLYm-zZHl8"
   },
   "source": [
    "### Congratulations!\n",
    "🎉 You are done with the required part! "
   ]
  },
  {
   "cell_type": "markdown",
   "metadata": {
    "id": "QmezaTRGZHl-"
   },
   "source": [
    "### Optional\n",
    "\n",
    "RNNs have limited expressive capacity that can be surpassed by more complicated variants such as [Gated Recurrent Units](https://en.wikipedia.org/wiki/Gated_recurrent_unit) and [Long Short-Term Memory Units](https://en.wikipedia.org/wiki/Long_short-term_memory); replacing your RNN with those could easily improve the performance.\n",
    "\n",
    "If you found the previous part easy and are already done, you can use other neural architectures to do the same task on the same dataset and compare their performance.  (There will be no support provided for this, or points, but you are welcome to explore this for your own understanding :))\n",
    "\n",
    "Whatever your design choices are, keep the torch documentation close at all times! Do not reinvent the wheel, use existing abstractions whenever possible (but make sure you use them the right way!). Take measures against overfitting: regularize with dropout and/or weight decay and keep track of the validation set performance to stop training early if needed."
   ]
  },
  {
   "cell_type": "code",
   "execution_count": null,
   "metadata": {
    "id": "6jOLo0eQZHmB"
   },
   "outputs": [],
   "source": []
  }
 ],
 "metadata": {
  "colab": {
   "collapsed_sections": [
    "6EHLYm-zZHl8",
    "QmezaTRGZHl-"
   ],
   "name": "POS_RNN_2021-jim.ipynb",
   "provenance": []
  },
  "kernelspec": {
   "display_name": "Python 3 (ipykernel)",
   "language": "python",
   "name": "python3"
  },
  "language_info": {
   "codemirror_mode": {
    "name": "ipython",
    "version": 3
   },
   "file_extension": ".py",
   "mimetype": "text/x-python",
   "name": "python",
   "nbconvert_exporter": "python",
   "pygments_lexer": "ipython3",
   "version": "3.8.12"
  }
 },
 "nbformat": 4,
 "nbformat_minor": 1
}
