{
 "cells": [
  {
   "cell_type": "markdown",
   "metadata": {},
   "source": [
    "# Sequence Processing with Recurrent Neural Networks\n",
    "\n",
    "So far, we have seen how word vectors can be constructed from corpus statistics, and how they can be utilized to infer latent semantic content either in isolation (e.g. genders from names) or in relation to one another (e.g. similarities and analogies). \n",
    "\n",
    "For tasks involving larger linguistic units such as phrases, sentences and dialogues, we need machinery capable of processing _sequences_ or _structures_ of words.\n",
    "\n",
    "Recurrent Neural Networks are an example of such machinery; for this assignment, you will construct a recurrent neural network that annotates each word of a sentence with a linguistically informative marker. In the simple case (and in this assignment), these markers will be POS tags. However, they can also be other kinds of tags, e.g. more fine-grained morphosyntactic [categories](https://en.wikipedia.org/wiki/Combinatory_categorial_grammar) (supertags).\n",
    "\n",
    "This task is a case of sequence labeling.  A good reference point is Jurafsky and Martin [Chapter 9](https://web.stanford.edu/~jurafsky/slp3/9.pdf). For a fuller view of the picture, a good reference point is Alex Graves' [dissertation](https://www.cs.toronto.edu/~graves/preprint.pdf).\n",
    "\n",
    "We will take a gradual approach, first inspecting recurrent neural networks, then moving on to data processing using high-grade word vectors before finally moving to the problem at hand. \n",
    "\n",
    "**-------------------------------------------------------------------------------------------------------------**\n",
    "\n",
    "There are 9 tasks in this assignment for a total of 15 points; tasks 1-2 and 6-9 are worth 2 points each, tasks 3-5 are worth 1 point each.\n",
    "\n",
    "Make sure to <ins>show the code to your teacher after completing every task</ins>. Don't forget to add comments to your code and self-check frequently by printing data samples, data shapes, etc."
   ]
  },
  {
   "cell_type": "markdown",
   "metadata": {},
   "source": [
    "---"
   ]
  },
  {
   "cell_type": "markdown",
   "metadata": {},
   "source": [
    "## Recurrent Neural Networks\n",
    "Recurrent Neural Networks are a particularly interesting class of neural networks. Unlike standard fully-connected networks that accept a fixed-size input and produce a fixed-size output over a predefined number of computational steps (i.e. network layers), RNNs instead operate on sequences of vectors. \n",
    "\n",
    "Computationally, feedforward networks may be seen as a trainable (but parametrically fixed) function, whereas RNNs act as continuous, stateful programs operating on sequences of inputs. \n",
    "Cognitively, this may be viewed as enhancing our system's perceptive and computational abilities with a notion of memory.\n",
    "In the general case, this statefulness is captured by an intermediate hidden vector which is adjusted throughout the computation, affected by both the immediately previous version of itself __and__ the current input.\n",
    "\n",
    "RNNs are nowadays established as the core machinery of neural sequence processing. \n",
    "\n",
    "A simple recurrent network (SRN or Elman network) is described by the equations:\n",
    "* $h_t = \\theta_h (W_h x_t + U_h h_{t-1} + b_h ) $\n",
    "* $y_t = \\theta_y (W_y h_t + b_y) $\n",
    "\n",
    "where (at timestep $t$) $x_t$, $h_t$, $y_t$ are the network's input, hidden and output representations respectively, $\\theta_h$, $\\theta_y$ are its hidden and output activation functions, and $W_h$, $U_h$, $b_h$, $W_y$, $b_y$ are the parametric tensors to be learned."
   ]
  },
  {
   "cell_type": "code",
   "execution_count": 1,
   "metadata": {},
   "outputs": [],
   "source": [
    "import numpy as np\n",
    "import torch\n",
    "from torch import FloatTensor, LongTensor\n",
    "from typing import Tuple, List, Callable, Optional"
   ]
  },
  {
   "cell_type": "markdown",
   "metadata": {},
   "source": [
    "### Task 1 (2 points): Our own SRN\n",
    "Let's make our own simple recurrent network from scratch, to get an idea of its inner workings. To make our life just a bit simpler, we will use `torch.nn.Linear` to model the internal transformations.\n",
    "\n",
    "Complete the `mySRN` class, which is initialized with the input $d_i$, hidden $d_h$ and output $d_o$ dimensionalities, as well as two non-linear functions $\\theta_h$ and $\\theta_y$, and constructs an SRN implementing three `torch.nn.Linear` layers:\n",
    "1. `x_to_h`: a layer that takes $x_t$ and produces $W_h x_t$\n",
    "2. `h_to_h`: a layer that takes $h_{t-1}$ and produces $U_h h_{t-1} + b_h$\n",
    "3. `h_to_y`: a layer that takes $h_t$ and produces $W_y h_t + b_y$\n",
    "\n",
    "Implement the function `step` that performs a computational step, accepting $x_t$ and $h_{t-1}$ and producing $h_t$ and $y_t$.\n",
    "\n",
    "Implement the function `forward` that accepts a List of inputs $X$, an initial hidden vector $h_{-1}$ and iteratively applies `step` until the input sequence is exhausted, returning a List of outputs $Y$ (of the same length as $X$).\n",
    "\n",
    "_Hint_: Note that `x_to_h` does not have a bias term $b$, since we will incorporate it into `h_to_h`"
   ]
  },
  {
   "cell_type": "code",
   "execution_count": 2,
   "metadata": {},
   "outputs": [],
   "source": [
    "class mySRN(torch.nn.Module):\n",
    "    def __init__(\n",
    "        self, \n",
    "        input_dim: int, \n",
    "        hidden_dim: int, \n",
    "        output_dim: int, \n",
    "        hidden_activation: Callable[[FloatTensor], FloatTensor],\n",
    "        output_activation: Callable[[FloatTensor], FloatTensor],\n",
    "        device: str\n",
    "    ) -> None:\n",
    "        super(mySRN, self).__init__()\n",
    "        self.hidden_activation = hidden_activation\n",
    "        self.output_activation = output_activation\n",
    "        self.device = device\n",
    "        #\n",
    "        self.x_to_h = torch.nn.Linear(input_dim,hidden_dim, device=self.device)\n",
    "        self.h_to_h = torch.nn.Linear(hidden_dim,hidden_dim,bias = True,  device=self.device)\n",
    "        self.h_to_y = torch.nn.Linear(hidden_dim,output_dim,bias = True,  device=self.device)\n",
    "        \n",
    "    def step(self, x: FloatTensor, h: FloatTensor) -> Tuple[FloatTensor, FloatTensor]:\n",
    "        h_t = hidden_activation(self.x_to_h(X) + self.h_to_h(h)) # I can also use the hidden_activation as calling the act\n",
    "        y_t = self.output_activation(self.h_to_y(h_t)) # # I can also use the output_activation as calling the act\n",
    "        return(h_t, y_t)\n",
    "    def forward(self, X: List[FloatTensor], h: FloatTensor) -> List[FloatTensor]:\n",
    "        return [step(x, h) for x in X]\n",
    "        "
   ]
  },
  {
   "cell_type": "markdown",
   "metadata": {},
   "source": [
    "<div class=\"alert alert-block alert-warning\">\n",
    "<b>Show the completed code to your teacher before proceeding</b>\n",
    "</div>"
   ]
  },
  {
   "cell_type": "markdown",
   "metadata": {},
   "source": [
    "In practice, we do not need to write our own functions for common RNN architectures. \n",
    "Torch already provides the [necessary abstractions](https://pytorch.org/docs/stable/nn.html#recurrent-layers).\n",
    "\n",
    "The [RNN](https://pytorch.org/docs/stable/nn.html#rnn) wrapper implements highly optimized forward routines to compute the hidden representations of a full input sequence.\n",
    "\n",
    "Some pointers:\n",
    "* Unlike our naive implementation, RNN accepts a 3-dimensional tensor of shape (seq_len, batch_shape, input_dim) rather than a list of 2-dimensional tensors\n",
    "* If no initial hidden state is provided, it defaults to a zero tensor\n",
    "* The class produces just the RNN hidden states; it is up to us to define the `h_to_y` transformation on top of them\n",
    "* The non-linearity argument is a string; our only two choices are either `\"tanh\"` or `\"relu\"` (shorthands for `torch.nn.Tanh` and `torch.nn.ReLU` respectively)\n",
    "\n",
    "Read the documentation (!) for further details.\n",
    "\n",
    "A brief example is given below."
   ]
  },
  {
   "cell_type": "code",
   "execution_count": 3,
   "metadata": {},
   "outputs": [
    {
     "name": "stdout",
     "output_type": "stream",
     "text": [
      "torch.Size([10, 32, 48])\n"
     ]
    }
   ],
   "source": [
    "rnn = torch.nn.RNN(input_size=16, hidden_size=48, nonlinearity=\"tanh\")\n",
    "X = torch.rand(10, 32, 16)\n",
    "h, _ = rnn(X)\n",
    "print(h.shape)"
   ]
  },
  {
   "cell_type": "markdown",
   "metadata": {},
   "source": [
    "So, for a random input tensor of shape (seq_len, batch_size, input_dim), we get back an output tensor of shape (seq_len, batch_size, hidden_dim)"
   ]
  },
  {
   "cell_type": "code",
   "execution_count": 4,
   "metadata": {},
   "outputs": [],
   "source": [
    "del mySRN, rnn, X, h"
   ]
  },
  {
   "cell_type": "markdown",
   "metadata": {},
   "source": [
    "### Task 2 (2 points): A faster version of the SRN\n",
    "Now let's wrap an `RNN` into a custom module `myFastSRN` that implements it aside from the `h_to_y` transformation."
   ]
  },
  {
   "cell_type": "code",
   "execution_count": 84,
   "metadata": {},
   "outputs": [],
   "source": [
    "class fastSRN(torch.nn.Module):\n",
    "    def __init__(\n",
    "        self, \n",
    "        input_dim: int, \n",
    "        hidden_dim: int, \n",
    "        output_dim: int, \n",
    "        hidden_activation: str,\n",
    "        output_activation: Callable[[FloatTensor], FloatTensor],\n",
    "        device: str\n",
    "    ) -> None:\n",
    "        super(fastSRN, self).__init__()\n",
    "        self.input_dim = input_dim\n",
    "        self.hidden_dim = hidden_dim\n",
    "        self.output_dim = output_dim\n",
    "        self.device = device\n",
    "\n",
    "        self.hidden_activation =hidden_activation\n",
    "        self.output_activation = output_activation\n",
    "\n",
    "        #\n",
    "        self.rNN = torch.nn.RNN(input_size= input_dim,hidden_size= hidden_dim, num_layers= 2,nonlinearity= self.hidden_activation)\n",
    "        \n",
    "\n",
    "        self.h_to_y = torch.nn.Linear(hidden_dim,output_dim, bias = True)\n",
    "        #\n",
    "    def forward(self, X:FloatTensor, h: Optional[FloatTensor]=None) -> FloatTensor:\n",
    "        h_t,_ = self.rNN(X,h)\n",
    "        return(self.output_activation(self.h_to_y(h_t)))"
   ]
  },
  {
   "cell_type": "markdown",
   "metadata": {},
   "source": [
    "Let's see our new implementation in action. \n",
    "\n",
    "Initialize a random input tensor $X$ that would correspond to 32 sequences,  each of length 10, with each item having 16 features, and a `fastSRN` fit to process it, producing 42-dimensional hidden states and 2-dimensional output vectors for each sequence item.\n",
    "\n",
    "Run the SRN on the tensor and make sure the output shape is as expected."
   ]
  },
  {
   "cell_type": "code",
   "execution_count": 85,
   "metadata": {},
   "outputs": [
    {
     "name": "stdout",
     "output_type": "stream",
     "text": [
      "Using cpu\n",
      "<class 'str'>\n"
     ]
    },
    {
     "data": {
      "text/plain": [
       "torch.nn.modules.activation.Softmax"
      ]
     },
     "execution_count": 85,
     "metadata": {},
     "output_type": "execute_result"
    }
   ],
   "source": [
    "if torch.cuda.is_available():\n",
    "    device = \"cuda\"\n",
    "else:\n",
    "    device = \"cpu\"\n",
    "\n",
    "print(\"Using {}\".format(device))\n",
    "print(type(device))\n",
    "fast_srn = fastSRN(16, 32,2, hidden_activation = 'relu', output_activation = torch.nn.Softmax , device= device)\n",
    "X = torch.rand((10, 32, 16))\n",
    "y = (fast_srn(X))\n",
    "type(y)"
   ]
  },
  {
   "cell_type": "markdown",
   "metadata": {},
   "source": [
    "<div class=\"alert alert-block alert-warning\">\n",
    "<b>Show the completed code to your teacher before proceeding</b>\n",
    "</div>"
   ]
  },
  {
   "cell_type": "markdown",
   "metadata": {},
   "source": [
    "Hopefully everything should be in order.\n",
    "\n",
    "You may have noticed a minor complication: in order to utilize batching, we need our input sequences to be of the same length.\n",
    "\n",
    "This, however, is very rarely the case in practice. A common trick against this problem is _padding_; that is, appending zero tensors to all input sequences shorter than the maximum in-batch length to make them all equally long.\n",
    "\n",
    "As usual, torch already does the hard work for us via [pad_sequence](https://pytorch.org/docs/stable/nn.html?highlight=pad%20_sequence#torch.nn.utils.rnn.pad_sequence). Given a list of $N$ 2-dimensional tensors, each of shape (seq\\_len$_n$, input_dim), it will construct a 3-d tensor of shape ($max_{n \\in N}${seq\\_len$_n$}, N, input_dim).\n",
    "\n",
    "An example:"
   ]
  },
  {
   "cell_type": "code",
   "execution_count": 16,
   "metadata": {},
   "outputs": [],
   "source": [
    "x_1 = torch.rand(1, 16)  # a sequence of 1, 16-dimensional item\n",
    "x_2 = torch.rand(7, 16)  # a sequence of 7, 16-dimensional items\n",
    "x_3 = torch.rand(5, 16)  # a sequence of 5, 16-dimensional items\n",
    "\n",
    "X = torch.nn.utils.rnn.pad_sequence([x_1, x_2, x_3])  \n",
    "\n",
    "# Can you guess what the shape of X is?\n",
    "# print(X.shape)"
   ]
  },
  {
   "cell_type": "code",
   "execution_count": 17,
   "metadata": {},
   "outputs": [],
   "source": [
    "del x_1, x_2, x_3, X"
   ]
  },
  {
   "cell_type": "markdown",
   "metadata": {},
   "source": [
    "## Pretrained Word Embeddings\n",
    "Moving on --- in the last assignment, we saw how to train our own word embeddings using a small toy corpus. Now, we will see how to easily employ high-quality pretrained word vectors and, later on, how to utilize them for further downstream tasks.\n",
    "\n",
    "We are going to use [spaCy](https://spacy.io/). SpaCy is a high-level NLP library that provides a ton of useful functionalities, but we will only focus on its pretrained embeddings for this assignment.\n",
    "\n",
    "Before proceeding, [install spacy](https://spacy.io/usage) using your python package manager (e.g. `pip install spacy`)."
   ]
  },
  {
   "cell_type": "code",
   "execution_count": 18,
   "metadata": {},
   "outputs": [],
   "source": [
    "import spacy"
   ]
  },
  {
   "cell_type": "markdown",
   "metadata": {},
   "source": [
    "SpaCy comes with a lot of different-size models for different languages. \n",
    "\n",
    "We will need to download the small english model for the exercises to follow. You can either do it in a new terminal window (optimal if you are running this assignment through a virtual environment) or by simply running the magic command below. "
   ]
  },
  {
   "cell_type": "code",
   "execution_count": 13,
   "metadata": {},
   "outputs": [
    {
     "name": "stdout",
     "output_type": "stream",
     "text": [
      "Collecting en_core_web_lg==2.3.1\n",
      "  Downloading https://github.com/explosion/spacy-models/releases/download/en_core_web_lg-2.3.1/en_core_web_lg-2.3.1.tar.gz (782.7 MB)\n",
      "\u001b[K     |████████████████████████████████| 782.7 MB 498 kB/s eta 0:00:015   |█▍                              | 34.2 MB 50 kB/s eta 4:06:40     |█▉                              | 46.2 MB 91 kB/s eta 2:13:50     |███▏                            | 76.6 MB 611 kB/s eta 0:19:15     |███▌                            | 84.6 MB 320 kB/s eta 0:36:21     |███▌                            | 86.6 MB 802 kB/s eta 0:14:28     |███▋                            | 87.3 MB 590 kB/s eta 0:19:39     |███▋                            | 88.0 MB 763 kB/s eta 0:15:11     |█████                           | 122.7 MB 112 kB/s eta 1:37:40     |█████▍                          | 130.9 MB 266 kB/s eta 0:40:46     |██████                          | 145.8 MB 732 kB/s eta 0:14:30     |██████▉                         | 167.3 MB 1.3 MB/s eta 0:07:51     |███████████                     | 268.5 MB 1.5 MB/s eta 0:05:45     |████████████                    | 295.9 MB 1.2 MB/s eta 0:06:34     |█████████████▏                  | 321.6 MB 1.1 MB/s eta 0:07:08     |███████████████▊                | 383.9 MB 907 kB/s eta 0:07:20     |█████████████████████▎          | 521.6 MB 784 kB/s eta 0:05:33     |██████████████████████▋         | 552.8 MB 1.8 MB/s eta 0:02:06     |█████████████████████████▊      | 629.0 MB 1.5 MB/s eta 0:01:44\n",
      "\u001b[?25hRequirement already satisfied: spacy<2.4.0,>=2.3.0 in /opt/anaconda3/lib/python3.8/site-packages (from en_core_web_lg==2.3.1) (2.3.5)\n",
      "Requirement already satisfied: murmurhash<1.1.0,>=0.28.0 in /opt/anaconda3/lib/python3.8/site-packages (from spacy<2.4.0,>=2.3.0->en_core_web_lg==2.3.1) (1.0.5)\n",
      "Requirement already satisfied: catalogue<1.1.0,>=0.0.7 in /opt/anaconda3/lib/python3.8/site-packages (from spacy<2.4.0,>=2.3.0->en_core_web_lg==2.3.1) (1.0.0)\n",
      "Requirement already satisfied: plac<1.2.0,>=0.9.6 in /opt/anaconda3/lib/python3.8/site-packages (from spacy<2.4.0,>=2.3.0->en_core_web_lg==2.3.1) (1.1.0)\n",
      "Requirement already satisfied: thinc<7.5.0,>=7.4.1 in /opt/anaconda3/lib/python3.8/site-packages (from spacy<2.4.0,>=2.3.0->en_core_web_lg==2.3.1) (7.4.5)\n",
      "Requirement already satisfied: blis<0.8.0,>=0.4.0 in /opt/anaconda3/lib/python3.8/site-packages (from spacy<2.4.0,>=2.3.0->en_core_web_lg==2.3.1) (0.7.4)\n",
      "Requirement already satisfied: tqdm<5.0.0,>=4.38.0 in /opt/anaconda3/lib/python3.8/site-packages (from spacy<2.4.0,>=2.3.0->en_core_web_lg==2.3.1) (4.62.2)\n",
      "Requirement already satisfied: numpy>=1.15.0 in /opt/anaconda3/lib/python3.8/site-packages (from spacy<2.4.0,>=2.3.0->en_core_web_lg==2.3.1) (1.19.2)\n",
      "Requirement already satisfied: wasabi<1.1.0,>=0.4.0 in /opt/anaconda3/lib/python3.8/site-packages (from spacy<2.4.0,>=2.3.0->en_core_web_lg==2.3.1) (0.8.2)\n",
      "Requirement already satisfied: requests<3.0.0,>=2.13.0 in /opt/anaconda3/lib/python3.8/site-packages (from spacy<2.4.0,>=2.3.0->en_core_web_lg==2.3.1) (2.26.0)\n",
      "Requirement already satisfied: srsly<1.1.0,>=1.0.2 in /opt/anaconda3/lib/python3.8/site-packages (from spacy<2.4.0,>=2.3.0->en_core_web_lg==2.3.1) (1.0.5)\n",
      "Requirement already satisfied: setuptools in /opt/anaconda3/lib/python3.8/site-packages (from spacy<2.4.0,>=2.3.0->en_core_web_lg==2.3.1) (58.0.4)\n",
      "Requirement already satisfied: preshed<3.1.0,>=3.0.2 in /opt/anaconda3/lib/python3.8/site-packages (from spacy<2.4.0,>=2.3.0->en_core_web_lg==2.3.1) (3.0.5)\n",
      "Requirement already satisfied: cymem<2.1.0,>=2.0.2 in /opt/anaconda3/lib/python3.8/site-packages (from spacy<2.4.0,>=2.3.0->en_core_web_lg==2.3.1) (2.0.5)\n",
      "Requirement already satisfied: certifi>=2017.4.17 in /opt/anaconda3/lib/python3.8/site-packages (from requests<3.0.0,>=2.13.0->spacy<2.4.0,>=2.3.0->en_core_web_lg==2.3.1) (2021.10.8)\n",
      "Requirement already satisfied: urllib3<1.27,>=1.21.1 in /opt/anaconda3/lib/python3.8/site-packages (from requests<3.0.0,>=2.13.0->spacy<2.4.0,>=2.3.0->en_core_web_lg==2.3.1) (1.26.7)\n",
      "Requirement already satisfied: charset-normalizer~=2.0.0 in /opt/anaconda3/lib/python3.8/site-packages (from requests<3.0.0,>=2.13.0->spacy<2.4.0,>=2.3.0->en_core_web_lg==2.3.1) (2.0.4)\n",
      "Requirement already satisfied: idna<4,>=2.5 in /opt/anaconda3/lib/python3.8/site-packages (from requests<3.0.0,>=2.13.0->spacy<2.4.0,>=2.3.0->en_core_web_lg==2.3.1) (3.2)\n",
      "Building wheels for collected packages: en-core-web-lg\n",
      "  Building wheel for en-core-web-lg (setup.py) ... \u001b[?25ldone\n",
      "\u001b[?25h  Created wheel for en-core-web-lg: filename=en_core_web_lg-2.3.1-py3-none-any.whl size=782936122 sha256=7d000c7a7605dca576f061321dabc58e8531e7802f54ea69b52ebefa13fdb5e8\n",
      "  Stored in directory: /private/var/folders/96/j7n718dd4rx7v05cw58wpr2w0000gn/T/pip-ephem-wheel-cache-p5et85t6/wheels/8b/bb/bb/bdc918f4b37d930a1be9ed876e7b2c2ee518a34803d78a248e\n",
      "Successfully built en-core-web-lg\n",
      "Installing collected packages: en-core-web-lg\n",
      "Successfully installed en-core-web-lg-2.3.1\n",
      "\u001b[38;5;2m✔ Download and installation successful\u001b[0m\n",
      "You can now load the model via spacy.load('en_core_web_lg')\n"
     ]
    }
   ],
   "source": [
    "!python3 -m spacy download en_core_web_lg"
   ]
  },
  {
   "cell_type": "markdown",
   "metadata": {},
   "source": [
    "After having downloaded the model, we can load it as follows (you may need to restart your notebook after the download is complete):"
   ]
  },
  {
   "cell_type": "code",
   "execution_count": 27,
   "metadata": {
    "scrolled": true
   },
   "outputs": [
    {
     "name": "stdout",
     "output_type": "stream",
     "text": [
      "Collecting https://github.com/explosion/spacy-models/releases/download/en_core_web_sm-2.2.0/en_core_web_sm-2.2.0.tar.gz\n",
      "  Downloading https://github.com/explosion/spacy-models/releases/download/en_core_web_sm-2.2.0/en_core_web_sm-2.2.0.tar.gz (12.0 MB)\n",
      "\u001b[K     |████████████████████████████████| 12.0 MB 1.2 MB/s eta 0:00:01    |██████████████▉                 | 5.6 MB 1.7 MB/s eta 0:00:04\n",
      "\u001b[?25hRequirement already satisfied: spacy>=2.2.0 in /opt/anaconda3/lib/python3.8/site-packages (from en-core-web-sm==2.2.0) (2.3.5)\n",
      "Requirement already satisfied: preshed<3.1.0,>=3.0.2 in /opt/anaconda3/lib/python3.8/site-packages (from spacy>=2.2.0->en-core-web-sm==2.2.0) (3.0.5)\n",
      "Requirement already satisfied: cymem<2.1.0,>=2.0.2 in /opt/anaconda3/lib/python3.8/site-packages (from spacy>=2.2.0->en-core-web-sm==2.2.0) (2.0.5)\n",
      "Requirement already satisfied: numpy>=1.15.0 in /opt/anaconda3/lib/python3.8/site-packages (from spacy>=2.2.0->en-core-web-sm==2.2.0) (1.19.2)\n",
      "Requirement already satisfied: wasabi<1.1.0,>=0.4.0 in /opt/anaconda3/lib/python3.8/site-packages (from spacy>=2.2.0->en-core-web-sm==2.2.0) (0.8.2)\n",
      "Requirement already satisfied: srsly<1.1.0,>=1.0.2 in /opt/anaconda3/lib/python3.8/site-packages (from spacy>=2.2.0->en-core-web-sm==2.2.0) (1.0.5)\n",
      "Requirement already satisfied: catalogue<1.1.0,>=0.0.7 in /opt/anaconda3/lib/python3.8/site-packages (from spacy>=2.2.0->en-core-web-sm==2.2.0) (1.0.0)\n",
      "Requirement already satisfied: murmurhash<1.1.0,>=0.28.0 in /opt/anaconda3/lib/python3.8/site-packages (from spacy>=2.2.0->en-core-web-sm==2.2.0) (1.0.5)\n",
      "Requirement already satisfied: blis<0.8.0,>=0.4.0 in /opt/anaconda3/lib/python3.8/site-packages (from spacy>=2.2.0->en-core-web-sm==2.2.0) (0.7.4)\n",
      "Requirement already satisfied: thinc<7.5.0,>=7.4.1 in /opt/anaconda3/lib/python3.8/site-packages (from spacy>=2.2.0->en-core-web-sm==2.2.0) (7.4.5)\n",
      "Requirement already satisfied: plac<1.2.0,>=0.9.6 in /opt/anaconda3/lib/python3.8/site-packages (from spacy>=2.2.0->en-core-web-sm==2.2.0) (1.1.0)\n",
      "Requirement already satisfied: requests<3.0.0,>=2.13.0 in /opt/anaconda3/lib/python3.8/site-packages (from spacy>=2.2.0->en-core-web-sm==2.2.0) (2.26.0)\n",
      "Requirement already satisfied: tqdm<5.0.0,>=4.38.0 in /opt/anaconda3/lib/python3.8/site-packages (from spacy>=2.2.0->en-core-web-sm==2.2.0) (4.62.2)\n",
      "Requirement already satisfied: setuptools in /opt/anaconda3/lib/python3.8/site-packages (from spacy>=2.2.0->en-core-web-sm==2.2.0) (58.0.4)\n",
      "Requirement already satisfied: certifi>=2017.4.17 in /opt/anaconda3/lib/python3.8/site-packages (from requests<3.0.0,>=2.13.0->spacy>=2.2.0->en-core-web-sm==2.2.0) (2021.10.8)\n",
      "Requirement already satisfied: urllib3<1.27,>=1.21.1 in /opt/anaconda3/lib/python3.8/site-packages (from requests<3.0.0,>=2.13.0->spacy>=2.2.0->en-core-web-sm==2.2.0) (1.26.7)\n",
      "Requirement already satisfied: idna<4,>=2.5 in /opt/anaconda3/lib/python3.8/site-packages (from requests<3.0.0,>=2.13.0->spacy>=2.2.0->en-core-web-sm==2.2.0) (3.2)\n",
      "Requirement already satisfied: charset-normalizer~=2.0.0 in /opt/anaconda3/lib/python3.8/site-packages (from requests<3.0.0,>=2.13.0->spacy>=2.2.0->en-core-web-sm==2.2.0) (2.0.4)\n",
      "Building wheels for collected packages: en-core-web-sm\n",
      "  Building wheel for en-core-web-sm (setup.py) ... \u001b[?25ldone\n",
      "\u001b[?25h  Created wheel for en-core-web-sm: filename=en_core_web_sm-2.2.0-py3-none-any.whl size=12019124 sha256=ad9cabbcb1e2fff3801ce9b348456e0a17040024dd90aa8e0ed7ae8fea9f8c2d\n",
      "  Stored in directory: /Users/idangrady/Library/Caches/pip/wheels/fc/31/e9/092e6f05b2817c9cb45804a3d1bf2b9bf6575742c01819337c\n",
      "Successfully built en-core-web-sm\n",
      "Installing collected packages: en-core-web-sm\n",
      "Successfully installed en-core-web-sm-2.2.0\n",
      "Note: you may need to restart the kernel to use updated packages.\n"
     ]
    }
   ],
   "source": [
    "pip install https://github.com/explosion/spacy-models/releases/download/en_core_web_sm-2.2.0/en_core_web_sm-2.2.0.tar.gz\n"
   ]
  },
  {
   "cell_type": "code",
   "execution_count": 73,
   "metadata": {},
   "outputs": [],
   "source": [
    "nlp = spacy.load('en_core_web_lg')"
   ]
  },
  {
   "cell_type": "markdown",
   "metadata": {},
   "source": [
    "We can then use the loaded model to process a sentence and obtain its word vectors, a List of 300-dimensional numpy arrays."
   ]
  },
  {
   "cell_type": "code",
   "execution_count": 74,
   "metadata": {},
   "outputs": [
    {
     "name": "stdout",
     "output_type": "stream",
     "text": [
      "We have 7 vectors...\n",
      "...each of shape (300,)\n"
     ]
    }
   ],
   "source": [
    "doc = nlp(\"this is a sentence of 7 words\")  # the processed sentence\n",
    "vectors = list(map(lambda x: x.vector, doc))  # its vectors\n",
    "print(\"We have {} vectors...\".format(len(vectors)))\n",
    "print(\"...each of shape {}\".format(vectors[0].shape))"
   ]
  },
  {
   "cell_type": "markdown",
   "metadata": {},
   "source": [
    "And then finally convert them into torch tensors."
   ]
  },
  {
   "cell_type": "code",
   "execution_count": 75,
   "metadata": {},
   "outputs": [
    {
     "name": "stdout",
     "output_type": "stream",
     "text": [
      "7\n",
      "(7, 300)\n",
      "(300,)\n"
     ]
    },
    {
     "data": {
      "text/plain": [
       "(300,)"
      ]
     },
     "execution_count": 75,
     "metadata": {},
     "output_type": "execute_result"
    }
   ],
   "source": [
    "print(len(vectors))\n",
    "num = np.array(vectors)\n",
    "\n",
    "print(num.shape)\n",
    "print(num[0,:].shape)\n",
    "vectors[0].shape"
   ]
  },
  {
   "cell_type": "code",
   "execution_count": 76,
   "metadata": {},
   "outputs": [
    {
     "name": "stdout",
     "output_type": "stream",
     "text": [
      "torch.Size([7, 300])\n",
      "[This is a sentence, This is another sentence.]\n",
      "(300,)\n"
     ]
    }
   ],
   "source": [
    "torch_vectors = torch.tensor(vectors)\n",
    "print(torch_vectors.shape)\n",
    "\n",
    "sentences = [\"This is a sentence\", \"This is another sentence.\"]\n",
    "sn = list(map(nlp, sentences))\n",
    "print(sn)\n",
    "print(sn[0][0].vector.shape)"
   ]
  },
  {
   "cell_type": "markdown",
   "metadata": {},
   "source": [
    "Or, in the case of multiple sentences:"
   ]
  },
  {
   "cell_type": "code",
   "execution_count": 77,
   "metadata": {},
   "outputs": [
    {
     "name": "stdout",
     "output_type": "stream",
     "text": [
      "torch.Size([4, 300])\n"
     ]
    }
   ],
   "source": [
    "# Example sentences.\n",
    "sentences = [\"This is a sentence\", \"This is another sentence.\"]\n",
    "\n",
    "# Parallel processing with spacy.\n",
    "docs = list(map(nlp, sentences))\n",
    "\n",
    "# Convert each processed sentence into a list of vectors.\n",
    "vectors = map(lambda doc: [word.vector for word in doc], docs)\n",
    "\n",
    "# Convert each list of vectors into a 2-d torch tensor.\n",
    "tensors = list(map(lambda sentence_vectors: torch.tensor(sentence_vectors), vectors))\n",
    "print(tensors[0].shape)"
   ]
  },
  {
   "cell_type": "markdown",
   "metadata": {},
   "source": [
    "## POS Tagging\n",
    "Given our pretrained embeddings, we may represent sentences as _sequences of vectors_, which is exactly the format expected by an RNN.\n",
    "We will now try to train an SRN to iterate over a sentence and assign part of speech tags to each of its words."
   ]
  },
  {
   "cell_type": "markdown",
   "metadata": {},
   "source": [
    "### Task 3 (1 point): Examining the data"
   ]
  },
  {
   "cell_type": "markdown",
   "metadata": {},
   "source": [
    "First, let's load and inspect our data files.\n",
    "\n",
    "The pickle file contains three items:\n",
    "1. `sentences`: a List of strings (sentences)\n",
    "2. `postags`: a List of Lists of strings (POS tags)\n",
    "3. `pos_to_int`: a Dictionary from strings to ints (mapping each POS tag to a unique identifier)\n"
   ]
  },
  {
   "cell_type": "code",
   "execution_count": 78,
   "metadata": {},
   "outputs": [],
   "source": [
    "import pickle\n",
    "with open(\"TRAIN.p\", \"rb\") as f:\n",
    "    sentences, postags, pos_to_int = pickle.load(f)"
   ]
  },
  {
   "cell_type": "code",
   "execution_count": 79,
   "metadata": {},
   "outputs": [],
   "source": [
    "assert all(list(map(lambda s, p: len(s.split()) == len(p), sentences, postags)))"
   ]
  },
  {
   "cell_type": "markdown",
   "metadata": {},
   "source": [
    "Now, let us take a moment to understand the data a bit more. \n",
    "Run the cell below a couple of times to get an idea of how the data looks like."
   ]
  },
  {
   "cell_type": "code",
   "execution_count": null,
   "metadata": {},
   "outputs": [],
   "source": [
    "\n"
   ]
  },
  {
   "cell_type": "code",
   "execution_count": 80,
   "metadata": {},
   "outputs": [
    {
     "name": "stdout",
     "output_type": "stream",
     "text": [
      "[('As', 'IN'), ('usual', 'JJ'), (',', ','), ('her', 'PRP$'), ('sin', 'NN'), ('was', 'VBD'), ('saying', 'VBG'), ('what', 'WP'), ('she', 'PRP'), ('thought', 'VBD'), ('.', '.')]\n"
     ]
    }
   ],
   "source": [
    "i = np.random.randint(0, len(sentences))\n",
    "print(list(zip(sentences[i].split(), postags[i])))"
   ]
  },
  {
   "cell_type": "markdown",
   "metadata": {},
   "source": [
    "The POS tags in this dataset are in the style of the Penn Treebank. Find the top 20 most common tags and plot a histogram of their frequencies. If you are curious, also find out what these tags mean linguisically! https://www.ling.upenn.edu/courses/Fall_2003/ling001/penn_treebank_pos.html"
   ]
  },
  {
   "cell_type": "code",
   "execution_count": 125,
   "metadata": {},
   "outputs": [
    {
     "name": "stdout",
     "output_type": "stream",
     "text": [
      "{'IN': 71023, 'DT': 59577, 'NNP': 65050, 'CD': 26364, 'NN': 93665, 'POS': 6064, 'LRB': 943, 'VBN': 14334, 'NNS': 42007, 'VBP': 9267, ',': 33945, 'CC': 17138, 'RRB': 949, 'VBD': 22090, 'RB': 23071, 'TO': 16114, '.': 29812, 'VBZ': 16524, 'JJ': 39038, 'PRP': 13450, 'PRP$': 6006, 'MD': 7414, 'VB': 19902, 'VBG': 10761, 'NNPS': 1889, 'RBR': 1272, 'WP': 1772, 'WDT': 2873, 'JJR': 2364, 'PDT': 287, 'RBS': 315, 'WRB': 1622, 'JJS': 1415, '$': 5070, 'RP': 1962, ':': 1549, 'FW': 181, 'SO': 202, ';': 803, 'EX': 700, 'AS': 125, '#': 113, 'LS': 25, 'UH': 76, 'WP$': 109, 'SBAR': 1, 'NP': 8, 'SYM': 35}\n",
      "Counter({'NN': 93665, 'IN': 71023, 'NNP': 65050, 'DT': 59577, 'NNS': 42007, 'JJ': 39038, ',': 33945, '.': 29812, 'CD': 26364, 'RB': 23071, 'VBD': 22090, 'CC': 17138, 'VBZ': 16524, 'TO': 16114, 'VBN': 14334, 'PRP': 13450, 'VBP': 9267, 'POS': 6064, 'RRB': 949, 'LRB': 943})\n",
      "[93665, 71023, 65050, 59577, 42007, 39038, 33945, 29812, 26364, 23071, 22090, 17138, 16524, 16114, 14334, 13450, 9267, 6064, 949, 943]\n"
     ]
    },
    {
     "data": {
      "image/png": "[encoded data removed]",
      "text/plain": [
       "<Figure size 1440x720 with 1 Axes>"
      ]
     },
     "metadata": {
      "needs_background": "light"
     },
     "output_type": "display_data"
    }
   ],
   "source": [
    "from collections import Counter, OrderedDict\n",
    "from itertools import islice\n",
    "\n",
    "dic_words = dict()\n",
    "flat_list = [item for sublist in postags for item in sublist]\n",
    "\n",
    "#counter = Counter(flat_list)\n",
    "\n",
    "#print(dict(counter))\n",
    "for pos in flat_list:\n",
    "    if pos not in dic_words:\n",
    "        dic_words[pos] =1\n",
    "    else:\n",
    "        dic_words[pos] +=1\n",
    "        \n",
    "print((dic_words))\n",
    "lengths = Counter()\n",
    "lengths.update(dict(islice(counter.items(), 20)))\n",
    "\n",
    "sorted_values = (sorted(dic_words.values(),reverse = True))[:20]\n",
    "sorted_names = []\n",
    "for i in sorted_values:\n",
    "    for k in dic_words.keys():\n",
    "        if dic_words[k] == i:\n",
    "            sorted_names.append(k)\n",
    "            break\n",
    "\n",
    "#print(sorted_values)# Sort the values\n",
    "#print(sorted_names)\n",
    "\n",
    "\n",
    "#sorted_dict = {}\n",
    "#names_most_frequencies = (list(lengths))\n",
    "\n",
    "\n",
    "\n",
    "print(lengths)\n",
    "\n",
    "values = (sorted(list(lengths.values()), reverse=True))\n",
    "#print(sorted(values, reverse=True))\n",
    "\n",
    "names = (list((dict(sorted(lengths.items(), key = lambda item: item[1], reverse=True)))))\n",
    "print(values)\n",
    "\n",
    "# Your plotting here\n",
    "import matplotlib.pyplot as plt\n",
    "\n",
    "\n",
    "fig, ax = plt.subplots(figsize=(20,10))\n",
    "\n",
    "plot = ax.bar(sorted_names, sorted_values, align='center' )\n",
    "plt.ylabel(\"Frequency\")\n",
    "plt.xlabel(\"PostTages\")\n",
    "\n",
    "fig.tight_layout()\n",
    "plt.show()\n"
   ]
  },
  {
   "cell_type": "markdown",
   "metadata": {},
   "source": [
    "<div class=\"alert alert-block alert-warning\">\n",
    "<b>Show the completed code to your teacher before proceeding</b>\n",
    "</div>"
   ]
  },
  {
   "cell_type": "markdown",
   "metadata": {},
   "source": [
    "### Task 4 (1 point): Tensorizing sentences\n",
    "Next, we need to convert our data to numeric form. Convert sentences to their tensor format, as done earlier (this may take a while). \n",
    "\n",
    "<div class=\"alert alert-block alert-info\">\n",
    "<b>Important!</b>\n",
    "Since the sentences are pre-tokenized (i.e. they are provided as sequences of words rather than strings), we need to change the processing call to ensure the output vectors are aligned with our tokenization.\n",
    "</div>"
   ]
  },
  {
   "cell_type": "code",
   "execution_count": 81,
   "metadata": {},
   "outputs": [
    {
     "name": "stdout",
     "output_type": "stream",
     "text": [
      "torch.Size([45, 300])\n",
      "tensor([[ 0.0892,  0.2579,  0.2628,  ...,  0.1442, -0.1690,  0.2650],\n",
      "        [-0.0117,  0.1948,  0.0889,  ..., -0.0547, -0.1934,  0.1400],\n",
      "        [-0.1505, -0.1601,  0.2423,  ...,  0.8117, -0.1359,  1.1897],\n",
      "        ...,\n",
      "        [-0.4646,  0.7281,  0.2261,  ..., -0.6087, -0.3987, -0.0845],\n",
      "        [ 0.3048,  0.1488,  0.4392,  ...,  0.0393, -0.5180, -0.1768],\n",
      "        [ 0.0120,  0.2075, -0.1258,  ...,  0.1387, -0.3605, -0.0350]])\n"
     ]
    }
   ],
   "source": [
    "docs = list(map(\n",
    "    lambda sentence: spacy.tokens.doc.Doc(nlp.vocab, words=sentence.split()), \n",
    "    sentences\n",
    "))\n",
    "\n",
    "doc_vectors = map(lambda doc: [word.vector for word in doc], docs)\n",
    "doc_tensors = list(map(lambda sentence_vectors: torch.tensor(sentence_vectors), doc_vectors))\n",
    "\n",
    "print(doc_tensors[0].shape)\n",
    "print(doc_tensors[0])"
   ]
  },
  {
   "cell_type": "markdown",
   "metadata": {},
   "source": [
    "Similarly, we will use `pos_to_int` to convert the POS sequences into tensors."
   ]
  },
  {
   "cell_type": "code",
   "execution_count": 89,
   "metadata": {},
   "outputs": [
    {
     "name": "stdout",
     "output_type": "stream",
     "text": [
      "torch.Size([45])\n",
      "tensor([22,  7, 12,  1, 25, 22,  7, 25, 22, 12, 17, 12, 12, 15, 16, 32,  2,  7,\n",
      "        25, 22, 12, 12, 29, 25, 33, 32,  8, 29,  7, 25, 22, 12, 29, 16, 22, 12,\n",
      "        12, 29, 23, 41, 16, 36, 12, 12, 14])\n"
     ]
    }
   ],
   "source": [
    "pos_numeric = list(map(lambda pos_sequence: [pos_to_int[pos] for pos in pos_sequence], postags))\n",
    "pos_tensors =  list(map(lambda pos_num_sequence: torch.tensor(pos_num_sequence), pos_numeric))\n",
    "print(pos_tensors[0].shape)\n",
    "print(pos_tensors[0])"
   ]
  },
  {
   "cell_type": "code",
   "execution_count": 90,
   "metadata": {},
   "outputs": [],
   "source": [
    "del doc_vectors, docs, pos_numeric"
   ]
  },
  {
   "cell_type": "markdown",
   "metadata": {},
   "source": [
    "In the tutorial, we saw how to split our dataset into a training and a validation set. \n",
    "\n",
    "Do the same here, splitting the sentences, postags and their corresponding tensors into a training and a validation set."
   ]
  },
  {
   "cell_type": "code",
   "execution_count": 91,
   "metadata": {},
   "outputs": [],
   "source": [
    "from sklearn.model_selection import train_test_split\n",
    "sentences_train, sentences_val, postags_train, postags_val, X_train, X_val, Y_train, Y_val \\\n",
    "    =  train_test_split(sentences, postags, doc_tensors, pos_tensors, test_size=0.2, random_state=6)\n",
    "assert len(X_train) == len(Y_train) == len(sentences_train)\n",
    "assert len(X_val) == len(Y_val) == len(sentences_val)\n",
    "\n"
   ]
  },
  {
   "cell_type": "code",
   "execution_count": 27,
   "metadata": {},
   "outputs": [
    {
     "data": {
      "text/plain": [
       "['DT', 'NN', 'VBZ', 'DT', 'JJ', 'NN', ',', 'NNP', 'NNP', 'VBD', 'PRP', '.']"
      ]
     },
     "execution_count": 27,
     "metadata": {},
     "output_type": "execute_result"
    }
   ],
   "source": [
    "postags_val[0]"
   ]
  },
  {
   "cell_type": "markdown",
   "metadata": {},
   "source": [
    "<div class=\"alert alert-block alert-warning\">\n",
    "<b>Show the completed code to your teacher before proceeding</b>\n",
    "</div>"
   ]
  },
  {
   "cell_type": "markdown",
   "metadata": {},
   "source": [
    "### Task 5 (1 point): Datasets and Padding"
   ]
  },
  {
   "cell_type": "markdown",
   "metadata": {},
   "source": [
    "Again, following along the tutorial, we will wrap our tensors into a `Dataset` and a `DataLoader`.\n",
    "\n",
    "Since our data are not Tensors but rather Lists of Tensors of uneven lengths, we need to write our own Dataset wrapper.\n",
    "The wrapper only needs to implement two functions; `__len__`, which expects no arguments and returns the number of samples in the dataset, and `__getitem__`, which accepts an index `idx` and returns the input-output pair `X[idx]`, `Y[idx]`.\n",
    "\n",
    "Similarly, the Dataloader needs to process the list of input-output pairs produced by the Dataset using `pad_sequence`, as seen earlier."
   ]
  },
  {
   "cell_type": "markdown",
   "metadata": {},
   "source": [
    "Fill in the code for `UnevenLengthDataset` class, implementing its two core functions.\n",
    "\n",
    "<div class=\"alert alert-block alert-info\">\n",
    "If you have no experience creating container-like classes from scratch in Python, refer to the documentation for the <a href=\"https://docs.python.org/3/reference/datamodel.html#special-method-names\">special class methods</a> and for <a href=\"https://docs.python.org/3/reference/datamodel.html#emulating-container-types\">emulating container types</a>. Talk to your teacher if needed.</div>\n",
    "\n",
    "Then, complete the function `pad_batch` which takes a list of \n",
    "(x$_i$, y$_i$) pairs and produces the pair of their paddings: (X, Y).\n",
    "\n",
    "Given the two, the `DataLoader` object can iterate over the Dataset yielding uniform batches ready to be consumed by an RNN."
   ]
  },
  {
   "cell_type": "code",
   "execution_count": 92,
   "metadata": {},
   "outputs": [],
   "source": [
    "from torch.nn.utils.rnn import pad_sequence\n",
    "from torch.utils.data import Dataset, DataLoader\n",
    "\n",
    "\n",
    "class UnevenLengthDataset(Dataset):\n",
    "    def __init__(self, X: List[FloatTensor], Y: List[LongTensor]) -> None:\n",
    "        self.X = X\n",
    "        self.Y = Y\n",
    "        \n",
    "    def __len__(self) -> int:\n",
    "        return (len(self.X))\n",
    "        \n",
    "    def __getitem__(self, idx: int) -> Tuple[FloatTensor, LongTensor]:\n",
    "        return ([self.X[idx], self.Y[idx]])\n",
    "    \n",
    "    \n",
    "def pad_batch(batch: List[Tuple[FloatTensor, LongTensor]]) -> Tuple[FloatTensor, LongTensor]:\n",
    "    padded_x_ = pad_sequence([x[0] for x in batch])\n",
    "    padded_y_ = pad_sequence([y[1] for y in batch])\n",
    "    return(padded_x_,padded_y_)\n",
    "        \n",
    "train_dataset = UnevenLengthDataset(X_train, Y_train)\n",
    "train_dataloader = DataLoader(\n",
    "    train_dataset, \n",
    "    collate_fn=pad_batch,\n",
    "    shuffle=True,\n",
    "    batch_size=32\n",
    ")\n",
    "\n",
    "val_dataset = UnevenLengthDataset(X_val, Y_val)\n",
    "val_dataloader = DataLoader(\n",
    "    val_dataset,\n",
    "    collate_fn=pad_batch,\n",
    "    shuffle=False,\n",
    "    batch_size=32\n",
    ")"
   ]
  },
  {
   "cell_type": "markdown",
   "metadata": {},
   "source": [
    "What does a batch look like, shape-wise? Use the `train_dataloader` to find out."
   ]
  },
  {
   "cell_type": "code",
   "execution_count": 105,
   "metadata": {},
   "outputs": [
    {
     "name": "stdout",
     "output_type": "stream",
     "text": [
      "torch.Size([55, 32, 300])\n",
      "torch.Size([40, 32, 300])\n",
      "torch.Size([40, 32, 300])\n",
      "torch.Size([46, 32, 300])\n",
      "torch.Size([43, 32, 300])\n",
      "torch.Size([40, 32, 300])\n",
      "torch.Size([45, 32, 300])\n",
      "torch.Size([46, 32, 300])\n",
      "torch.Size([40, 32, 300])\n",
      "torch.Size([41, 32, 300])\n",
      "torch.Size([41, 32, 300])\n",
      "torch.Size([48, 32, 300])\n",
      "torch.Size([48, 32, 300])\n",
      "torch.Size([43, 32, 300])\n",
      "torch.Size([50, 32, 300])\n",
      "torch.Size([46, 32, 300])\n",
      "torch.Size([65, 32, 300])\n",
      "torch.Size([54, 32, 300])\n",
      "torch.Size([51, 32, 300])\n",
      "torch.Size([38, 32, 300])\n",
      "torch.Size([64, 32, 300])\n",
      "torch.Size([38, 32, 300])\n",
      "torch.Size([44, 32, 300])\n",
      "torch.Size([46, 32, 300])\n",
      "torch.Size([46, 32, 300])\n",
      "torch.Size([42, 32, 300])\n",
      "torch.Size([44, 32, 300])\n",
      "torch.Size([44, 32, 300])\n",
      "torch.Size([44, 32, 300])\n",
      "torch.Size([58, 32, 300])\n",
      "torch.Size([54, 32, 300])\n",
      "torch.Size([48, 32, 300])\n",
      "torch.Size([52, 32, 300])\n",
      "torch.Size([59, 32, 300])\n",
      "torch.Size([41, 32, 300])\n",
      "torch.Size([41, 32, 300])\n",
      "torch.Size([38, 32, 300])\n",
      "torch.Size([43, 32, 300])\n",
      "torch.Size([44, 32, 300])\n",
      "torch.Size([38, 32, 300])\n",
      "torch.Size([35, 32, 300])\n",
      "torch.Size([45, 32, 300])\n",
      "torch.Size([34, 32, 300])\n",
      "torch.Size([57, 32, 300])\n",
      "torch.Size([33, 32, 300])\n",
      "torch.Size([41, 32, 300])\n",
      "torch.Size([41, 32, 300])\n",
      "torch.Size([42, 32, 300])\n",
      "torch.Size([43, 32, 300])\n",
      "torch.Size([45, 32, 300])\n",
      "torch.Size([44, 32, 300])\n",
      "torch.Size([40, 32, 300])\n",
      "torch.Size([54, 32, 300])\n",
      "torch.Size([58, 32, 300])\n",
      "torch.Size([42, 32, 300])\n",
      "torch.Size([43, 32, 300])\n",
      "torch.Size([49, 32, 300])\n",
      "torch.Size([66, 32, 300])\n",
      "torch.Size([47, 32, 300])\n",
      "torch.Size([48, 32, 300])\n",
      "torch.Size([38, 32, 300])\n",
      "torch.Size([44, 32, 300])\n",
      "torch.Size([72, 32, 300])\n",
      "torch.Size([61, 32, 300])\n",
      "torch.Size([43, 32, 300])\n",
      "torch.Size([39, 32, 300])\n",
      "torch.Size([59, 32, 300])\n",
      "torch.Size([50, 32, 300])\n",
      "torch.Size([50, 32, 300])\n",
      "torch.Size([48, 32, 300])\n",
      "torch.Size([41, 32, 300])\n",
      "torch.Size([54, 32, 300])\n",
      "torch.Size([50, 32, 300])\n",
      "torch.Size([56, 32, 300])\n",
      "torch.Size([63, 32, 300])\n",
      "torch.Size([38, 32, 300])\n",
      "torch.Size([48, 32, 300])\n",
      "torch.Size([37, 32, 300])\n",
      "torch.Size([41, 32, 300])\n",
      "torch.Size([43, 32, 300])\n",
      "torch.Size([59, 32, 300])\n",
      "torch.Size([69, 32, 300])\n",
      "torch.Size([42, 32, 300])\n",
      "torch.Size([53, 32, 300])\n",
      "torch.Size([36, 32, 300])\n",
      "torch.Size([47, 32, 300])\n",
      "torch.Size([49, 32, 300])\n",
      "torch.Size([52, 32, 300])\n",
      "torch.Size([38, 32, 300])\n",
      "torch.Size([49, 32, 300])\n",
      "torch.Size([44, 32, 300])\n",
      "torch.Size([39, 32, 300])\n",
      "torch.Size([78, 32, 300])\n",
      "torch.Size([47, 32, 300])\n",
      "torch.Size([44, 32, 300])\n",
      "torch.Size([48, 32, 300])\n",
      "torch.Size([41, 32, 300])\n",
      "torch.Size([41, 32, 300])\n",
      "torch.Size([55, 32, 300])\n",
      "torch.Size([61, 32, 300])\n",
      "torch.Size([39, 32, 300])\n",
      "torch.Size([67, 32, 300])\n",
      "torch.Size([37, 32, 300])\n",
      "torch.Size([60, 32, 300])\n",
      "torch.Size([48, 32, 300])\n",
      "torch.Size([64, 32, 300])\n",
      "torch.Size([59, 32, 300])\n",
      "torch.Size([44, 32, 300])\n",
      "torch.Size([42, 32, 300])\n",
      "torch.Size([38, 32, 300])\n",
      "torch.Size([55, 32, 300])\n",
      "torch.Size([60, 32, 300])\n",
      "torch.Size([56, 32, 300])\n",
      "torch.Size([49, 32, 300])\n",
      "torch.Size([52, 32, 300])\n",
      "torch.Size([49, 32, 300])\n",
      "torch.Size([43, 32, 300])\n",
      "torch.Size([37, 32, 300])\n",
      "torch.Size([59, 32, 300])\n",
      "torch.Size([45, 32, 300])\n",
      "torch.Size([64, 32, 300])\n",
      "torch.Size([37, 32, 300])\n",
      "torch.Size([40, 32, 300])\n",
      "torch.Size([58, 32, 300])\n",
      "torch.Size([51, 32, 300])\n",
      "torch.Size([46, 32, 300])\n",
      "torch.Size([44, 32, 300])\n",
      "torch.Size([40, 32, 300])\n",
      "torch.Size([46, 32, 300])\n",
      "torch.Size([46, 32, 300])\n",
      "torch.Size([44, 32, 300])\n",
      "torch.Size([51, 32, 300])\n",
      "torch.Size([39, 32, 300])\n",
      "torch.Size([59, 32, 300])\n",
      "torch.Size([53, 32, 300])\n",
      "torch.Size([46, 32, 300])\n",
      "torch.Size([50, 32, 300])\n",
      "torch.Size([38, 32, 300])\n",
      "torch.Size([61, 32, 300])\n",
      "torch.Size([46, 32, 300])\n",
      "torch.Size([48, 32, 300])\n",
      "torch.Size([46, 32, 300])\n",
      "torch.Size([58, 32, 300])\n",
      "torch.Size([69, 32, 300])\n",
      "torch.Size([48, 32, 300])\n",
      "torch.Size([39, 32, 300])\n",
      "torch.Size([49, 32, 300])\n",
      "torch.Size([58, 32, 300])\n",
      "torch.Size([46, 32, 300])\n",
      "torch.Size([40, 32, 300])\n",
      "torch.Size([69, 32, 300])\n",
      "torch.Size([50, 32, 300])\n",
      "torch.Size([73, 32, 300])\n",
      "torch.Size([46, 32, 300])\n",
      "torch.Size([48, 32, 300])\n",
      "torch.Size([53, 32, 300])\n",
      "torch.Size([46, 32, 300])\n",
      "torch.Size([44, 32, 300])\n",
      "torch.Size([35, 32, 300])\n",
      "torch.Size([48, 32, 300])\n",
      "torch.Size([56, 32, 300])\n",
      "torch.Size([54, 32, 300])\n",
      "torch.Size([46, 32, 300])\n",
      "torch.Size([46, 32, 300])\n",
      "torch.Size([60, 32, 300])\n",
      "torch.Size([50, 32, 300])\n",
      "torch.Size([73, 32, 300])\n",
      "torch.Size([77, 32, 300])\n",
      "torch.Size([45, 32, 300])\n",
      "torch.Size([45, 32, 300])\n",
      "torch.Size([38, 32, 300])\n",
      "torch.Size([44, 32, 300])\n",
      "torch.Size([42, 32, 300])\n",
      "torch.Size([48, 32, 300])\n",
      "torch.Size([52, 32, 300])\n",
      "torch.Size([39, 32, 300])\n",
      "torch.Size([47, 32, 300])\n",
      "torch.Size([43, 32, 300])\n",
      "torch.Size([43, 32, 300])\n",
      "torch.Size([41, 32, 300])\n",
      "torch.Size([47, 32, 300])\n",
      "torch.Size([42, 32, 300])\n",
      "torch.Size([47, 32, 300])\n",
      "torch.Size([70, 32, 300])\n",
      "torch.Size([46, 32, 300])\n",
      "torch.Size([41, 32, 300])\n",
      "torch.Size([60, 32, 300])\n",
      "torch.Size([40, 32, 300])\n",
      "torch.Size([54, 32, 300])\n",
      "torch.Size([56, 32, 300])\n",
      "torch.Size([62, 32, 300])\n",
      "torch.Size([42, 32, 300])\n",
      "torch.Size([36, 32, 300])\n",
      "torch.Size([52, 32, 300])\n",
      "torch.Size([44, 32, 300])\n",
      "torch.Size([41, 32, 300])\n",
      "torch.Size([41, 32, 300])\n",
      "torch.Size([49, 32, 300])\n",
      "torch.Size([37, 32, 300])\n",
      "torch.Size([50, 32, 300])\n",
      "torch.Size([48, 32, 300])\n",
      "torch.Size([42, 32, 300])\n",
      "torch.Size([82, 32, 300])\n",
      "torch.Size([51, 32, 300])\n",
      "torch.Size([56, 32, 300])\n",
      "torch.Size([46, 32, 300])\n",
      "torch.Size([40, 32, 300])\n",
      "torch.Size([40, 32, 300])\n",
      "torch.Size([77, 32, 300])\n",
      "torch.Size([54, 32, 300])\n",
      "torch.Size([73, 32, 300])\n",
      "torch.Size([45, 32, 300])\n",
      "torch.Size([55, 32, 300])\n",
      "torch.Size([45, 32, 300])\n",
      "torch.Size([40, 32, 300])\n",
      "torch.Size([42, 32, 300])\n",
      "torch.Size([48, 32, 300])\n",
      "torch.Size([54, 32, 300])\n",
      "torch.Size([50, 32, 300])\n",
      "torch.Size([43, 32, 300])\n",
      "torch.Size([46, 32, 300])\n",
      "torch.Size([45, 32, 300])\n",
      "torch.Size([46, 32, 300])\n",
      "torch.Size([40, 32, 300])\n",
      "torch.Size([51, 32, 300])\n",
      "torch.Size([53, 32, 300])\n",
      "torch.Size([41, 32, 300])\n",
      "torch.Size([44, 32, 300])\n",
      "torch.Size([40, 32, 300])\n",
      "torch.Size([45, 32, 300])\n",
      "torch.Size([36, 32, 300])\n",
      "torch.Size([53, 32, 300])\n",
      "torch.Size([42, 32, 300])\n",
      "torch.Size([56, 32, 300])\n",
      "torch.Size([47, 32, 300])\n",
      "torch.Size([42, 32, 300])\n",
      "torch.Size([47, 32, 300])\n",
      "torch.Size([52, 32, 300])\n",
      "torch.Size([59, 32, 300])\n",
      "torch.Size([40, 32, 300])\n",
      "torch.Size([48, 32, 300])\n",
      "torch.Size([41, 32, 300])\n",
      "torch.Size([51, 32, 300])\n",
      "torch.Size([62, 32, 300])\n",
      "torch.Size([43, 32, 300])\n",
      "torch.Size([39, 32, 300])\n",
      "torch.Size([35, 32, 300])\n",
      "torch.Size([53, 32, 300])\n",
      "torch.Size([37, 32, 300])\n",
      "torch.Size([40, 32, 300])\n",
      "torch.Size([48, 32, 300])\n",
      "torch.Size([56, 32, 300])\n",
      "torch.Size([35, 32, 300])\n",
      "torch.Size([50, 32, 300])\n",
      "torch.Size([44, 32, 300])\n",
      "torch.Size([35, 32, 300])\n",
      "torch.Size([40, 32, 300])\n",
      "torch.Size([42, 32, 300])\n",
      "torch.Size([43, 32, 300])\n",
      "torch.Size([44, 32, 300])\n",
      "torch.Size([44, 32, 300])\n",
      "torch.Size([47, 32, 300])\n",
      "torch.Size([67, 32, 300])\n",
      "torch.Size([78, 32, 300])\n",
      "torch.Size([60, 32, 300])\n",
      "torch.Size([40, 32, 300])\n",
      "torch.Size([53, 32, 300])\n",
      "torch.Size([39, 32, 300])\n",
      "torch.Size([52, 32, 300])\n",
      "torch.Size([59, 32, 300])\n",
      "torch.Size([48, 32, 300])\n",
      "torch.Size([47, 32, 300])\n",
      "torch.Size([41, 32, 300])\n",
      "torch.Size([48, 32, 300])\n",
      "torch.Size([37, 32, 300])\n",
      "torch.Size([53, 32, 300])\n",
      "torch.Size([52, 32, 300])\n",
      "torch.Size([52, 32, 300])\n",
      "torch.Size([45, 32, 300])\n",
      "torch.Size([44, 32, 300])\n",
      "torch.Size([55, 32, 300])\n",
      "torch.Size([56, 32, 300])\n",
      "torch.Size([42, 32, 300])\n",
      "torch.Size([56, 32, 300])\n",
      "torch.Size([47, 32, 300])\n",
      "torch.Size([46, 32, 300])\n",
      "torch.Size([56, 32, 300])\n",
      "torch.Size([38, 32, 300])\n",
      "torch.Size([45, 32, 300])\n",
      "torch.Size([43, 32, 300])\n",
      "torch.Size([49, 32, 300])\n",
      "torch.Size([43, 32, 300])\n",
      "torch.Size([41, 32, 300])\n",
      "torch.Size([50, 32, 300])\n",
      "torch.Size([40, 32, 300])\n",
      "torch.Size([61, 32, 300])\n",
      "torch.Size([42, 32, 300])\n",
      "torch.Size([42, 32, 300])\n",
      "torch.Size([40, 32, 300])\n",
      "torch.Size([54, 32, 300])\n",
      "torch.Size([40, 32, 300])\n",
      "torch.Size([47, 32, 300])\n",
      "torch.Size([41, 32, 300])\n",
      "torch.Size([43, 32, 300])\n",
      "torch.Size([59, 32, 300])\n",
      "torch.Size([54, 32, 300])\n",
      "torch.Size([47, 32, 300])\n",
      "torch.Size([39, 32, 300])\n",
      "torch.Size([36, 32, 300])\n",
      "torch.Size([42, 32, 300])\n",
      "torch.Size([60, 32, 300])\n",
      "torch.Size([36, 32, 300])\n",
      "torch.Size([39, 32, 300])\n",
      "torch.Size([58, 32, 300])\n",
      "torch.Size([55, 32, 300])\n",
      "torch.Size([50, 32, 300])\n",
      "torch.Size([37, 32, 300])\n",
      "torch.Size([53, 32, 300])\n",
      "torch.Size([55, 32, 300])\n",
      "torch.Size([43, 32, 300])\n",
      "torch.Size([47, 32, 300])\n",
      "torch.Size([61, 32, 300])\n",
      "torch.Size([66, 32, 300])\n",
      "torch.Size([47, 32, 300])\n",
      "torch.Size([59, 32, 300])\n",
      "torch.Size([51, 32, 300])\n",
      "torch.Size([49, 32, 300])\n",
      "torch.Size([46, 32, 300])\n",
      "torch.Size([47, 32, 300])\n",
      "torch.Size([35, 32, 300])\n",
      "torch.Size([43, 32, 300])\n",
      "torch.Size([47, 32, 300])\n",
      "torch.Size([49, 32, 300])\n",
      "torch.Size([39, 32, 300])\n",
      "torch.Size([50, 32, 300])\n",
      "torch.Size([62, 32, 300])\n",
      "torch.Size([39, 32, 300])\n",
      "torch.Size([45, 32, 300])\n",
      "torch.Size([69, 32, 300])\n",
      "torch.Size([51, 32, 300])\n",
      "torch.Size([44, 32, 300])\n",
      "torch.Size([44, 32, 300])\n",
      "torch.Size([35, 32, 300])\n",
      "torch.Size([51, 32, 300])\n",
      "torch.Size([58, 32, 300])\n",
      "torch.Size([54, 32, 300])\n",
      "torch.Size([47, 32, 300])\n",
      "torch.Size([50, 32, 300])\n",
      "torch.Size([65, 32, 300])\n",
      "torch.Size([42, 32, 300])\n",
      "torch.Size([40, 32, 300])\n",
      "torch.Size([54, 32, 300])\n",
      "torch.Size([52, 32, 300])\n",
      "torch.Size([50, 32, 300])\n",
      "torch.Size([57, 32, 300])\n",
      "torch.Size([38, 32, 300])\n",
      "torch.Size([40, 32, 300])\n",
      "torch.Size([41, 32, 300])\n",
      "torch.Size([56, 32, 300])\n",
      "torch.Size([55, 32, 300])\n",
      "torch.Size([46, 32, 300])\n",
      "torch.Size([40, 32, 300])\n",
      "torch.Size([54, 32, 300])\n",
      "torch.Size([43, 32, 300])\n",
      "torch.Size([67, 32, 300])\n",
      "torch.Size([47, 32, 300])\n",
      "torch.Size([50, 32, 300])\n",
      "torch.Size([50, 32, 300])\n",
      "torch.Size([49, 32, 300])\n",
      "torch.Size([56, 32, 300])\n",
      "torch.Size([55, 32, 300])\n",
      "torch.Size([58, 32, 300])\n",
      "torch.Size([46, 32, 300])\n",
      "torch.Size([45, 32, 300])\n",
      "torch.Size([40, 32, 300])\n",
      "torch.Size([48, 32, 300])\n",
      "torch.Size([67, 32, 300])\n",
      "torch.Size([48, 32, 300])\n",
      "torch.Size([53, 32, 300])\n",
      "torch.Size([43, 32, 300])\n",
      "torch.Size([34, 32, 300])\n",
      "torch.Size([50, 32, 300])\n",
      "torch.Size([44, 32, 300])\n",
      "torch.Size([46, 32, 300])\n",
      "torch.Size([46, 32, 300])\n",
      "torch.Size([53, 32, 300])\n",
      "torch.Size([52, 32, 300])\n",
      "torch.Size([52, 32, 300])\n",
      "torch.Size([47, 32, 300])\n"
     ]
    },
    {
     "name": "stdout",
     "output_type": "stream",
     "text": [
      "torch.Size([34, 32, 300])\n",
      "torch.Size([43, 32, 300])\n",
      "torch.Size([45, 32, 300])\n",
      "torch.Size([41, 32, 300])\n",
      "torch.Size([48, 32, 300])\n",
      "torch.Size([39, 32, 300])\n",
      "torch.Size([46, 32, 300])\n",
      "torch.Size([45, 32, 300])\n",
      "torch.Size([46, 32, 300])\n",
      "torch.Size([45, 32, 300])\n",
      "torch.Size([48, 32, 300])\n",
      "torch.Size([43, 32, 300])\n",
      "torch.Size([38, 32, 300])\n",
      "torch.Size([64, 32, 300])\n",
      "torch.Size([62, 32, 300])\n",
      "torch.Size([34, 32, 300])\n",
      "torch.Size([42, 32, 300])\n",
      "torch.Size([50, 32, 300])\n",
      "torch.Size([53, 32, 300])\n",
      "torch.Size([46, 32, 300])\n",
      "torch.Size([52, 32, 300])\n",
      "torch.Size([51, 32, 300])\n",
      "torch.Size([43, 32, 300])\n",
      "torch.Size([52, 32, 300])\n",
      "torch.Size([50, 32, 300])\n",
      "torch.Size([53, 32, 300])\n",
      "torch.Size([36, 32, 300])\n",
      "torch.Size([44, 32, 300])\n",
      "torch.Size([60, 32, 300])\n",
      "torch.Size([48, 32, 300])\n",
      "torch.Size([54, 32, 300])\n",
      "torch.Size([44, 32, 300])\n",
      "torch.Size([48, 32, 300])\n",
      "torch.Size([43, 32, 300])\n",
      "torch.Size([39, 32, 300])\n",
      "torch.Size([52, 32, 300])\n",
      "torch.Size([49, 32, 300])\n",
      "torch.Size([54, 32, 300])\n",
      "torch.Size([64, 32, 300])\n",
      "torch.Size([52, 32, 300])\n",
      "torch.Size([79, 32, 300])\n",
      "torch.Size([46, 32, 300])\n",
      "torch.Size([49, 32, 300])\n",
      "torch.Size([55, 32, 300])\n",
      "torch.Size([52, 32, 300])\n",
      "torch.Size([48, 32, 300])\n",
      "torch.Size([42, 32, 300])\n",
      "torch.Size([41, 32, 300])\n",
      "torch.Size([50, 32, 300])\n",
      "torch.Size([45, 32, 300])\n",
      "torch.Size([44, 32, 300])\n",
      "torch.Size([47, 32, 300])\n",
      "torch.Size([43, 32, 300])\n",
      "torch.Size([49, 32, 300])\n",
      "torch.Size([41, 32, 300])\n",
      "torch.Size([47, 32, 300])\n",
      "torch.Size([37, 32, 300])\n",
      "torch.Size([55, 32, 300])\n",
      "torch.Size([50, 32, 300])\n",
      "torch.Size([53, 32, 300])\n",
      "torch.Size([58, 32, 300])\n",
      "torch.Size([55, 32, 300])\n",
      "torch.Size([48, 32, 300])\n",
      "torch.Size([45, 32, 300])\n",
      "torch.Size([33, 32, 300])\n",
      "torch.Size([44, 32, 300])\n",
      "torch.Size([46, 32, 300])\n",
      "torch.Size([44, 32, 300])\n",
      "torch.Size([61, 32, 300])\n",
      "torch.Size([38, 32, 300])\n",
      "torch.Size([51, 32, 300])\n",
      "torch.Size([45, 32, 300])\n",
      "torch.Size([41, 32, 300])\n",
      "torch.Size([77, 32, 300])\n",
      "torch.Size([48, 32, 300])\n",
      "torch.Size([51, 32, 300])\n",
      "torch.Size([42, 32, 300])\n",
      "torch.Size([58, 32, 300])\n",
      "torch.Size([51, 32, 300])\n",
      "torch.Size([43, 32, 300])\n",
      "torch.Size([39, 32, 300])\n",
      "torch.Size([45, 32, 300])\n",
      "torch.Size([51, 32, 300])\n",
      "torch.Size([49, 32, 300])\n",
      "torch.Size([42, 32, 300])\n",
      "torch.Size([50, 32, 300])\n",
      "torch.Size([44, 32, 300])\n",
      "torch.Size([59, 32, 300])\n",
      "torch.Size([49, 32, 300])\n",
      "torch.Size([45, 32, 300])\n",
      "torch.Size([50, 32, 300])\n",
      "torch.Size([66, 32, 300])\n",
      "torch.Size([51, 32, 300])\n",
      "torch.Size([58, 32, 300])\n",
      "torch.Size([47, 32, 300])\n",
      "torch.Size([40, 32, 300])\n",
      "torch.Size([38, 32, 300])\n",
      "torch.Size([42, 32, 300])\n",
      "torch.Size([77, 32, 300])\n",
      "torch.Size([44, 32, 300])\n",
      "torch.Size([47, 32, 300])\n",
      "torch.Size([34, 32, 300])\n",
      "torch.Size([40, 32, 300])\n",
      "torch.Size([38, 32, 300])\n",
      "torch.Size([49, 32, 300])\n",
      "torch.Size([43, 32, 300])\n",
      "torch.Size([48, 32, 300])\n",
      "torch.Size([54, 32, 300])\n",
      "torch.Size([51, 32, 300])\n",
      "torch.Size([49, 32, 300])\n",
      "torch.Size([48, 32, 300])\n",
      "torch.Size([47, 32, 300])\n",
      "torch.Size([50, 32, 300])\n",
      "torch.Size([45, 32, 300])\n",
      "torch.Size([55, 32, 300])\n",
      "torch.Size([41, 32, 300])\n",
      "torch.Size([35, 32, 300])\n",
      "torch.Size([40, 32, 300])\n",
      "torch.Size([37, 32, 300])\n",
      "torch.Size([37, 32, 300])\n",
      "torch.Size([44, 32, 300])\n",
      "torch.Size([49, 32, 300])\n",
      "torch.Size([51, 32, 300])\n",
      "torch.Size([50, 32, 300])\n",
      "torch.Size([46, 32, 300])\n",
      "torch.Size([55, 32, 300])\n",
      "torch.Size([48, 32, 300])\n",
      "torch.Size([48, 32, 300])\n",
      "torch.Size([54, 32, 300])\n",
      "torch.Size([46, 32, 300])\n",
      "torch.Size([51, 32, 300])\n",
      "torch.Size([59, 32, 300])\n",
      "torch.Size([60, 32, 300])\n",
      "torch.Size([57, 32, 300])\n",
      "torch.Size([47, 32, 300])\n",
      "torch.Size([50, 32, 300])\n",
      "torch.Size([51, 32, 300])\n",
      "torch.Size([49, 32, 300])\n",
      "torch.Size([51, 32, 300])\n",
      "torch.Size([69, 32, 300])\n",
      "torch.Size([52, 32, 300])\n",
      "torch.Size([42, 32, 300])\n",
      "torch.Size([87, 32, 300])\n",
      "torch.Size([64, 32, 300])\n",
      "torch.Size([66, 32, 300])\n",
      "torch.Size([63, 32, 300])\n",
      "torch.Size([41, 32, 300])\n",
      "torch.Size([47, 32, 300])\n",
      "torch.Size([56, 32, 300])\n",
      "torch.Size([42, 32, 300])\n",
      "torch.Size([50, 32, 300])\n",
      "torch.Size([48, 32, 300])\n",
      "torch.Size([56, 32, 300])\n",
      "torch.Size([41, 32, 300])\n",
      "torch.Size([46, 32, 300])\n",
      "torch.Size([56, 32, 300])\n",
      "torch.Size([52, 32, 300])\n",
      "torch.Size([74, 32, 300])\n",
      "torch.Size([43, 32, 300])\n",
      "torch.Size([40, 32, 300])\n",
      "torch.Size([59, 32, 300])\n",
      "torch.Size([46, 32, 300])\n",
      "torch.Size([48, 32, 300])\n",
      "torch.Size([39, 32, 300])\n",
      "torch.Size([40, 32, 300])\n",
      "torch.Size([45, 32, 300])\n",
      "torch.Size([61, 32, 300])\n",
      "torch.Size([44, 32, 300])\n",
      "torch.Size([47, 32, 300])\n",
      "torch.Size([48, 32, 300])\n",
      "torch.Size([50, 32, 300])\n",
      "torch.Size([38, 32, 300])\n",
      "torch.Size([53, 32, 300])\n",
      "torch.Size([40, 32, 300])\n",
      "torch.Size([45, 32, 300])\n",
      "torch.Size([48, 32, 300])\n",
      "torch.Size([47, 32, 300])\n",
      "torch.Size([47, 32, 300])\n",
      "torch.Size([55, 32, 300])\n",
      "torch.Size([49, 32, 300])\n",
      "torch.Size([59, 32, 300])\n",
      "torch.Size([53, 32, 300])\n",
      "torch.Size([64, 32, 300])\n",
      "torch.Size([45, 32, 300])\n",
      "torch.Size([43, 32, 300])\n",
      "torch.Size([43, 32, 300])\n",
      "torch.Size([47, 32, 300])\n",
      "torch.Size([41, 32, 300])\n",
      "torch.Size([46, 32, 300])\n",
      "torch.Size([38, 32, 300])\n",
      "torch.Size([47, 32, 300])\n",
      "torch.Size([45, 32, 300])\n",
      "torch.Size([40, 32, 300])\n",
      "torch.Size([51, 32, 300])\n",
      "torch.Size([44, 32, 300])\n",
      "torch.Size([57, 32, 300])\n",
      "torch.Size([39, 32, 300])\n",
      "torch.Size([42, 32, 300])\n",
      "torch.Size([55, 32, 300])\n",
      "torch.Size([71, 32, 300])\n",
      "torch.Size([37, 32, 300])\n",
      "torch.Size([44, 32, 300])\n",
      "torch.Size([60, 32, 300])\n",
      "torch.Size([48, 32, 300])\n",
      "torch.Size([88, 32, 300])\n",
      "torch.Size([41, 32, 300])\n",
      "torch.Size([44, 32, 300])\n",
      "torch.Size([42, 32, 300])\n",
      "torch.Size([70, 32, 300])\n",
      "torch.Size([50, 32, 300])\n",
      "torch.Size([62, 32, 300])\n",
      "torch.Size([43, 32, 300])\n",
      "torch.Size([40, 32, 300])\n",
      "torch.Size([56, 32, 300])\n",
      "torch.Size([62, 32, 300])\n",
      "torch.Size([49, 32, 300])\n",
      "torch.Size([45, 32, 300])\n",
      "torch.Size([54, 32, 300])\n",
      "torch.Size([52, 32, 300])\n",
      "torch.Size([50, 32, 300])\n",
      "torch.Size([53, 32, 300])\n",
      "torch.Size([53, 32, 300])\n",
      "torch.Size([47, 32, 300])\n",
      "torch.Size([49, 32, 300])\n",
      "torch.Size([51, 32, 300])\n",
      "torch.Size([44, 32, 300])\n",
      "torch.Size([40, 32, 300])\n",
      "torch.Size([57, 32, 300])\n",
      "torch.Size([43, 32, 300])\n",
      "torch.Size([54, 32, 300])\n",
      "torch.Size([49, 32, 300])\n",
      "torch.Size([44, 32, 300])\n",
      "torch.Size([42, 32, 300])\n",
      "torch.Size([57, 32, 300])\n",
      "torch.Size([52, 32, 300])\n",
      "torch.Size([47, 32, 300])\n",
      "torch.Size([63, 32, 300])\n",
      "torch.Size([47, 32, 300])\n",
      "torch.Size([49, 32, 300])\n",
      "torch.Size([43, 32, 300])\n",
      "torch.Size([36, 32, 300])\n",
      "torch.Size([49, 32, 300])\n",
      "torch.Size([51, 32, 300])\n",
      "torch.Size([40, 32, 300])\n",
      "torch.Size([48, 32, 300])\n",
      "torch.Size([46, 32, 300])\n",
      "torch.Size([44, 32, 300])\n",
      "torch.Size([41, 32, 300])\n",
      "torch.Size([51, 32, 300])\n",
      "torch.Size([41, 32, 300])\n",
      "torch.Size([59, 32, 300])\n",
      "torch.Size([46, 32, 300])\n",
      "torch.Size([50, 32, 300])\n",
      "torch.Size([54, 32, 300])\n",
      "torch.Size([44, 32, 300])\n",
      "torch.Size([45, 32, 300])\n",
      "torch.Size([63, 32, 300])\n",
      "torch.Size([67, 32, 300])\n",
      "torch.Size([54, 32, 300])\n",
      "torch.Size([37, 32, 300])\n",
      "torch.Size([47, 32, 300])\n",
      "torch.Size([41, 32, 300])\n",
      "torch.Size([55, 32, 300])\n",
      "torch.Size([42, 32, 300])\n",
      "torch.Size([44, 32, 300])\n",
      "torch.Size([46, 32, 300])\n",
      "torch.Size([45, 32, 300])\n",
      "torch.Size([41, 32, 300])\n",
      "torch.Size([62, 32, 300])\n",
      "torch.Size([64, 32, 300])\n",
      "torch.Size([46, 32, 300])\n",
      "torch.Size([54, 32, 300])\n",
      "torch.Size([45, 32, 300])\n",
      "torch.Size([52, 32, 300])\n",
      "torch.Size([35, 32, 300])\n",
      "torch.Size([42, 32, 300])\n",
      "torch.Size([53, 32, 300])\n",
      "torch.Size([47, 32, 300])\n",
      "torch.Size([43, 32, 300])\n",
      "torch.Size([47, 32, 300])\n",
      "torch.Size([42, 32, 300])\n",
      "torch.Size([44, 32, 300])\n",
      "torch.Size([74, 32, 300])\n",
      "torch.Size([65, 32, 300])\n",
      "torch.Size([47, 32, 300])\n",
      "torch.Size([65, 32, 300])\n",
      "torch.Size([42, 32, 300])\n",
      "torch.Size([58, 32, 300])\n",
      "torch.Size([49, 32, 300])\n",
      "torch.Size([47, 32, 300])\n",
      "torch.Size([47, 32, 300])\n",
      "torch.Size([54, 32, 300])\n",
      "torch.Size([50, 32, 300])\n",
      "torch.Size([42, 32, 300])\n",
      "torch.Size([46, 32, 300])\n",
      "torch.Size([82, 32, 300])\n",
      "torch.Size([49, 32, 300])\n",
      "torch.Size([44, 32, 300])\n",
      "torch.Size([43, 32, 300])\n",
      "torch.Size([83, 32, 300])\n",
      "torch.Size([68, 32, 300])\n",
      "torch.Size([41, 32, 300])\n",
      "torch.Size([49, 32, 300])\n",
      "torch.Size([67, 32, 300])\n",
      "torch.Size([42, 32, 300])\n",
      "torch.Size([49, 32, 300])\n",
      "torch.Size([42, 32, 300])\n",
      "torch.Size([46, 32, 300])\n",
      "torch.Size([44, 32, 300])\n",
      "torch.Size([55, 32, 300])\n",
      "torch.Size([40, 32, 300])\n",
      "torch.Size([48, 32, 300])\n",
      "torch.Size([50, 32, 300])\n",
      "torch.Size([58, 32, 300])\n",
      "torch.Size([45, 32, 300])\n",
      "torch.Size([52, 32, 300])\n",
      "torch.Size([39, 32, 300])\n",
      "torch.Size([42, 32, 300])\n",
      "torch.Size([44, 32, 300])\n",
      "torch.Size([46, 32, 300])\n",
      "torch.Size([42, 32, 300])\n",
      "torch.Size([53, 32, 300])\n",
      "torch.Size([59, 32, 300])\n",
      "torch.Size([56, 32, 300])\n",
      "torch.Size([37, 32, 300])\n",
      "torch.Size([38, 32, 300])\n",
      "torch.Size([44, 32, 300])\n",
      "torch.Size([45, 32, 300])\n",
      "torch.Size([48, 32, 300])\n",
      "torch.Size([42, 32, 300])\n",
      "torch.Size([41, 32, 300])\n",
      "torch.Size([49, 32, 300])\n",
      "torch.Size([47, 32, 300])\n",
      "torch.Size([43, 32, 300])\n",
      "torch.Size([45, 32, 300])\n",
      "torch.Size([48, 32, 300])\n",
      "torch.Size([53, 32, 300])\n",
      "torch.Size([44, 32, 300])\n",
      "torch.Size([37, 32, 300])\n",
      "torch.Size([39, 32, 300])\n",
      "torch.Size([54, 32, 300])\n",
      "torch.Size([42, 32, 300])\n",
      "torch.Size([33, 32, 300])\n",
      "torch.Size([41, 32, 300])\n",
      "torch.Size([45, 32, 300])\n",
      "torch.Size([44, 32, 300])\n",
      "torch.Size([39, 32, 300])\n",
      "torch.Size([43, 32, 300])\n",
      "torch.Size([37, 32, 300])\n",
      "torch.Size([41, 32, 300])\n",
      "torch.Size([44, 32, 300])\n",
      "torch.Size([52, 32, 300])\n"
     ]
    },
    {
     "name": "stdout",
     "output_type": "stream",
     "text": [
      "torch.Size([51, 32, 300])\n",
      "torch.Size([51, 32, 300])\n",
      "torch.Size([52, 32, 300])\n",
      "torch.Size([44, 32, 300])\n",
      "torch.Size([43, 32, 300])\n",
      "torch.Size([42, 32, 300])\n",
      "torch.Size([35, 32, 300])\n",
      "torch.Size([39, 32, 300])\n",
      "torch.Size([35, 32, 300])\n",
      "torch.Size([48, 32, 300])\n",
      "torch.Size([46, 32, 300])\n",
      "torch.Size([44, 32, 300])\n",
      "torch.Size([45, 32, 300])\n",
      "torch.Size([53, 29, 300])\n"
     ]
    }
   ],
   "source": [
    "for x,y in train_dataloader:\n",
    "    print(x.shape)"
   ]
  },
  {
   "cell_type": "markdown",
   "metadata": {},
   "source": [
    "<div class=\"alert alert-block alert-warning\">\n",
    "<b>Show the completed code to your teacher before proceeding</b>\n",
    "</div>"
   ]
  },
  {
   "cell_type": "markdown",
   "metadata": {},
   "source": [
    "So far so good. On to the network.\n",
    "\n",
    "### Task 6 (2 points): Utility Functions\n",
    "Remember how we defined our training and validation functions in the tutorial?\n",
    "\n",
    "You will need to do the same here.\n",
    "Note that while you can use the code from the tutorial for guidance, just copying it won't do the trick; unlike a feedforward net, a recurrent network produces a 3rd order output tensor of shape (max_seq_len, batch_size, num_output_classes).\n",
    "\n",
    "Similarly, our target Y is a 2nd order tensor of shape (max_seq_len, batch_size).\n",
    "\n",
    "You will need to properly treat the extra dimension of both the output and the target, since loss functions expect an order 2 output tensor and an order 1 target tensor. "
   ]
  },
  {
   "cell_type": "markdown",
   "metadata": {},
   "source": [
    "The functions `accuracy` and `measure_accurace`, which will be needed during evaluation, are already provided to you. "
   ]
  },
  {
   "cell_type": "code",
   "execution_count": 106,
   "metadata": {},
   "outputs": [],
   "source": [
    "def accuracy(predictions: LongTensor, truth: LongTensor, ignore_idx: int) -> Tuple[int, int]:\n",
    "    \"\"\"\n",
    "    Compute the total count of non-ignored values and total count of correctly predicted values.\n",
    "        \n",
    "    :param predictions: the network's predictions\n",
    "    :param truth: the true output labels\n",
    "    :param ignore_idx: the output padding value, to be ignored in accuracy calculation\n",
    "    :return: the total count of non-ignored values, the total count of correctly predicted values\n",
    "    \"\"\"\n",
    "    correct_words = torch.ones(predictions.size())\n",
    "    # Zero out the incorrectly predicted values.\n",
    "    correct_words[predictions != truth] = 0\n",
    "    # Mark with 1 the values that need to be ignored.\n",
    "    correct_words[truth == ignore_idx] = 1\n",
    "    # Calculate the total count of correctly predicted values, incl. the ignored ones.\n",
    "    num_correct_words = correct_words.sum().item()\n",
    "    # Calculate the number of the values to be ignored.\n",
    "    num_masked_words = len(truth[truth == ignore_idx])\n",
    "    #\n",
    "    count_non_ignored = predictions.shape[0] * predictions.shape[1] - num_masked_words\n",
    "    count_correct = num_correct_words - num_masked_words\n",
    "    return count_non_ignored, count_correct\n",
    "\n",
    "\n",
    "def measure_accuracy(network: torch.nn.Module, dataloader: DataLoader, device: str) -> float:\n",
    "    \"\"\"\n",
    "    Compute the network's accuracy across all batches.\n",
    "    \n",
    "    :param network: the trained network\n",
    "    :param dataloader: the dataloader for the validation data\n",
    "    :param device: the device to store the data on (\"cpu\" or \"cuda\")\n",
    "    :return: the network's accuracy\n",
    "    \"\"\"\n",
    "    correct = 0\n",
    "    total = 0\n",
    "    # Iterate over the batches.\n",
    "    for x_batch, y_batch in dataloader:\n",
    "        # Get the network predictions.\n",
    "        pred = network(x_batch.to(device))\n",
    "        # Compute the values to measure accuracy for the current batch.\n",
    "        local_total, local_correct = accuracy(pred.argmax(dim=-1), y_batch.to(device), ignore_idx=0)\n",
    "        # Update the total counts.\n",
    "        correct += local_correct\n",
    "        total += local_total\n",
    "    # Compute the final accuracy across all batches.\n",
    "    acc = correct/total\n",
    "    return acc"
   ]
  },
  {
   "cell_type": "markdown",
   "metadata": {},
   "source": [
    "Complete the functions `train_batch`, `train_epoch`, `eval_batch` and `eval_epoch`."
   ]
  },
  {
   "cell_type": "code",
   "execution_count": 107,
   "metadata": {},
   "outputs": [],
   "source": [
    "def train_batch(\n",
    "    network: torch.nn.Module,\n",
    "    X_batch: FloatTensor,\n",
    "    Y_batch: LongTensor,\n",
    "    loss_fn: Callable[[FloatTensor, FloatTensor], FloatTensor],  \n",
    "    optimizer: torch.optim.Optimizer\n",
    ") -> float:\n",
    "    network.train()\n",
    "    \n",
    "    prediction_batch = network(X_batch)\n",
    "    batch_loss = loss_fn(prediction_batch.view(-1), Y_batch)\n",
    "    batch_loss.loss()\n",
    "    optimizer.step()\n",
    "    \n",
    "    optimizer.zero_grad()  # gradient reset\n",
    "    return batch_loss.item()\n",
    "    \n",
    "\n",
    "def train_epoch(\n",
    "    network: torch.nn.Module, \n",
    "    dataloader: DataLoader,\n",
    "    loss_fn: Callable[[FloatTensor, FloatTensor], FloatTensor],\n",
    "    optimizer: torch.optim.Optimizer, \n",
    "    device: str\n",
    ") -> float:\n",
    "    \n",
    "    loss = 0.\n",
    "    # Iterate over the batches in the dataloader.\n",
    "    for i, (x_batch, y_batch) in enumerate(dataloader):\n",
    "        x_batch = x_batch.to(device)  # convert back to your chosen device\n",
    "        y_batch = y_batch.to(device)\n",
    "        loss += train_batch(\n",
    "            network=network, X_batch=x_batch, Y_batch=y_batch, loss_fn=loss_fn, optimizer=optimizer\n",
    "        )\n",
    "    loss /= (i+1) # divide the loss by the number of batches for consistency \n",
    "    return loss\n",
    "\n",
    "def eval_batch(\n",
    "    network: torch.nn.Module,\n",
    "    X_batch: FloatTensor,\n",
    "    Y_batch: LongTensor,\n",
    "    loss_fn: Callable[[FloatTensor, LongTensor], FloatTensor]\n",
    ") -> float:\n",
    "    network.eval()\n",
    "    # Evaluate.\n",
    "    with torch.no_grad():\n",
    "        prediction_batch = network(X_batch)  # forward pass\n",
    "        batch_loss = loss_fn(prediction_batch.view(-1, predication_batch.shape[-1]), Y_batch.view(-1)) #loss calculation\n",
    "    return batch_loss.item()\n",
    "\n",
    "def eval_epoch(\n",
    "    network: torch.nn.Module, \n",
    "    dataloader: DataLoader,\n",
    "    loss_fn: Callable[[FloatTensor, LongTensor], FloatTensor],\n",
    "    device: str\n",
    ") -> float:\n",
    "        \n",
    "    loss = 0.\n",
    "    # Iterate over the batches in the dataloader.\n",
    "    for i, (x_batch, y_batch) in enumerate(dataloader):\n",
    "        x_batch = x_batch.to(device)  # convert back to your chosen device\n",
    "        y_batch = y_batch.to(device)\n",
    "        loss += train_batch(\n",
    "            network=network, X_batch=x_batch, Y_batch=y_batch, loss_fn=loss_fn)\n",
    "        \n",
    "    loss /= (i+1) # divide the loss by the number of epoches for consistency \n",
    "    return loss"
   ]
  },
  {
   "cell_type": "code",
   "execution_count": null,
   "metadata": {},
   "outputs": [],
   "source": []
  },
  {
   "cell_type": "markdown",
   "metadata": {},
   "source": [
    "<div class=\"alert alert-block alert-warning\">\n",
    "<b>Show the completed code to your teacher before proceeding</b>\n",
    "</div>"
   ]
  },
  {
   "cell_type": "markdown",
   "metadata": {},
   "source": [
    "### Task 7 (2 points): SRN POS tagging\n",
    "Define a simple recurrent network, with input size compatible with the vector dimensionality, output size compatible with the number of output classes (the number of different POS tags + 1) and a hidden size of your own choice."
   ]
  },
  {
   "cell_type": "markdown",
   "metadata": {},
   "source": [
    "Use `\"tanh\"` as your hidden layer activation, and choose **an appropriate combination of output activation and loss function** (consider the task at hand and refer to the documentation or the tutorial if in doubt).\n",
    "\n",
    "Then instantiate an optimizer over your network and train the network for a number of epochs, measuring and printing all metrics in the process (train and validation loss and accuracy).\n",
    "\n",
    "_Hint_: Use `measure_accuracy` (defined earlier) to obtain accuracy.\n",
    "\n",
    "Plot the loss and accuracy curves over the training process."
   ]
  },
  {
   "cell_type": "code",
   "execution_count": null,
   "metadata": {},
   "outputs": [],
   "source": [
    "srn = NotImplemented\n",
    "\n",
    "opt = torch.optim.Adam(srn.parameters(), lr=0.05) # check learning rate in case of error\n",
    "loss_fn = nn.NLLLoss()"
   ]
  },
  {
   "cell_type": "code",
   "execution_count": null,
   "metadata": {},
   "outputs": [],
   "source": []
  },
  {
   "cell_type": "code",
   "execution_count": null,
   "metadata": {},
   "outputs": [],
   "source": [
    "# Your training script here\n",
    "#hyper params\n",
    "lr = 0.05\n",
    "num_epoch = 2\n",
    "total_num_sam = len(data_s)\n",
    "batch_size_ = 4\n",
    "num_itter = total_num_sam // batch_size_\n",
    "\n",
    "for epoce in range(num_epoch):\n",
    "    predict = srn(train_dataloaderßß)"
   ]
  },
  {
   "cell_type": "code",
   "execution_count": null,
   "metadata": {},
   "outputs": [],
   "source": [
    "# Your loss plotting here\n",
    "\n",
    "NotImplemented"
   ]
  },
  {
   "cell_type": "code",
   "execution_count": null,
   "metadata": {},
   "outputs": [],
   "source": [
    "# Your accuracy plotting here\n",
    "\n",
    "NotImplemented"
   ]
  },
  {
   "cell_type": "markdown",
   "metadata": {},
   "source": [
    "The test accuracy on this task should be well over 90%. If you are getting an accuracy much below this, check your code, play with your hyperparameters and try to improve."
   ]
  },
  {
   "cell_type": "markdown",
   "metadata": {},
   "source": [
    "<div class=\"alert alert-block alert-warning\">\n",
    "<b>Show the completed code to your teacher before proceeding</b>\n",
    "</div>"
   ]
  },
  {
   "cell_type": "markdown",
   "metadata": {},
   "source": [
    "### Task 8 (2 points): Error analysis\n",
    "Find 2-4 sentences where the network predicted wrong POS tags. For at least 2 of the mistakes, make suggestions as to why they were made. Refer to the [documentation](https://www.ling.upenn.edu/courses/Fall_2003/ling001/penn_treebank_pos.html) for the POS tag descriptions."
   ]
  },
  {
   "cell_type": "code",
   "execution_count": null,
   "metadata": {},
   "outputs": [],
   "source": []
  },
  {
   "cell_type": "markdown",
   "metadata": {},
   "source": [
    "### Task 9 (2 points): Extended error analysis\n",
    "\n",
    "What are the most commonly confused pairs of POS tags (select the top 3-5 pairs)? Provide illustrations from the data and make suggestions as to why these tag pairs are frequently confused."
   ]
  },
  {
   "cell_type": "code",
   "execution_count": null,
   "metadata": {},
   "outputs": [],
   "source": []
  },
  {
   "cell_type": "markdown",
   "metadata": {},
   "source": [
    "### Congratulations!\n",
    "🎉 You are done with the required part! "
   ]
  },
  {
   "cell_type": "markdown",
   "metadata": {},
   "source": [
    "### Optional\n",
    "\n",
    "RNNs have limited expressive capacity that can be surpassed by more complicated variants such as [Gated Recurrent Units](https://en.wikipedia.org/wiki/Gated_recurrent_unit) and [Long Short-Term Memory Units](https://en.wikipedia.org/wiki/Long_short-term_memory); replacing your RNN with those could easily improve the performance.\n",
    "\n",
    "If you found the previous part easy and are already done, you can use other neural architectures to do the same task on the same dataset and compare their performance.  (There will be no support provided for this, or points, but you are welcome to explore this for your own understanding :))\n",
    "\n",
    "Whatever your design choices are, keep the torch documentation close at all times! Do not reinvent the wheel, use existing abstractions whenever possible (but make sure you use them the right way!). Take measures against overfitting: regularize with dropout and/or weight decay and keep track of the validation set performance to stop training early if needed."
   ]
  },
  {
   "cell_type": "code",
   "execution_count": null,
   "metadata": {},
   "outputs": [],
   "source": []
  }
 ],
 "metadata": {
  "kernelspec": {
   "display_name": "Python 3 (ipykernel)",
   "language": "python",
   "name": "python3"
  },
  "language_info": {
   "codemirror_mode": {
    "name": "ipython",
    "version": 3
   },
   "file_extension": ".py",
   "mimetype": "text/x-python",
   "name": "python",
   "nbconvert_exporter": "python",
   "pygments_lexer": "ipython3",
   "version": "3.8.12"
  }
 },
 "nbformat": 4,
 "nbformat_minor": 4
}
